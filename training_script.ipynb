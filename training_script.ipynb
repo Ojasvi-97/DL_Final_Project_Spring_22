{
 "cells": [
  {
   "cell_type": "code",
   "execution_count": 1,
   "id": "4b9413de",
   "metadata": {
    "scrolled": true
   },
   "outputs": [],
   "source": [
    "#  pip install --upgrade torch torchvision torchaudio"
   ]
  },
  {
   "cell_type": "code",
   "execution_count": 2,
   "id": "f9b659ab",
   "metadata": {},
   "outputs": [],
   "source": [
    "# pip install --quiet --user \"torch>=1.6, <1.9\" \"lightning-bolts\" \"pytorch-lightning>=1.3\" \"torchmetrics>=0.3\" \"torchvision\" \"torchtext\""
   ]
  },
  {
   "cell_type": "code",
   "execution_count": 3,
   "id": "05b50064",
   "metadata": {},
   "outputs": [],
   "source": [
    "from torch.utils.data import Dataset\n",
    "import os\n",
    "import pandas as pd\n",
    "from torchvision.io import read_image\n",
    "from torchvision import transforms\n",
    "from torchvision.transforms import ToTensor, Lambda\n",
    "from PIL import Image\n",
    "import random\n",
    "from torch.utils.data import DataLoader\n",
    "import torch.nn as nn\n",
    "import torch\n",
    "from torch.nn.functional import cosine_similarity\n",
    "from pytorch_lightning import LightningModule, Trainer, seed_everything\n",
    "from pytorch_lightning.callbacks import LearningRateMonitor\n",
    "from pytorch_lightning.loggers import WandbLogger\n",
    "from torch.optim.lr_scheduler import OneCycleLR\n",
    "import pytorch_lightning as pl"
   ]
  },
  {
   "cell_type": "code",
   "execution_count": 4,
   "id": "bcb85c3c",
   "metadata": {},
   "outputs": [],
   "source": [
    "mypath = os.path.join('c:', os.sep, 'Users', \"ojubh\", \"Desktop\", \"images\")"
   ]
  },
  {
   "cell_type": "code",
   "execution_count": 5,
   "id": "275ec76d",
   "metadata": {},
   "outputs": [
    {
     "name": "stderr",
     "output_type": "stream",
     "text": [
      "Global seed set to 7\n"
     ]
    }
   ],
   "source": [
    "seed_everything(7)\n",
    "NUM_WORKERS = int(os.cpu_count() / 2)"
   ]
  },
  {
   "cell_type": "code",
   "execution_count": 6,
   "id": "a65077a8",
   "metadata": {},
   "outputs": [],
   "source": [
    "def create_splits(csv_file):\n",
    "    df = pd.read_csv(csv_file)\n",
    "    \n",
    "    all_data = df.values.tolist()\n",
    "    validation_size = int(0.2*len(all_data))\n",
    "   \n",
    "    validation_split = random.sample(all_data, validation_size)\n",
    "    try:\n",
    "        for x in validation_split:\n",
    "            all_data.remove(x)\n",
    "    except:\n",
    "        pass\n",
    "    \n",
    "    validation_df = pd.DataFrame(validation_split, columns = [\"index\",\"article_id\", \"index_group_name\", \"detail_desc\", \"location\"]).reset_index()\n",
    "    train_df = pd.DataFrame(all_data, columns = [\"index\",\"article_id\", \"index_group_name\", \"detail_desc\", \"location\"]).reset_index()\n",
    "    \n",
    "    return train_df, validation_df\n",
    "    \n"
   ]
  },
  {
   "cell_type": "code",
   "execution_count": 7,
   "id": "6f13d064",
   "metadata": {},
   "outputs": [],
   "source": [
    "\n",
    "class HMDataset(Dataset):\n",
    "    def __init__(self, data, image_dir):\n",
    "        self.df = data\n",
    "        self.image_dir = image_dir\n",
    "        self.preprocess = transforms.Compose([\n",
    "            transforms.Resize(256),\n",
    "            transforms.CenterCrop(224),\n",
    "            transforms.ToTensor(),\n",
    "            transforms.Normalize(mean=[0.485, 0.456, 0.406], std=[0.229, 0.224, 0.225]),\n",
    "        ])\n",
    "\n",
    "\n",
    "    def __len__(self):\n",
    "        return len(self.df)\n",
    "\n",
    "    def __getitem__(self, idx):\n",
    "        \n",
    "        ref_data = self.df.iloc[idx]\n",
    "#         ref_image = read_image(os.path.join(self.image_dir,*ref_data[\"location\"].split(\"/\")))\n",
    "        ref_image = Image.open(os.path.join(self.image_dir,*ref_data[\"location\"].split(\"/\")))\n",
    "        ref_image = self.preprocess(ref_image)\n",
    "        ref_text = ref_data[\"detail_desc\"]\n",
    "        \n",
    "        pos_data = pd.DataFrame(self.df[self.df[\"index_group_name\"] == ref_data[\"index_group_name\"]].sample(n=1))\n",
    "        pos_data = pos_data.iloc[0]\n",
    "        pos_image = Image.open(os.path.join(self.image_dir,*pos_data[\"location\"].split(\"/\")))\n",
    "        pos_image = self.preprocess(pos_image)\n",
    "        pos_text = pos_data[\"detail_desc\"]\n",
    "        \n",
    "        neg_data = pd.DataFrame(self.df[self.df[\"index_group_name\"] != ref_data[\"index_group_name\"]].sample(n=1))\n",
    "        neg_data = neg_data.iloc[0]\n",
    "        neg_image = Image.open(os.path.join(self.image_dir,*neg_data[\"location\"].split(\"/\")))\n",
    "        neg_image = self.preprocess(neg_image)\n",
    "        neg_text = neg_data[\"detail_desc\"]\n",
    "        \n",
    "        attributes = {\n",
    "            \"ref_image\": ref_image,\n",
    "            \"ref_text\": ref_text,\n",
    "            \"pos_image\": pos_image,\n",
    "            \"pos_text\": pos_text,\n",
    "            \"neg_image\": neg_image,\n",
    "            \"neg_text\": neg_text\n",
    "        }\n",
    "        \n",
    "        \n",
    "        \n",
    "        return attributes"
   ]
  },
  {
   "cell_type": "code",
   "execution_count": 8,
   "id": "6ffd85b7",
   "metadata": {},
   "outputs": [],
   "source": [
    "class HMDataModule(pl.LightningDataModule):\n",
    "    def __init__(self, csv_file=\"\", img_dir=\"\", batch_size= 64):\n",
    "        super().__init__()\n",
    "        self.batch_size = batch_size\n",
    "        self.img_dir = img_dir\n",
    "        self.train_df, self.val_df = create_splits(csv_file)\n",
    "        \n",
    "\n",
    "    def setup(self, stage=None):\n",
    "        self.train_data = HMDataset(data=self.train_df,image_dir=self.img_dir)\n",
    "        self.val_data = HMDataset(data=self.val_df,image_dir=self.img_dir)\n",
    "        \n",
    "\n",
    "    def train_dataloader(self):\n",
    "        return DataLoader(self.train_data, batch_size=self.batch_size, shuffle=True, num_workers=NUM_WORKERS)\n",
    "\n",
    "    def val_dataloader(self):\n",
    "        return DataLoader(self.val_data, batch_size=self.batch_size, num_workers=NUM_WORKERS)"
   ]
  },
  {
   "cell_type": "code",
   "execution_count": 9,
   "id": "2f3f822b",
   "metadata": {},
   "outputs": [],
   "source": [
    "\n",
    "class VisualEmbd(nn.Module):\n",
    "    # resnet last 2 layers\n",
    "    # dense layers\n",
    "    # similarity\n",
    "    def __init__(self):\n",
    "        super().__init__()\n",
    "        self.model = torch.hub.load('pytorch/vision:v0.10.0', 'resnet18', pretrained=True)\n",
    "        self.af = nn.ReLU()\n",
    "        self.last_layer = nn.Linear(1000, 256)\n",
    "\n",
    "        count=0\n",
    "        for child in self.model.children():\n",
    "            count+=1\n",
    "            if count < 7:\n",
    "                for param in child.parameters():\n",
    "                    param.requires_grad = False\n",
    "    \n",
    "    \n",
    "\n",
    "    def forward(self, x):\n",
    "        x = self.model(x)\n",
    "        x = self.last_layer(self.af(x))\n",
    "        return x"
   ]
  },
  {
   "cell_type": "code",
   "execution_count": 10,
   "id": "dc4007ec",
   "metadata": {},
   "outputs": [],
   "source": [
    "class LitVisualEmbd(LightningModule):\n",
    "    def __init__(self, lr=0.01, margin=1.0):\n",
    "        super().__init__()\n",
    "        self.save_hyperparameters()\n",
    "        self.model = VisualEmbd()\n",
    "        self.margin = margin\n",
    "        self.lr = lr\n",
    "        \n",
    "    def forward(self, x):\n",
    "        x = self.model(x)\n",
    "        return x\n",
    "    \n",
    "    def training_step(self, batch, batch_idx):\n",
    "        return self.evaluate(batch, batch_idx, stage=\"train\")\n",
    "    \n",
    "    def evaluate(self, batch, batch_idx, stage=None):\n",
    "        ref_batch = batch[\"ref_image\"]\n",
    "        pos_batch = batch[\"pos_image\"]\n",
    "        neg_batch = batch[\"neg_image\"]\n",
    "        \n",
    "        ref_embd = self(ref_batch)\n",
    "        pos_embd = self(pos_batch)\n",
    "        neg_embd = self(neg_batch)\n",
    "        \n",
    "        pos_sim = cosine_similarity(ref_embd, pos_embd, dim=1)\n",
    "        neg_sim = cosine_similarity(ref_embd, neg_embd, dim=1)\n",
    "        \n",
    "        loss = torch.relu(neg_sim - pos_sum + self.margin)\n",
    "        \n",
    "        if stage:\n",
    "            self.log(f\"{stage}_loss\", loss.mean(), prog_bar=True)\n",
    "#             self.log(f\"{stage}_acc\", acc, prog_bar=True)\n",
    "\n",
    "        return loss.mean()\n",
    "\n",
    "    def validation_step(self, batch, batch_idx):\n",
    "        self.evaluate(batch, batch_idx, \"val\")\n",
    "        \n",
    "    def configure_optimizers(self):\n",
    "        optimizer = torch.optim.SGD(\n",
    "            self.parameters(),\n",
    "            lr=self.hparams.lr,\n",
    "            momentum=0.9,\n",
    "            weight_decay=5e-4,\n",
    "        )\n",
    "#         steps_per_epoch = 40000 // BATCH_SIZE\n",
    "        return {\"optimizer\": optimizer}\n",
    "\n",
    "        \n"
   ]
  },
  {
   "cell_type": "code",
   "execution_count": 11,
   "id": "5c08ac92",
   "metadata": {},
   "outputs": [],
   "source": [
    "hm_dm = HMDataModule(\n",
    "    csv_file=\"balanced_data.csv\",\n",
    "    img_dir=mypath\n",
    ")"
   ]
  },
  {
   "cell_type": "code",
   "execution_count": null,
   "id": "518013ec",
   "metadata": {},
   "outputs": [
    {
     "name": "stderr",
     "output_type": "stream",
     "text": [
      "Using cache found in C:\\Users\\ojubh/.cache\\torch\\hub\\pytorch_vision_v0.10.0\n",
      "C:\\Users\\ojubh\\AppData\\Roaming\\Python\\Python38\\site-packages\\pytorch_lightning\\trainer\\connectors\\callback_connector.py:96: LightningDeprecationWarning: Setting `Trainer(progress_bar_refresh_rate=10)` is deprecated in v1.5 and will be removed in v1.7. Please pass `pytorch_lightning.callbacks.progress.TQDMProgressBar` with `refresh_rate` directly to the Trainer's `callbacks` argument instead. Or, to disable the progress bar pass `enable_progress_bar = False` to the Trainer.\n",
      "  rank_zero_deprecation(\n",
      "GPU available: False, used: False\n",
      "TPU available: False, using: 0 TPU cores\n",
      "IPU available: False, using: 0 IPUs\n",
      "HPU available: False, using: 0 HPUs\n",
      "\n",
      "  | Name  | Type       | Params\n",
      "-------------------------------------\n",
      "0 | model | VisualEmbd | 11.9 M\n",
      "-------------------------------------\n",
      "11.3 M    Trainable params\n",
      "683 K     Non-trainable params\n",
      "11.9 M    Total params\n",
      "47.783    Total estimated model params size (MB)\n"
     ]
    },
    {
     "data": {
      "application/vnd.jupyter.widget-view+json": {
       "model_id": "36942fa37ff94029b205c79962310331",
       "version_major": 2,
       "version_minor": 0
      },
      "text/plain": [
       "Sanity Checking: 0it [00:00, ?it/s]"
      ]
     },
     "metadata": {},
     "output_type": "display_data"
    }
   ],
   "source": [
    "model = LitVisualEmbd()\n",
    "model.datamodule = hm_dm\n",
    "\n",
    "trainer = Trainer(\n",
    "          progress_bar_refresh_rate=10,\n",
    "          max_epochs=10,\n",
    "      )\n",
    "trainer.fit(model, hm_dm)"
   ]
  },
  {
   "cell_type": "code",
   "execution_count": null,
   "id": "9f6e5c4f",
   "metadata": {},
   "outputs": [],
   "source": []
  }
 ],
 "metadata": {
  "kernelspec": {
   "display_name": "Python 3",
   "language": "python",
   "name": "python3"
  },
  "language_info": {
   "codemirror_mode": {
    "name": "ipython",
    "version": 3
   },
   "file_extension": ".py",
   "mimetype": "text/x-python",
   "name": "python",
   "nbconvert_exporter": "python",
   "pygments_lexer": "ipython3",
   "version": "3.8.8"
  }
 },
 "nbformat": 4,
 "nbformat_minor": 5
}
