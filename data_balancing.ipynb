{
 "cells": [
  {
   "cell_type": "code",
   "execution_count": 1,
   "id": "49b22ee5",
   "metadata": {},
   "outputs": [],
   "source": [
    "import os\n",
    "import pandas as pd"
   ]
  },
  {
   "cell_type": "code",
   "execution_count": 3,
   "id": "d4c4c3b0",
   "metadata": {},
   "outputs": [],
   "source": [
    "articles_df = pd.read_csv(\"C:/Users/ojubh\\/Desktop/SEMESTER 2/Deep Learning/Final_Project/data/articles.csv\")"
   ]
  },
  {
   "cell_type": "code",
   "execution_count": 4,
   "id": "42fb6ffd",
   "metadata": {},
   "outputs": [
    {
     "data": {
      "text/plain": [
       "105542"
      ]
     },
     "execution_count": 4,
     "metadata": {},
     "output_type": "execute_result"
    }
   ],
   "source": [
    "len(articles_df)"
   ]
  },
  {
   "cell_type": "code",
   "execution_count": 5,
   "id": "41d2f0e3",
   "metadata": {},
   "outputs": [],
   "source": [
    "articles_df = articles_df[[\"article_id\", \"index_group_name\", \"detail_desc\"]]"
   ]
  },
  {
   "cell_type": "code",
   "execution_count": 6,
   "id": "4c666123",
   "metadata": {
    "scrolled": true
   },
   "outputs": [
    {
     "data": {
      "text/html": [
       "<div>\n",
       "<style scoped>\n",
       "    .dataframe tbody tr th:only-of-type {\n",
       "        vertical-align: middle;\n",
       "    }\n",
       "\n",
       "    .dataframe tbody tr th {\n",
       "        vertical-align: top;\n",
       "    }\n",
       "\n",
       "    .dataframe thead th {\n",
       "        text-align: right;\n",
       "    }\n",
       "</style>\n",
       "<table border=\"1\" class=\"dataframe\">\n",
       "  <thead>\n",
       "    <tr style=\"text-align: right;\">\n",
       "      <th></th>\n",
       "      <th>article_id</th>\n",
       "      <th>index_group_name</th>\n",
       "      <th>detail_desc</th>\n",
       "    </tr>\n",
       "  </thead>\n",
       "  <tbody>\n",
       "    <tr>\n",
       "      <th>0</th>\n",
       "      <td>108775015</td>\n",
       "      <td>Ladieswear</td>\n",
       "      <td>Jersey top with narrow shoulder straps.</td>\n",
       "    </tr>\n",
       "    <tr>\n",
       "      <th>1</th>\n",
       "      <td>108775044</td>\n",
       "      <td>Ladieswear</td>\n",
       "      <td>Jersey top with narrow shoulder straps.</td>\n",
       "    </tr>\n",
       "    <tr>\n",
       "      <th>2</th>\n",
       "      <td>108775051</td>\n",
       "      <td>Ladieswear</td>\n",
       "      <td>Jersey top with narrow shoulder straps.</td>\n",
       "    </tr>\n",
       "    <tr>\n",
       "      <th>3</th>\n",
       "      <td>110065001</td>\n",
       "      <td>Ladieswear</td>\n",
       "      <td>Microfibre T-shirt bra with underwired, moulde...</td>\n",
       "    </tr>\n",
       "    <tr>\n",
       "      <th>4</th>\n",
       "      <td>110065002</td>\n",
       "      <td>Ladieswear</td>\n",
       "      <td>Microfibre T-shirt bra with underwired, moulde...</td>\n",
       "    </tr>\n",
       "  </tbody>\n",
       "</table>\n",
       "</div>"
      ],
      "text/plain": [
       "   article_id index_group_name  \\\n",
       "0   108775015       Ladieswear   \n",
       "1   108775044       Ladieswear   \n",
       "2   108775051       Ladieswear   \n",
       "3   110065001       Ladieswear   \n",
       "4   110065002       Ladieswear   \n",
       "\n",
       "                                         detail_desc  \n",
       "0            Jersey top with narrow shoulder straps.  \n",
       "1            Jersey top with narrow shoulder straps.  \n",
       "2            Jersey top with narrow shoulder straps.  \n",
       "3  Microfibre T-shirt bra with underwired, moulde...  \n",
       "4  Microfibre T-shirt bra with underwired, moulde...  "
      ]
     },
     "execution_count": 6,
     "metadata": {},
     "output_type": "execute_result"
    }
   ],
   "source": [
    "articles_df.head()"
   ]
  },
  {
   "cell_type": "code",
   "execution_count": 8,
   "id": "6d8e66f1",
   "metadata": {},
   "outputs": [
    {
     "data": {
      "text/plain": [
       "array(['Ladieswear', 'Baby/Children', 'Menswear', 'Sport', 'Divided'],\n",
       "      dtype=object)"
      ]
     },
     "execution_count": 8,
     "metadata": {},
     "output_type": "execute_result"
    }
   ],
   "source": [
    "articles_df[\"index_group_name\"].unique()"
   ]
  },
  {
   "cell_type": "code",
   "execution_count": 7,
   "id": "96f1209a",
   "metadata": {},
   "outputs": [],
   "source": [
    "index_group = articles_df.groupby(\"index_group_name\")"
   ]
  },
  {
   "cell_type": "code",
   "execution_count": 11,
   "id": "c8f2920c",
   "metadata": {},
   "outputs": [
    {
     "name": "stdout",
     "output_type": "stream",
     "text": [
      "name: Baby/Children | size: 34711\n",
      "name: Divided | size: 15149\n",
      "name: Ladieswear | size: 39737\n",
      "name: Menswear | size: 12553\n",
      "name: Sport | size: 3392\n"
     ]
    }
   ],
   "source": [
    "for name, group in index_group:\n",
    "    print('name:', name, \"|\", \"size:\", len(group))"
   ]
  },
  {
   "cell_type": "code",
   "execution_count": 21,
   "id": "74aae2ba",
   "metadata": {},
   "outputs": [],
   "source": [
    "#no sampling for \"Sport\"\n",
    "sport_df = articles_df[articles_df[\"index_group_name\"] == \"Sport\"]"
   ]
  },
  {
   "cell_type": "code",
   "execution_count": 22,
   "id": "520e3b8a",
   "metadata": {},
   "outputs": [],
   "source": [
    "baby_children_df = articles_df[articles_df[\"index_group_name\"] == \"Baby/Children\"].sample(n=11000)"
   ]
  },
  {
   "cell_type": "code",
   "execution_count": 23,
   "id": "9556b5f7",
   "metadata": {},
   "outputs": [],
   "source": [
    "divided_df = articles_df[articles_df[\"index_group_name\"] == \"Divided\"].sample(n=11000)"
   ]
  },
  {
   "cell_type": "code",
   "execution_count": 24,
   "id": "999b2f26",
   "metadata": {},
   "outputs": [],
   "source": [
    "ladieswear_df = articles_df[articles_df[\"index_group_name\"] == \"Ladieswear\"].sample(n=11000)"
   ]
  },
  {
   "cell_type": "code",
   "execution_count": 25,
   "id": "86c4408a",
   "metadata": {},
   "outputs": [],
   "source": [
    "menswear_df = articles_df[articles_df[\"index_group_name\"] == \"Menswear\"].sample(n=11000)"
   ]
  },
  {
   "cell_type": "code",
   "execution_count": 28,
   "id": "034b8d08",
   "metadata": {},
   "outputs": [],
   "source": [
    "balanced_df = pd.concat([sport_df,\n",
    "                        baby_children_df,\n",
    "                        divided_df,\n",
    "                        ladieswear_df,\n",
    "                        menswear_df], axis=0, ignore_index=True)"
   ]
  },
  {
   "cell_type": "code",
   "execution_count": 29,
   "id": "0cfb959e",
   "metadata": {},
   "outputs": [
    {
     "data": {
      "text/html": [
       "<div>\n",
       "<style scoped>\n",
       "    .dataframe tbody tr th:only-of-type {\n",
       "        vertical-align: middle;\n",
       "    }\n",
       "\n",
       "    .dataframe tbody tr th {\n",
       "        vertical-align: top;\n",
       "    }\n",
       "\n",
       "    .dataframe thead th {\n",
       "        text-align: right;\n",
       "    }\n",
       "</style>\n",
       "<table border=\"1\" class=\"dataframe\">\n",
       "  <thead>\n",
       "    <tr style=\"text-align: right;\">\n",
       "      <th></th>\n",
       "      <th>article_id</th>\n",
       "      <th>index_group_name</th>\n",
       "      <th>detail_desc</th>\n",
       "    </tr>\n",
       "  </thead>\n",
       "  <tbody>\n",
       "    <tr>\n",
       "      <th>0</th>\n",
       "      <td>145872001</td>\n",
       "      <td>Sport</td>\n",
       "      <td>Long-sleeved sports top in fast-drying, breath...</td>\n",
       "    </tr>\n",
       "    <tr>\n",
       "      <th>1</th>\n",
       "      <td>145872037</td>\n",
       "      <td>Sport</td>\n",
       "      <td>Long-sleeved sports top in fast-drying, breath...</td>\n",
       "    </tr>\n",
       "    <tr>\n",
       "      <th>2</th>\n",
       "      <td>145872043</td>\n",
       "      <td>Sport</td>\n",
       "      <td>Long-sleeved sports top in fast-drying, breath...</td>\n",
       "    </tr>\n",
       "    <tr>\n",
       "      <th>3</th>\n",
       "      <td>145872051</td>\n",
       "      <td>Sport</td>\n",
       "      <td>Long-sleeved sports top in fast-drying, breath...</td>\n",
       "    </tr>\n",
       "    <tr>\n",
       "      <th>4</th>\n",
       "      <td>145872052</td>\n",
       "      <td>Sport</td>\n",
       "      <td>Long-sleeved sports top in fast-drying, breath...</td>\n",
       "    </tr>\n",
       "  </tbody>\n",
       "</table>\n",
       "</div>"
      ],
      "text/plain": [
       "   article_id index_group_name  \\\n",
       "0   145872001            Sport   \n",
       "1   145872037            Sport   \n",
       "2   145872043            Sport   \n",
       "3   145872051            Sport   \n",
       "4   145872052            Sport   \n",
       "\n",
       "                                         detail_desc  \n",
       "0  Long-sleeved sports top in fast-drying, breath...  \n",
       "1  Long-sleeved sports top in fast-drying, breath...  \n",
       "2  Long-sleeved sports top in fast-drying, breath...  \n",
       "3  Long-sleeved sports top in fast-drying, breath...  \n",
       "4  Long-sleeved sports top in fast-drying, breath...  "
      ]
     },
     "execution_count": 29,
     "metadata": {},
     "output_type": "execute_result"
    }
   ],
   "source": [
    "balanced_df.head()"
   ]
  },
  {
   "cell_type": "code",
   "execution_count": 30,
   "id": "0e648ded",
   "metadata": {},
   "outputs": [
    {
     "data": {
      "text/plain": [
       "47392"
      ]
     },
     "execution_count": 30,
     "metadata": {},
     "output_type": "execute_result"
    }
   ],
   "source": [
    "len(balanced_df)"
   ]
  },
  {
   "cell_type": "code",
   "execution_count": null,
   "id": "5fdac8dd",
   "metadata": {},
   "outputs": [],
   "source": [
    "# export dataframe to csv\n",
    "pd.to_"
   ]
  }
 ],
 "metadata": {
  "kernelspec": {
   "display_name": "Python 3",
   "language": "python",
   "name": "python3"
  },
  "language_info": {
   "codemirror_mode": {
    "name": "ipython",
    "version": 3
   },
   "file_extension": ".py",
   "mimetype": "text/x-python",
   "name": "python",
   "nbconvert_exporter": "python",
   "pygments_lexer": "ipython3",
   "version": "3.8.8"
  }
 },
 "nbformat": 4,
 "nbformat_minor": 5
}
