{
 "cells": [
  {
   "cell_type": "markdown",
   "id": "68e74123",
   "metadata": {},
   "source": [
    "#### Since the data is highly imbalanced, we take 11,000 samples out of each category.\n",
    "#### The categories being: \n",
    "##### 1) Baby/Children\n",
    "##### 2) Divided\n",
    "##### 3) Ladieswear\n",
    "##### 4) Menswear\n",
    "##### 5) Sport\n",
    "\n",
    "##### We also remove samples which don't have detail_desc\n",
    "\n",
    "##### This data will be used to train the image and text embeddings"
   ]
  },
  {
   "cell_type": "code",
   "execution_count": 26,
   "id": "d869e393",
   "metadata": {},
   "outputs": [],
   "source": [
    "import os\n",
    "import pandas as pd\n",
    "from PIL import Image"
   ]
  },
  {
   "cell_type": "code",
   "execution_count": 2,
   "id": "33fec179",
   "metadata": {},
   "outputs": [],
   "source": [
    "articles_df = pd.read_csv(\"C:/Users/ojubh\\/Desktop/SEMESTER 2/Deep Learning/Final_Project/data/articles.csv\")"
   ]
  },
  {
   "cell_type": "code",
   "execution_count": 3,
   "id": "c43f02ca",
   "metadata": {},
   "outputs": [
    {
     "data": {
      "text/plain": [
       "105542"
      ]
     },
     "execution_count": 3,
     "metadata": {},
     "output_type": "execute_result"
    }
   ],
   "source": [
    "len(articles_df)"
   ]
  },
  {
   "cell_type": "code",
   "execution_count": 4,
   "id": "db7cb19b",
   "metadata": {},
   "outputs": [],
   "source": [
    "articles_df = articles_df[[\"article_id\", \"index_group_name\", \"detail_desc\"]]"
   ]
  },
  {
   "cell_type": "code",
   "execution_count": 5,
   "id": "704982a0",
   "metadata": {
    "scrolled": true
   },
   "outputs": [
    {
     "data": {
      "text/html": [
       "<div>\n",
       "<style scoped>\n",
       "    .dataframe tbody tr th:only-of-type {\n",
       "        vertical-align: middle;\n",
       "    }\n",
       "\n",
       "    .dataframe tbody tr th {\n",
       "        vertical-align: top;\n",
       "    }\n",
       "\n",
       "    .dataframe thead th {\n",
       "        text-align: right;\n",
       "    }\n",
       "</style>\n",
       "<table border=\"1\" class=\"dataframe\">\n",
       "  <thead>\n",
       "    <tr style=\"text-align: right;\">\n",
       "      <th></th>\n",
       "      <th>article_id</th>\n",
       "      <th>index_group_name</th>\n",
       "      <th>detail_desc</th>\n",
       "    </tr>\n",
       "  </thead>\n",
       "  <tbody>\n",
       "    <tr>\n",
       "      <th>0</th>\n",
       "      <td>108775015</td>\n",
       "      <td>Ladieswear</td>\n",
       "      <td>Jersey top with narrow shoulder straps.</td>\n",
       "    </tr>\n",
       "    <tr>\n",
       "      <th>1</th>\n",
       "      <td>108775044</td>\n",
       "      <td>Ladieswear</td>\n",
       "      <td>Jersey top with narrow shoulder straps.</td>\n",
       "    </tr>\n",
       "    <tr>\n",
       "      <th>2</th>\n",
       "      <td>108775051</td>\n",
       "      <td>Ladieswear</td>\n",
       "      <td>Jersey top with narrow shoulder straps.</td>\n",
       "    </tr>\n",
       "    <tr>\n",
       "      <th>3</th>\n",
       "      <td>110065001</td>\n",
       "      <td>Ladieswear</td>\n",
       "      <td>Microfibre T-shirt bra with underwired, moulde...</td>\n",
       "    </tr>\n",
       "    <tr>\n",
       "      <th>4</th>\n",
       "      <td>110065002</td>\n",
       "      <td>Ladieswear</td>\n",
       "      <td>Microfibre T-shirt bra with underwired, moulde...</td>\n",
       "    </tr>\n",
       "  </tbody>\n",
       "</table>\n",
       "</div>"
      ],
      "text/plain": [
       "   article_id index_group_name  \\\n",
       "0   108775015       Ladieswear   \n",
       "1   108775044       Ladieswear   \n",
       "2   108775051       Ladieswear   \n",
       "3   110065001       Ladieswear   \n",
       "4   110065002       Ladieswear   \n",
       "\n",
       "                                         detail_desc  \n",
       "0            Jersey top with narrow shoulder straps.  \n",
       "1            Jersey top with narrow shoulder straps.  \n",
       "2            Jersey top with narrow shoulder straps.  \n",
       "3  Microfibre T-shirt bra with underwired, moulde...  \n",
       "4  Microfibre T-shirt bra with underwired, moulde...  "
      ]
     },
     "execution_count": 5,
     "metadata": {},
     "output_type": "execute_result"
    }
   ],
   "source": [
    "articles_df.head()"
   ]
  },
  {
   "cell_type": "code",
   "execution_count": 6,
   "id": "fe154217",
   "metadata": {},
   "outputs": [
    {
     "data": {
      "text/plain": [
       "array(['Ladieswear', 'Baby/Children', 'Menswear', 'Sport', 'Divided'],\n",
       "      dtype=object)"
      ]
     },
     "execution_count": 6,
     "metadata": {},
     "output_type": "execute_result"
    }
   ],
   "source": [
    "articles_df[\"index_group_name\"].unique()"
   ]
  },
  {
   "cell_type": "code",
   "execution_count": 7,
   "id": "d1e810d2",
   "metadata": {},
   "outputs": [],
   "source": [
    "index_group = articles_df.groupby(\"index_group_name\")"
   ]
  },
  {
   "cell_type": "code",
   "execution_count": 8,
   "id": "c07b05d8",
   "metadata": {},
   "outputs": [
    {
     "name": "stdout",
     "output_type": "stream",
     "text": [
      "name: Baby/Children | size: 34711\n",
      "name: Divided | size: 15149\n",
      "name: Ladieswear | size: 39737\n",
      "name: Menswear | size: 12553\n",
      "name: Sport | size: 3392\n"
     ]
    }
   ],
   "source": [
    "for name, group in index_group:\n",
    "    print('name:', name, \"|\", \"size:\", len(group))"
   ]
  },
  {
   "cell_type": "code",
   "execution_count": 9,
   "id": "4c9fa9f7",
   "metadata": {},
   "outputs": [],
   "source": [
    "#no sampling for \"Sport\"\n",
    "sport_df = articles_df[articles_df[\"index_group_name\"] == \"Sport\"]\n",
    "\n",
    "baby_children_df = articles_df[articles_df[\"index_group_name\"] == \"Baby/Children\"].sample(n=15000)\n",
    "\n",
    "divided_df = articles_df[articles_df[\"index_group_name\"] == \"Divided\"].sample(n=15000)\n",
    "\n",
    "ladieswear_df = articles_df[articles_df[\"index_group_name\"] == \"Ladieswear\"].sample(n=15000)\n",
    "\n",
    "menswear_df = articles_df[articles_df[\"index_group_name\"] == \"Menswear\"]\n",
    "\n",
    "balanced_df = pd.concat([sport_df,\n",
    "                        baby_children_df,\n",
    "                        divided_df,\n",
    "                        ladieswear_df,\n",
    "                        menswear_df], axis=0, ignore_index=True)"
   ]
  },
  {
   "cell_type": "code",
   "execution_count": 10,
   "id": "e21d845e",
   "metadata": {},
   "outputs": [
    {
     "data": {
      "text/html": [
       "<div>\n",
       "<style scoped>\n",
       "    .dataframe tbody tr th:only-of-type {\n",
       "        vertical-align: middle;\n",
       "    }\n",
       "\n",
       "    .dataframe tbody tr th {\n",
       "        vertical-align: top;\n",
       "    }\n",
       "\n",
       "    .dataframe thead th {\n",
       "        text-align: right;\n",
       "    }\n",
       "</style>\n",
       "<table border=\"1\" class=\"dataframe\">\n",
       "  <thead>\n",
       "    <tr style=\"text-align: right;\">\n",
       "      <th></th>\n",
       "      <th>article_id</th>\n",
       "      <th>index_group_name</th>\n",
       "      <th>detail_desc</th>\n",
       "    </tr>\n",
       "  </thead>\n",
       "  <tbody>\n",
       "    <tr>\n",
       "      <th>0</th>\n",
       "      <td>145872001</td>\n",
       "      <td>Sport</td>\n",
       "      <td>Long-sleeved sports top in fast-drying, breath...</td>\n",
       "    </tr>\n",
       "    <tr>\n",
       "      <th>1</th>\n",
       "      <td>145872037</td>\n",
       "      <td>Sport</td>\n",
       "      <td>Long-sleeved sports top in fast-drying, breath...</td>\n",
       "    </tr>\n",
       "    <tr>\n",
       "      <th>2</th>\n",
       "      <td>145872043</td>\n",
       "      <td>Sport</td>\n",
       "      <td>Long-sleeved sports top in fast-drying, breath...</td>\n",
       "    </tr>\n",
       "    <tr>\n",
       "      <th>3</th>\n",
       "      <td>145872051</td>\n",
       "      <td>Sport</td>\n",
       "      <td>Long-sleeved sports top in fast-drying, breath...</td>\n",
       "    </tr>\n",
       "    <tr>\n",
       "      <th>4</th>\n",
       "      <td>145872052</td>\n",
       "      <td>Sport</td>\n",
       "      <td>Long-sleeved sports top in fast-drying, breath...</td>\n",
       "    </tr>\n",
       "  </tbody>\n",
       "</table>\n",
       "</div>"
      ],
      "text/plain": [
       "   article_id index_group_name  \\\n",
       "0   145872001            Sport   \n",
       "1   145872037            Sport   \n",
       "2   145872043            Sport   \n",
       "3   145872051            Sport   \n",
       "4   145872052            Sport   \n",
       "\n",
       "                                         detail_desc  \n",
       "0  Long-sleeved sports top in fast-drying, breath...  \n",
       "1  Long-sleeved sports top in fast-drying, breath...  \n",
       "2  Long-sleeved sports top in fast-drying, breath...  \n",
       "3  Long-sleeved sports top in fast-drying, breath...  \n",
       "4  Long-sleeved sports top in fast-drying, breath...  "
      ]
     },
     "execution_count": 10,
     "metadata": {},
     "output_type": "execute_result"
    }
   ],
   "source": [
    "balanced_df.head()"
   ]
  },
  {
   "cell_type": "code",
   "execution_count": 11,
   "id": "de9f32b4",
   "metadata": {},
   "outputs": [
    {
     "data": {
      "text/plain": [
       "60945"
      ]
     },
     "execution_count": 11,
     "metadata": {},
     "output_type": "execute_result"
    }
   ],
   "source": [
    "len(balanced_df)"
   ]
  },
  {
   "cell_type": "code",
   "execution_count": 12,
   "id": "32c298b5",
   "metadata": {},
   "outputs": [
    {
     "data": {
      "text/plain": [
       "array([False,  True])"
      ]
     },
     "execution_count": 12,
     "metadata": {},
     "output_type": "execute_result"
    }
   ],
   "source": [
    "## some of the rows are missing \"detail_desc\"\n",
    "balanced_df[\"detail_desc\"].isna().unique()"
   ]
  },
  {
   "cell_type": "code",
   "execution_count": 13,
   "id": "58814c11",
   "metadata": {},
   "outputs": [],
   "source": [
    "balanced_df.dropna(subset=['detail_desc'], how='all', inplace=True)"
   ]
  },
  {
   "cell_type": "code",
   "execution_count": 14,
   "id": "b7e686fb",
   "metadata": {},
   "outputs": [
    {
     "data": {
      "text/plain": [
       "array([False])"
      ]
     },
     "execution_count": 14,
     "metadata": {},
     "output_type": "execute_result"
    }
   ],
   "source": [
    "## missing values have been removed\n",
    "balanced_df[\"detail_desc\"].isna().unique()"
   ]
  },
  {
   "cell_type": "code",
   "execution_count": 15,
   "id": "c5a01a6a",
   "metadata": {},
   "outputs": [
    {
     "data": {
      "text/plain": [
       "60724"
      ]
     },
     "execution_count": 15,
     "metadata": {},
     "output_type": "execute_result"
    }
   ],
   "source": [
    "len(balanced_df)"
   ]
  },
  {
   "cell_type": "code",
   "execution_count": 16,
   "id": "e4cbaa0f",
   "metadata": {},
   "outputs": [],
   "source": [
    "final_rows = []\n",
    "mypath = os.path.join('c:', os.sep, 'Users', \"ojubh\", \"Desktop\", \"images\")\n",
    "\n",
    "for (_, row) in balanced_df.iterrows():\n",
    "    location = \"0\" + str(row[\"article_id\"])[:2] + \"/\" + \"0\" + str(row[\"article_id\"]) + \".jpg\"\n",
    "    path = os.path.join(mypath, *location.split(\"/\"))\n",
    "    if os.path.isfile(path):\n",
    "        final_rows.append([row[\"article_id\"], row[\"index_group_name\"], row[\"detail_desc\"], location])\n",
    "    "
   ]
  },
  {
   "cell_type": "code",
   "execution_count": 17,
   "id": "8627febd",
   "metadata": {},
   "outputs": [],
   "source": [
    "final_df = pd.DataFrame(final_rows, columns = [\"article_id\", \"index_group_name\", \"detail_desc\", \"location\"] )"
   ]
  },
  {
   "cell_type": "code",
   "execution_count": 18,
   "id": "54ae2d3e",
   "metadata": {},
   "outputs": [
    {
     "data": {
      "text/plain": [
       "60478"
      ]
     },
     "execution_count": 18,
     "metadata": {},
     "output_type": "execute_result"
    }
   ],
   "source": [
    "len(final_df)"
   ]
  },
  {
   "cell_type": "code",
   "execution_count": 23,
   "id": "efb7c638",
   "metadata": {},
   "outputs": [],
   "source": [
    "# shutil.rmtree(\"balanced_images\")"
   ]
  },
  {
   "cell_type": "code",
   "execution_count": 27,
   "id": "8d33d6ec",
   "metadata": {},
   "outputs": [
    {
     "data": {
      "text/plain": [
       "'014/0145872001.jpg'"
      ]
     },
     "execution_count": 27,
     "metadata": {},
     "output_type": "execute_result"
    }
   ],
   "source": [
    "image_paths = final_df[\"location\"].tolist()\n",
    "image_paths[0]"
   ]
  },
  {
   "cell_type": "code",
   "execution_count": 29,
   "id": "5e8c05d6",
   "metadata": {},
   "outputs": [],
   "source": [
    "\n",
    "import shutil\n",
    "\n",
    "image_paths = final_df[\"location\"].tolist()\n",
    "dest_path = os.path.join('c:', os.sep, 'Users', \"ojubh\", \"Desktop\", \"balanced_images_crop\")\n",
    "os.mkdir(dest_path)\n",
    "\n",
    "mypath = os.path.join('c:', os.sep, 'Users', \"ojubh\", \"Desktop\", \"images\")\n",
    "newsize = (256, 256)\n",
    "for image in image_paths:\n",
    "    img_path = os.path.join(mypath, *image.split(\"/\"))\n",
    "    img = Image.open(img_path)\n",
    "    img = img.resize(newsize)\n",
    "    dest_loc = os.path.join(dest_path, image.split(\"/\")[1])\n",
    "    img.save(dest_loc)\n",
    "#     shutil.copy(img_path, dest_loc)\n"
   ]
  },
  {
   "cell_type": "code",
   "execution_count": 25,
   "id": "93c6b952",
   "metadata": {},
   "outputs": [],
   "source": [
    "# export dataframe to csv\n",
    "final_df.to_csv(\"balanced_data.csv\")"
   ]
  },
  {
   "cell_type": "code",
   "execution_count": null,
   "id": "a2301662",
   "metadata": {},
   "outputs": [],
   "source": []
  }
 ],
 "metadata": {
  "kernelspec": {
   "display_name": "Python 3",
   "language": "python",
   "name": "python3"
  },
  "language_info": {
   "codemirror_mode": {
    "name": "ipython",
    "version": 3
   },
   "file_extension": ".py",
   "mimetype": "text/x-python",
   "name": "python",
   "nbconvert_exporter": "python",
   "pygments_lexer": "ipython3",
   "version": "3.8.8"
  }
 },
 "nbformat": 4,
 "nbformat_minor": 5
}
