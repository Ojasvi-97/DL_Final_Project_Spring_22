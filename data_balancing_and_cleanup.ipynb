{
 "cells": [
  {
   "cell_type": "markdown",
   "id": "68e74123",
   "metadata": {},
   "source": [
    "#### Since the data is highly imbalanced, we take 11,000 samples out of each category.\n",
    "#### The categories being: \n",
    "##### 1) Baby/Children\n",
    "##### 2) Divided\n",
    "##### 3) Ladieswear\n",
    "##### 4) Menswear\n",
    "##### 5) Sport\n",
    "\n",
    "##### We also remove samples which don't have detail_desc\n",
    "\n",
    "##### This data will be used to train the image and text embeddings"
   ]
  },
  {
   "cell_type": "code",
   "execution_count": 1,
   "id": "d869e393",
   "metadata": {},
   "outputs": [],
   "source": [
    "import os\n",
    "import pandas as pd\n",
    "from PIL import Image"
   ]
  },
  {
   "cell_type": "code",
   "execution_count": 2,
   "id": "33fec179",
   "metadata": {},
   "outputs": [],
   "source": [
    "articles_df = pd.read_csv(\"C:/Users/ojubh\\/Desktop/SEMESTER 2/Deep Learning/Final_Project/data/articles.csv\")"
   ]
  },
  {
   "cell_type": "code",
   "execution_count": 3,
   "id": "c43f02ca",
   "metadata": {},
   "outputs": [
    {
     "data": {
      "text/plain": [
       "105542"
      ]
     },
     "execution_count": 3,
     "metadata": {},
     "output_type": "execute_result"
    }
   ],
   "source": [
    "len(articles_df)"
   ]
  },
  {
   "cell_type": "code",
   "execution_count": 4,
   "id": "db7cb19b",
   "metadata": {},
   "outputs": [],
   "source": [
    "articles_df = articles_df[[\"article_id\", \"index_group_name\", \"detail_desc\"]]"
   ]
  },
  {
   "cell_type": "code",
   "execution_count": 5,
   "id": "704982a0",
   "metadata": {
    "scrolled": true
   },
   "outputs": [
    {
     "data": {
      "text/html": [
       "<div>\n",
       "<style scoped>\n",
       "    .dataframe tbody tr th:only-of-type {\n",
       "        vertical-align: middle;\n",
       "    }\n",
       "\n",
       "    .dataframe tbody tr th {\n",
       "        vertical-align: top;\n",
       "    }\n",
       "\n",
       "    .dataframe thead th {\n",
       "        text-align: right;\n",
       "    }\n",
       "</style>\n",
       "<table border=\"1\" class=\"dataframe\">\n",
       "  <thead>\n",
       "    <tr style=\"text-align: right;\">\n",
       "      <th></th>\n",
       "      <th>article_id</th>\n",
       "      <th>index_group_name</th>\n",
       "      <th>detail_desc</th>\n",
       "    </tr>\n",
       "  </thead>\n",
       "  <tbody>\n",
       "    <tr>\n",
       "      <th>0</th>\n",
       "      <td>108775015</td>\n",
       "      <td>Ladieswear</td>\n",
       "      <td>Jersey top with narrow shoulder straps.</td>\n",
       "    </tr>\n",
       "    <tr>\n",
       "      <th>1</th>\n",
       "      <td>108775044</td>\n",
       "      <td>Ladieswear</td>\n",
       "      <td>Jersey top with narrow shoulder straps.</td>\n",
       "    </tr>\n",
       "    <tr>\n",
       "      <th>2</th>\n",
       "      <td>108775051</td>\n",
       "      <td>Ladieswear</td>\n",
       "      <td>Jersey top with narrow shoulder straps.</td>\n",
       "    </tr>\n",
       "    <tr>\n",
       "      <th>3</th>\n",
       "      <td>110065001</td>\n",
       "      <td>Ladieswear</td>\n",
       "      <td>Microfibre T-shirt bra with underwired, moulde...</td>\n",
       "    </tr>\n",
       "    <tr>\n",
       "      <th>4</th>\n",
       "      <td>110065002</td>\n",
       "      <td>Ladieswear</td>\n",
       "      <td>Microfibre T-shirt bra with underwired, moulde...</td>\n",
       "    </tr>\n",
       "  </tbody>\n",
       "</table>\n",
       "</div>"
      ],
      "text/plain": [
       "   article_id index_group_name  \\\n",
       "0   108775015       Ladieswear   \n",
       "1   108775044       Ladieswear   \n",
       "2   108775051       Ladieswear   \n",
       "3   110065001       Ladieswear   \n",
       "4   110065002       Ladieswear   \n",
       "\n",
       "                                         detail_desc  \n",
       "0            Jersey top with narrow shoulder straps.  \n",
       "1            Jersey top with narrow shoulder straps.  \n",
       "2            Jersey top with narrow shoulder straps.  \n",
       "3  Microfibre T-shirt bra with underwired, moulde...  \n",
       "4  Microfibre T-shirt bra with underwired, moulde...  "
      ]
     },
     "execution_count": 5,
     "metadata": {},
     "output_type": "execute_result"
    }
   ],
   "source": [
    "articles_df.head()"
   ]
  },
  {
   "cell_type": "code",
   "execution_count": 6,
   "id": "5ca7fe7d",
   "metadata": {},
   "outputs": [
    {
     "data": {
      "text/plain": [
       "array([False,  True])"
      ]
     },
     "execution_count": 6,
     "metadata": {},
     "output_type": "execute_result"
    }
   ],
   "source": [
    "articles_df[\"detail_desc\"].isna().unique()"
   ]
  },
  {
   "cell_type": "code",
   "execution_count": 7,
   "id": "9655c8ca",
   "metadata": {},
   "outputs": [],
   "source": [
    "articles_df.dropna(subset=['detail_desc'], how='all', inplace=True)"
   ]
  },
  {
   "cell_type": "code",
   "execution_count": 8,
   "id": "83b6661b",
   "metadata": {},
   "outputs": [
    {
     "data": {
      "text/plain": [
       "array([False])"
      ]
     },
     "execution_count": 8,
     "metadata": {},
     "output_type": "execute_result"
    }
   ],
   "source": [
    "## missing values have been removed\n",
    "articles_df[\"detail_desc\"].isna().unique()"
   ]
  },
  {
   "cell_type": "code",
   "execution_count": 9,
   "id": "fe154217",
   "metadata": {},
   "outputs": [
    {
     "data": {
      "text/plain": [
       "array(['Ladieswear', 'Baby/Children', 'Menswear', 'Sport', 'Divided'],\n",
       "      dtype=object)"
      ]
     },
     "execution_count": 9,
     "metadata": {},
     "output_type": "execute_result"
    }
   ],
   "source": [
    "articles_df[\"index_group_name\"].unique()"
   ]
  },
  {
   "cell_type": "code",
   "execution_count": 10,
   "id": "d1e810d2",
   "metadata": {},
   "outputs": [],
   "source": [
    "index_group = articles_df.groupby(\"index_group_name\")"
   ]
  },
  {
   "cell_type": "code",
   "execution_count": 11,
   "id": "c07b05d8",
   "metadata": {},
   "outputs": [
    {
     "name": "stdout",
     "output_type": "stream",
     "text": [
      "name: Baby/Children | size: 34619 %: 0.3293095903962864\n",
      "name: Divided | size: 15086 %: 0.14350398569335845\n",
      "name: Ladieswear | size: 39523 %: 0.3759583737610106\n",
      "name: Menswear | size: 12539 %: 0.11927591651922455\n",
      "name: Sport | size: 3359 %: 0.03195213363012005\n"
     ]
    }
   ],
   "source": [
    "for name, group in index_group:\n",
    "    print('name:', name, \"|\", \"size:\", len(group), \"%:\", len(group)/len(articles_df))"
   ]
  },
  {
   "cell_type": "code",
   "execution_count": 12,
   "id": "85a9e174",
   "metadata": {},
   "outputs": [
    {
     "name": "stdout",
     "output_type": "stream",
     "text": [
      "Training split 63075\n",
      "Samples for Baby/Child: 20184\n",
      "Samples for Divided: 8830\n",
      "Samples for Ladieswear: 23337\n",
      "Samples for menswear 6938\n",
      "samples for sport 1892\n"
     ]
    }
   ],
   "source": [
    "training_split = int(0.6*len(articles_df))\n",
    "print(\"Training split\", training_split)\n",
    "print(\"Samples for Baby/Child:\", int(0.32*training_split))\n",
    "print(\"Samples for Divided:\", int(0.14*training_split))\n",
    "print(\"Samples for Ladieswear:\", int(0.37*training_split))\n",
    "print(\"Samples for menswear\", int(0.11 * training_split))\n",
    "print(\"samples for sport\", int(0.03 * training_split))\n"
   ]
  },
  {
   "cell_type": "code",
   "execution_count": 13,
   "id": "4c9fa9f7",
   "metadata": {},
   "outputs": [],
   "source": [
    "#no sampling for \"Sport\"\n",
    "sport_df_train = articles_df[articles_df[\"index_group_name\"] == \"Sport\"].sample(n=int(0.03 * training_split))\n",
    "\n",
    "baby_children_df_train = articles_df[articles_df[\"index_group_name\"] == \"Baby/Children\"].sample(n=int(0.32*training_split))\n",
    "\n",
    "divided_df_train = articles_df[articles_df[\"index_group_name\"] == \"Divided\"].sample(n=int(0.14*training_split))\n",
    "\n",
    "ladieswear_df_train = articles_df[articles_df[\"index_group_name\"] == \"Ladieswear\"].sample(n=int(0.37*training_split))\n",
    "\n",
    "menswear_df_train = articles_df[articles_df[\"index_group_name\"] == \"Menswear\"].sample(n=int(0.11 * training_split))\n",
    "\n",
    "\n",
    "\n",
    "\n",
    "train_df = pd.concat([sport_df_train,\n",
    "                        baby_children_df_train,\n",
    "                        divided_df_train,\n",
    "                        ladieswear_df_train,\n",
    "                        menswear_df_train], axis=0)"
   ]
  },
  {
   "cell_type": "code",
   "execution_count": 14,
   "id": "e21d845e",
   "metadata": {
    "scrolled": true
   },
   "outputs": [
    {
     "data": {
      "text/html": [
       "<div>\n",
       "<style scoped>\n",
       "    .dataframe tbody tr th:only-of-type {\n",
       "        vertical-align: middle;\n",
       "    }\n",
       "\n",
       "    .dataframe tbody tr th {\n",
       "        vertical-align: top;\n",
       "    }\n",
       "\n",
       "    .dataframe thead th {\n",
       "        text-align: right;\n",
       "    }\n",
       "</style>\n",
       "<table border=\"1\" class=\"dataframe\">\n",
       "  <thead>\n",
       "    <tr style=\"text-align: right;\">\n",
       "      <th></th>\n",
       "      <th>article_id</th>\n",
       "      <th>index_group_name</th>\n",
       "      <th>detail_desc</th>\n",
       "    </tr>\n",
       "  </thead>\n",
       "  <tbody>\n",
       "    <tr>\n",
       "      <th>89559</th>\n",
       "      <td>838825002</td>\n",
       "      <td>Sport</td>\n",
       "      <td>Cropped, sleeveless sports top in fast-drying ...</td>\n",
       "    </tr>\n",
       "    <tr>\n",
       "      <th>101107</th>\n",
       "      <td>894355001</td>\n",
       "      <td>Sport</td>\n",
       "      <td>Fully lined sports bra in fast-drying function...</td>\n",
       "    </tr>\n",
       "    <tr>\n",
       "      <th>100370</th>\n",
       "      <td>889816008</td>\n",
       "      <td>Sport</td>\n",
       "      <td>Sports tights in fast-drying functional fabric...</td>\n",
       "    </tr>\n",
       "    <tr>\n",
       "      <th>80150</th>\n",
       "      <td>801092002</td>\n",
       "      <td>Sport</td>\n",
       "      <td>Longjohns with an elasticated waist and flatlo...</td>\n",
       "    </tr>\n",
       "    <tr>\n",
       "      <th>17291</th>\n",
       "      <td>573452003</td>\n",
       "      <td>Sport</td>\n",
       "      <td>Sports bra in fast-drying functional fabric wi...</td>\n",
       "    </tr>\n",
       "    <tr>\n",
       "      <th>103673</th>\n",
       "      <td>914453001</td>\n",
       "      <td>Sport</td>\n",
       "      <td>Ankle-length sports tights in fast-drying func...</td>\n",
       "    </tr>\n",
       "    <tr>\n",
       "      <th>88392</th>\n",
       "      <td>832723003</td>\n",
       "      <td>Sport</td>\n",
       "      <td>Sports hoodie in sturdy jersey with a print mo...</td>\n",
       "    </tr>\n",
       "    <tr>\n",
       "      <th>35313</th>\n",
       "      <td>646429001</td>\n",
       "      <td>Sport</td>\n",
       "      <td>Sports tights in fast-drying functional fabric...</td>\n",
       "    </tr>\n",
       "    <tr>\n",
       "      <th>9488</th>\n",
       "      <td>533404042</td>\n",
       "      <td>Sport</td>\n",
       "      <td>Sporty jacket in sturdy jersey with a zip down...</td>\n",
       "    </tr>\n",
       "    <tr>\n",
       "      <th>2756</th>\n",
       "      <td>426609042</td>\n",
       "      <td>Sport</td>\n",
       "      <td>Short-sleeved, patterned sports top in fast-dr...</td>\n",
       "    </tr>\n",
       "  </tbody>\n",
       "</table>\n",
       "</div>"
      ],
      "text/plain": [
       "        article_id index_group_name  \\\n",
       "89559    838825002            Sport   \n",
       "101107   894355001            Sport   \n",
       "100370   889816008            Sport   \n",
       "80150    801092002            Sport   \n",
       "17291    573452003            Sport   \n",
       "103673   914453001            Sport   \n",
       "88392    832723003            Sport   \n",
       "35313    646429001            Sport   \n",
       "9488     533404042            Sport   \n",
       "2756     426609042            Sport   \n",
       "\n",
       "                                              detail_desc  \n",
       "89559   Cropped, sleeveless sports top in fast-drying ...  \n",
       "101107  Fully lined sports bra in fast-drying function...  \n",
       "100370  Sports tights in fast-drying functional fabric...  \n",
       "80150   Longjohns with an elasticated waist and flatlo...  \n",
       "17291   Sports bra in fast-drying functional fabric wi...  \n",
       "103673  Ankle-length sports tights in fast-drying func...  \n",
       "88392   Sports hoodie in sturdy jersey with a print mo...  \n",
       "35313   Sports tights in fast-drying functional fabric...  \n",
       "9488    Sporty jacket in sturdy jersey with a zip down...  \n",
       "2756    Short-sleeved, patterned sports top in fast-dr...  "
      ]
     },
     "execution_count": 14,
     "metadata": {},
     "output_type": "execute_result"
    }
   ],
   "source": [
    "train_df.head(10)"
   ]
  },
  {
   "cell_type": "code",
   "execution_count": 15,
   "id": "de9f32b4",
   "metadata": {},
   "outputs": [],
   "source": [
    "articles_df = articles_df.drop(train_df.index)"
   ]
  },
  {
   "cell_type": "code",
   "execution_count": 16,
   "id": "272c9a9a",
   "metadata": {},
   "outputs": [
    {
     "data": {
      "text/plain": [
       "43945"
      ]
     },
     "execution_count": 16,
     "metadata": {},
     "output_type": "execute_result"
    }
   ],
   "source": [
    "len(articles_df)"
   ]
  },
  {
   "cell_type": "code",
   "execution_count": 17,
   "id": "d7dc316c",
   "metadata": {},
   "outputs": [
    {
     "data": {
      "text/html": [
       "<div>\n",
       "<style scoped>\n",
       "    .dataframe tbody tr th:only-of-type {\n",
       "        vertical-align: middle;\n",
       "    }\n",
       "\n",
       "    .dataframe tbody tr th {\n",
       "        vertical-align: top;\n",
       "    }\n",
       "\n",
       "    .dataframe thead th {\n",
       "        text-align: right;\n",
       "    }\n",
       "</style>\n",
       "<table border=\"1\" class=\"dataframe\">\n",
       "  <thead>\n",
       "    <tr style=\"text-align: right;\">\n",
       "      <th></th>\n",
       "      <th>index</th>\n",
       "      <th>article_id</th>\n",
       "      <th>index_group_name</th>\n",
       "      <th>detail_desc</th>\n",
       "    </tr>\n",
       "  </thead>\n",
       "  <tbody>\n",
       "    <tr>\n",
       "      <th>0</th>\n",
       "      <td>89559</td>\n",
       "      <td>838825002</td>\n",
       "      <td>Sport</td>\n",
       "      <td>Cropped, sleeveless sports top in fast-drying ...</td>\n",
       "    </tr>\n",
       "    <tr>\n",
       "      <th>1</th>\n",
       "      <td>101107</td>\n",
       "      <td>894355001</td>\n",
       "      <td>Sport</td>\n",
       "      <td>Fully lined sports bra in fast-drying function...</td>\n",
       "    </tr>\n",
       "    <tr>\n",
       "      <th>2</th>\n",
       "      <td>100370</td>\n",
       "      <td>889816008</td>\n",
       "      <td>Sport</td>\n",
       "      <td>Sports tights in fast-drying functional fabric...</td>\n",
       "    </tr>\n",
       "    <tr>\n",
       "      <th>3</th>\n",
       "      <td>80150</td>\n",
       "      <td>801092002</td>\n",
       "      <td>Sport</td>\n",
       "      <td>Longjohns with an elasticated waist and flatlo...</td>\n",
       "    </tr>\n",
       "    <tr>\n",
       "      <th>4</th>\n",
       "      <td>17291</td>\n",
       "      <td>573452003</td>\n",
       "      <td>Sport</td>\n",
       "      <td>Sports bra in fast-drying functional fabric wi...</td>\n",
       "    </tr>\n",
       "    <tr>\n",
       "      <th>...</th>\n",
       "      <td>...</td>\n",
       "      <td>...</td>\n",
       "      <td>...</td>\n",
       "      <td>...</td>\n",
       "    </tr>\n",
       "    <tr>\n",
       "      <th>61176</th>\n",
       "      <td>62093</td>\n",
       "      <td>735123004</td>\n",
       "      <td>Menswear</td>\n",
       "      <td>Jacket in woven fabric with a concealed two-wa...</td>\n",
       "    </tr>\n",
       "    <tr>\n",
       "      <th>61177</th>\n",
       "      <td>75712</td>\n",
       "      <td>782616025</td>\n",
       "      <td>Menswear</td>\n",
       "      <td>T-shirt in soft cotton jersey.</td>\n",
       "    </tr>\n",
       "    <tr>\n",
       "      <th>61178</th>\n",
       "      <td>46178</td>\n",
       "      <td>685600014</td>\n",
       "      <td>Menswear</td>\n",
       "      <td>Swim shorts in woven fabric with an elasticate...</td>\n",
       "    </tr>\n",
       "    <tr>\n",
       "      <th>61179</th>\n",
       "      <td>43226</td>\n",
       "      <td>675853002</td>\n",
       "      <td>Menswear</td>\n",
       "      <td>NICK VEASEY x H&amp;M. Long-sleeved top in printed...</td>\n",
       "    </tr>\n",
       "    <tr>\n",
       "      <th>61180</th>\n",
       "      <td>2070</td>\n",
       "      <td>395127043</td>\n",
       "      <td>Menswear</td>\n",
       "      <td>Shirt in premium cotton with a cutaway collar,...</td>\n",
       "    </tr>\n",
       "  </tbody>\n",
       "</table>\n",
       "<p>61181 rows × 4 columns</p>\n",
       "</div>"
      ],
      "text/plain": [
       "        index  article_id index_group_name  \\\n",
       "0       89559   838825002            Sport   \n",
       "1      101107   894355001            Sport   \n",
       "2      100370   889816008            Sport   \n",
       "3       80150   801092002            Sport   \n",
       "4       17291   573452003            Sport   \n",
       "...       ...         ...              ...   \n",
       "61176   62093   735123004         Menswear   \n",
       "61177   75712   782616025         Menswear   \n",
       "61178   46178   685600014         Menswear   \n",
       "61179   43226   675853002         Menswear   \n",
       "61180    2070   395127043         Menswear   \n",
       "\n",
       "                                             detail_desc  \n",
       "0      Cropped, sleeveless sports top in fast-drying ...  \n",
       "1      Fully lined sports bra in fast-drying function...  \n",
       "2      Sports tights in fast-drying functional fabric...  \n",
       "3      Longjohns with an elasticated waist and flatlo...  \n",
       "4      Sports bra in fast-drying functional fabric wi...  \n",
       "...                                                  ...  \n",
       "61176  Jacket in woven fabric with a concealed two-wa...  \n",
       "61177                     T-shirt in soft cotton jersey.  \n",
       "61178  Swim shorts in woven fabric with an elasticate...  \n",
       "61179  NICK VEASEY x H&M. Long-sleeved top in printed...  \n",
       "61180  Shirt in premium cotton with a cutaway collar,...  \n",
       "\n",
       "[61181 rows x 4 columns]"
      ]
     },
     "execution_count": 17,
     "metadata": {},
     "output_type": "execute_result"
    }
   ],
   "source": [
    "train_df.reset_index()"
   ]
  },
  {
   "cell_type": "code",
   "execution_count": 18,
   "id": "344929ed",
   "metadata": {},
   "outputs": [
    {
     "name": "stdout",
     "output_type": "stream",
     "text": [
      "Val split 21972\n",
      "Samples for Baby/Child: 7031\n",
      "Samples for Divided: 3076\n",
      "Samples for Ladieswear: 8129\n",
      "Samples for menswear 2416\n",
      "samples for sport 659\n"
     ]
    }
   ],
   "source": [
    "val_split = int(len(articles_df)/2)\n",
    "\n",
    "print(\"Val split\", val_split)\n",
    "print(\"Samples for Baby/Child:\", int(0.32*val_split))\n",
    "print(\"Samples for Divided:\", int(0.14*val_split))\n",
    "print(\"Samples for Ladieswear:\", int(0.37*val_split))\n",
    "print(\"Samples for menswear\", int(0.11 * val_split))\n",
    "print(\"samples for sport\", int(0.03 * val_split))"
   ]
  },
  {
   "cell_type": "code",
   "execution_count": 19,
   "id": "0c9a7097",
   "metadata": {},
   "outputs": [],
   "source": [
    "sport_df_val = articles_df[articles_df[\"index_group_name\"] == \"Sport\"].sample(n=int(0.03 * val_split))\n",
    "\n",
    "baby_children_df_val = articles_df[articles_df[\"index_group_name\"] == \"Baby/Children\"].sample(n=int(0.32*val_split))\n",
    "\n",
    "divided_df_val = articles_df[articles_df[\"index_group_name\"] == \"Divided\"].sample(n=int(0.14*val_split))\n",
    "\n",
    "ladieswear_df_val = articles_df[articles_df[\"index_group_name\"] == \"Ladieswear\"].sample(n=int(0.37*val_split))\n",
    "\n",
    "menswear_df_val = articles_df[articles_df[\"index_group_name\"] == \"Menswear\"].sample(n=int(0.11 * val_split))\n",
    "\n",
    "\n",
    "val_df = pd.concat([sport_df_val,\n",
    "                        baby_children_df_val,\n",
    "                        divided_df_val,\n",
    "                        ladieswear_df_val,\n",
    "                        menswear_df_val], axis=0)"
   ]
  },
  {
   "cell_type": "code",
   "execution_count": 20,
   "id": "c66f704c",
   "metadata": {},
   "outputs": [],
   "source": [
    "test_df = articles_df.drop(val_df.index)"
   ]
  },
  {
   "cell_type": "code",
   "execution_count": 21,
   "id": "12252d84",
   "metadata": {
    "scrolled": true
   },
   "outputs": [
    {
     "data": {
      "text/html": [
       "<div>\n",
       "<style scoped>\n",
       "    .dataframe tbody tr th:only-of-type {\n",
       "        vertical-align: middle;\n",
       "    }\n",
       "\n",
       "    .dataframe tbody tr th {\n",
       "        vertical-align: top;\n",
       "    }\n",
       "\n",
       "    .dataframe thead th {\n",
       "        text-align: right;\n",
       "    }\n",
       "</style>\n",
       "<table border=\"1\" class=\"dataframe\">\n",
       "  <thead>\n",
       "    <tr style=\"text-align: right;\">\n",
       "      <th></th>\n",
       "      <th>index</th>\n",
       "      <th>article_id</th>\n",
       "      <th>index_group_name</th>\n",
       "      <th>detail_desc</th>\n",
       "    </tr>\n",
       "  </thead>\n",
       "  <tbody>\n",
       "    <tr>\n",
       "      <th>0</th>\n",
       "      <td>0</td>\n",
       "      <td>108775015</td>\n",
       "      <td>Ladieswear</td>\n",
       "      <td>Jersey top with narrow shoulder straps.</td>\n",
       "    </tr>\n",
       "    <tr>\n",
       "      <th>1</th>\n",
       "      <td>4</td>\n",
       "      <td>110065002</td>\n",
       "      <td>Ladieswear</td>\n",
       "      <td>Microfibre T-shirt bra with underwired, moulde...</td>\n",
       "    </tr>\n",
       "    <tr>\n",
       "      <th>2</th>\n",
       "      <td>6</td>\n",
       "      <td>111565001</td>\n",
       "      <td>Ladieswear</td>\n",
       "      <td>Semi shiny nylon stockings with a wide, reinfo...</td>\n",
       "    </tr>\n",
       "    <tr>\n",
       "      <th>3</th>\n",
       "      <td>8</td>\n",
       "      <td>111586001</td>\n",
       "      <td>Ladieswear</td>\n",
       "      <td>Tights with built-in support to lift the botto...</td>\n",
       "    </tr>\n",
       "    <tr>\n",
       "      <th>4</th>\n",
       "      <td>12</td>\n",
       "      <td>112679052</td>\n",
       "      <td>Baby/Children</td>\n",
       "      <td>Sweatshirt in soft organic cotton with a  pres...</td>\n",
       "    </tr>\n",
       "    <tr>\n",
       "      <th>...</th>\n",
       "      <td>...</td>\n",
       "      <td>...</td>\n",
       "      <td>...</td>\n",
       "      <td>...</td>\n",
       "    </tr>\n",
       "    <tr>\n",
       "      <th>22629</th>\n",
       "      <td>105533</td>\n",
       "      <td>950449002</td>\n",
       "      <td>Baby/Children</td>\n",
       "      <td>Small, folding hair brush with a rhinestone-de...</td>\n",
       "    </tr>\n",
       "    <tr>\n",
       "      <th>22630</th>\n",
       "      <td>105535</td>\n",
       "      <td>952937003</td>\n",
       "      <td>Ladieswear</td>\n",
       "      <td>Fitted, calf-length dress in viscose jersey wi...</td>\n",
       "    </tr>\n",
       "    <tr>\n",
       "      <th>22631</th>\n",
       "      <td>105536</td>\n",
       "      <td>952938001</td>\n",
       "      <td>Ladieswear</td>\n",
       "      <td>Fitted top in jersey with a round neckline and...</td>\n",
       "    </tr>\n",
       "    <tr>\n",
       "      <th>22632</th>\n",
       "      <td>105537</td>\n",
       "      <td>953450001</td>\n",
       "      <td>Menswear</td>\n",
       "      <td>Socks in a fine-knit cotton blend with a small...</td>\n",
       "    </tr>\n",
       "    <tr>\n",
       "      <th>22633</th>\n",
       "      <td>105539</td>\n",
       "      <td>956217002</td>\n",
       "      <td>Ladieswear</td>\n",
       "      <td>Short, A-line dress in jersey with a round nec...</td>\n",
       "    </tr>\n",
       "  </tbody>\n",
       "</table>\n",
       "<p>22634 rows × 4 columns</p>\n",
       "</div>"
      ],
      "text/plain": [
       "        index  article_id index_group_name  \\\n",
       "0           0   108775015       Ladieswear   \n",
       "1           4   110065002       Ladieswear   \n",
       "2           6   111565001       Ladieswear   \n",
       "3           8   111586001       Ladieswear   \n",
       "4          12   112679052    Baby/Children   \n",
       "...       ...         ...              ...   \n",
       "22629  105533   950449002    Baby/Children   \n",
       "22630  105535   952937003       Ladieswear   \n",
       "22631  105536   952938001       Ladieswear   \n",
       "22632  105537   953450001         Menswear   \n",
       "22633  105539   956217002       Ladieswear   \n",
       "\n",
       "                                             detail_desc  \n",
       "0                Jersey top with narrow shoulder straps.  \n",
       "1      Microfibre T-shirt bra with underwired, moulde...  \n",
       "2      Semi shiny nylon stockings with a wide, reinfo...  \n",
       "3      Tights with built-in support to lift the botto...  \n",
       "4      Sweatshirt in soft organic cotton with a  pres...  \n",
       "...                                                  ...  \n",
       "22629  Small, folding hair brush with a rhinestone-de...  \n",
       "22630  Fitted, calf-length dress in viscose jersey wi...  \n",
       "22631  Fitted top in jersey with a round neckline and...  \n",
       "22632  Socks in a fine-knit cotton blend with a small...  \n",
       "22633  Short, A-line dress in jersey with a round nec...  \n",
       "\n",
       "[22634 rows x 4 columns]"
      ]
     },
     "execution_count": 21,
     "metadata": {},
     "output_type": "execute_result"
    }
   ],
   "source": [
    "val_df.reset_index()\n",
    "test_df.reset_index()"
   ]
  },
  {
   "cell_type": "code",
   "execution_count": 22,
   "id": "24f14f58",
   "metadata": {},
   "outputs": [
    {
     "data": {
      "text/plain": [
       "105126"
      ]
     },
     "execution_count": 22,
     "metadata": {},
     "output_type": "execute_result"
    }
   ],
   "source": [
    "len(val_df) + len(test_df) + len(train_df)"
   ]
  },
  {
   "cell_type": "code",
   "execution_count": 23,
   "id": "e4cbaa0f",
   "metadata": {},
   "outputs": [],
   "source": [
    "def get_image_path(balanced_df):\n",
    "    final_rows = []\n",
    "    mypath = os.path.join('c:', os.sep, 'Users', \"ojubh\", \"Desktop\", \"images\")\n",
    "\n",
    "    for (_, row) in balanced_df.iterrows():\n",
    "        location = \"0\" + str(row[\"article_id\"])[:2] + \"/\" + \"0\" + str(row[\"article_id\"]) + \".jpg\"\n",
    "        path = os.path.join(mypath, *location.split(\"/\"))\n",
    "        if os.path.isfile(path):\n",
    "            final_rows.append([row[\"article_id\"], row[\"index_group_name\"], row[\"detail_desc\"], location])\n",
    "    \n",
    "    return final_rows"
   ]
  },
  {
   "cell_type": "code",
   "execution_count": 24,
   "id": "8627febd",
   "metadata": {},
   "outputs": [],
   "source": [
    "train_rows = get_image_path(train_df)\n",
    "val_rows = get_image_path(val_df)\n",
    "test_rows = get_image_path(test_df)\n",
    "\n",
    "# final_df = pd.DataFrame(final_rows, columns = [\"article_id\", \"index_group_name\", \"detail_desc\", \"location\"] )"
   ]
  },
  {
   "cell_type": "code",
   "execution_count": 25,
   "id": "54ae2d3e",
   "metadata": {},
   "outputs": [
    {
     "data": {
      "text/plain": [
       "104696"
      ]
     },
     "execution_count": 25,
     "metadata": {},
     "output_type": "execute_result"
    }
   ],
   "source": [
    "len(train_rows) + len(val_rows) + len(test_rows)"
   ]
  },
  {
   "cell_type": "code",
   "execution_count": 26,
   "id": "2d0c30cf",
   "metadata": {},
   "outputs": [],
   "source": [
    "train_final = pd.DataFrame(train_rows, columns = [\"article_id\", \"index_group_name\", \"detail_desc\", \"location\"])\n",
    "val_final = pd.DataFrame(val_rows, columns = [\"article_id\", \"index_group_name\", \"detail_desc\", \"location\"] )\n",
    "test_final = pd.DataFrame(test_rows, columns = [\"article_id\", \"index_group_name\", \"detail_desc\", \"location\"] )"
   ]
  },
  {
   "cell_type": "code",
   "execution_count": 31,
   "id": "5e8c05d6",
   "metadata": {},
   "outputs": [],
   "source": [
    "\n",
    "import shutil\n",
    "\n",
    "def write_images(final_df, tag=\"\"):\n",
    "    image_paths = final_df[\"location\"].tolist()\n",
    "    dest_folder = tag + \"_images\"\n",
    "    dest_path = os.path.join('c:', os.sep, 'Users', \"ojubh\", \"Desktop\", dest_folder)\n",
    "    os.mkdir(dest_path)\n",
    "\n",
    "    mypath = os.path.join('c:', os.sep, 'Users', \"ojubh\", \"Desktop\", \"images\")\n",
    "    newsize = (256, 256)\n",
    "    for image in image_paths:\n",
    "        img_path = os.path.join(mypath, *image.split(\"/\"))\n",
    "        img = Image.open(img_path)\n",
    "        img = img.resize(newsize)\n",
    "        dest_loc = os.path.join(dest_path, image.split(\"/\")[1])\n",
    "        img.save(dest_loc)\n"
   ]
  },
  {
   "cell_type": "code",
   "execution_count": 42,
   "id": "743d137d",
   "metadata": {},
   "outputs": [],
   "source": [
    "import numpy as np"
   ]
  },
  {
   "cell_type": "code",
   "execution_count": 58,
   "id": "89f08847",
   "metadata": {},
   "outputs": [],
   "source": [
    "train_img = \"val_images\"\n",
    "\n",
    "bands = []\n",
    "band_one = []\n",
    "for name in os.listdir(os.path.join('c:', os.sep, 'Users', \"ojubh\", \"Desktop\", train_img)):\n",
    "    img = Image.open((os.path.join('c:', os.sep, 'Users', \"ojubh\", \"Desktop\", train_img, name)))\n",
    "    bands.append(len(img.getbands()))\n",
    "    if len(img.getbands()) != 3:\n",
    "        band_one.append(name)\n",
    "        "
   ]
  },
  {
   "cell_type": "code",
   "execution_count": 59,
   "id": "da1a2863",
   "metadata": {},
   "outputs": [
    {
     "data": {
      "text/plain": [
       "[]"
      ]
     },
     "execution_count": 59,
     "metadata": {},
     "output_type": "execute_result"
    }
   ],
   "source": [
    "band_one"
   ]
  },
  {
   "cell_type": "markdown",
   "id": "de715e05",
   "metadata": {},
   "source": [
    "'0616100001.jpg'"
   ]
  },
  {
   "cell_type": "code",
   "execution_count": 28,
   "id": "a2539326",
   "metadata": {},
   "outputs": [
    {
     "data": {
      "text/html": [
       "<div>\n",
       "<style scoped>\n",
       "    .dataframe tbody tr th:only-of-type {\n",
       "        vertical-align: middle;\n",
       "    }\n",
       "\n",
       "    .dataframe tbody tr th {\n",
       "        vertical-align: top;\n",
       "    }\n",
       "\n",
       "    .dataframe thead th {\n",
       "        text-align: right;\n",
       "    }\n",
       "</style>\n",
       "<table border=\"1\" class=\"dataframe\">\n",
       "  <thead>\n",
       "    <tr style=\"text-align: right;\">\n",
       "      <th></th>\n",
       "      <th>article_id</th>\n",
       "      <th>index_group_name</th>\n",
       "      <th>detail_desc</th>\n",
       "      <th>location</th>\n",
       "    </tr>\n",
       "  </thead>\n",
       "  <tbody>\n",
       "  </tbody>\n",
       "</table>\n",
       "</div>"
      ],
      "text/plain": [
       "Empty DataFrame\n",
       "Columns: [article_id, index_group_name, detail_desc, location]\n",
       "Index: []"
      ]
     },
     "execution_count": 28,
     "metadata": {},
     "output_type": "execute_result"
    }
   ],
   "source": [
    "train_final[train_final['article_id'] == '0616100001.jpg']"
   ]
  },
  {
   "cell_type": "code",
   "execution_count": 32,
   "id": "8fdcf859",
   "metadata": {},
   "outputs": [],
   "source": [
    "write_images(train_final, \"train\")"
   ]
  },
  {
   "cell_type": "code",
   "execution_count": 33,
   "id": "b6452ae4",
   "metadata": {},
   "outputs": [],
   "source": [
    "write_imagesages(val_final, \"val\")"
   ]
  },
  {
   "cell_type": "code",
   "execution_count": 34,
   "id": "d1755b1a",
   "metadata": {},
   "outputs": [],
   "source": [
    "write_images(test_final, \"test\")"
   ]
  },
  {
   "cell_type": "code",
   "execution_count": 29,
   "id": "93c6b952",
   "metadata": {},
   "outputs": [],
   "source": [
    "# export dataframe to csv\n",
    "train_final.to_csv(\"train_data.csv\")\n",
    "val_final.to_csv(\"val_data.csv\")\n",
    "test_final.to_csv(\"test_data.csv\")"
   ]
  },
  {
   "cell_type": "code",
   "execution_count": null,
   "id": "a2301662",
   "metadata": {},
   "outputs": [],
   "source": []
  }
 ],
 "metadata": {
  "kernelspec": {
   "display_name": "Python 3",
   "language": "python",
   "name": "python3"
  },
  "language_info": {
   "codemirror_mode": {
    "name": "ipython",
    "version": 3
   },
   "file_extension": ".py",
   "mimetype": "text/x-python",
   "name": "python",
   "nbconvert_exporter": "python",
   "pygments_lexer": "ipython3",
   "version": "3.8.8"
  }
 },
 "nbformat": 4,
 "nbformat_minor": 5
}
