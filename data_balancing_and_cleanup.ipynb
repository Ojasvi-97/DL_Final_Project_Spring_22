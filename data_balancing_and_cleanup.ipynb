{
 "cells": [
  {
   "cell_type": "markdown",
   "id": "68e74123",
   "metadata": {},
   "source": [
    "#### Since the data is highly imbalanced, we take 11,000 samples out of each category.\n",
    "#### The categories being: \n",
    "##### 1) Baby/Children\n",
    "##### 2) Divided\n",
    "##### 3) Ladieswear\n",
    "##### 4) Menswear\n",
    "##### 5) Sport\n",
    "\n",
    "##### We also remove samples which don't have detail_desc\n",
    "\n",
    "##### This data will be used to train the image and text embeddings"
   ]
  },
  {
   "cell_type": "code",
   "execution_count": 1,
   "id": "d869e393",
   "metadata": {},
   "outputs": [],
   "source": [
    "import os\n",
    "import pandas as pd\n",
    "from PIL import Image"
   ]
  },
  {
   "cell_type": "code",
   "execution_count": 2,
   "id": "33fec179",
   "metadata": {},
   "outputs": [],
   "source": [
    "articles_df = pd.read_csv(\"C:/Users/ojubh\\/Desktop/SEMESTER 2/Deep Learning/Final_Project/data/articles.csv\")"
   ]
  },
  {
   "cell_type": "code",
   "execution_count": 3,
   "id": "c43f02ca",
   "metadata": {},
   "outputs": [
    {
     "data": {
      "text/plain": [
       "105542"
      ]
     },
     "execution_count": 3,
     "metadata": {},
     "output_type": "execute_result"
    }
   ],
   "source": [
    "len(articles_df)"
   ]
  },
  {
   "cell_type": "code",
   "execution_count": 4,
   "id": "db7cb19b",
   "metadata": {},
   "outputs": [],
   "source": [
    "articles_df = articles_df[[\"article_id\", \"index_group_name\", \"detail_desc\"]]"
   ]
  },
  {
   "cell_type": "code",
   "execution_count": 5,
   "id": "704982a0",
   "metadata": {
    "scrolled": true
   },
   "outputs": [
    {
     "data": {
      "text/html": [
       "<div>\n",
       "<style scoped>\n",
       "    .dataframe tbody tr th:only-of-type {\n",
       "        vertical-align: middle;\n",
       "    }\n",
       "\n",
       "    .dataframe tbody tr th {\n",
       "        vertical-align: top;\n",
       "    }\n",
       "\n",
       "    .dataframe thead th {\n",
       "        text-align: right;\n",
       "    }\n",
       "</style>\n",
       "<table border=\"1\" class=\"dataframe\">\n",
       "  <thead>\n",
       "    <tr style=\"text-align: right;\">\n",
       "      <th></th>\n",
       "      <th>article_id</th>\n",
       "      <th>index_group_name</th>\n",
       "      <th>detail_desc</th>\n",
       "    </tr>\n",
       "  </thead>\n",
       "  <tbody>\n",
       "    <tr>\n",
       "      <th>0</th>\n",
       "      <td>108775015</td>\n",
       "      <td>Ladieswear</td>\n",
       "      <td>Jersey top with narrow shoulder straps.</td>\n",
       "    </tr>\n",
       "    <tr>\n",
       "      <th>1</th>\n",
       "      <td>108775044</td>\n",
       "      <td>Ladieswear</td>\n",
       "      <td>Jersey top with narrow shoulder straps.</td>\n",
       "    </tr>\n",
       "    <tr>\n",
       "      <th>2</th>\n",
       "      <td>108775051</td>\n",
       "      <td>Ladieswear</td>\n",
       "      <td>Jersey top with narrow shoulder straps.</td>\n",
       "    </tr>\n",
       "    <tr>\n",
       "      <th>3</th>\n",
       "      <td>110065001</td>\n",
       "      <td>Ladieswear</td>\n",
       "      <td>Microfibre T-shirt bra with underwired, moulde...</td>\n",
       "    </tr>\n",
       "    <tr>\n",
       "      <th>4</th>\n",
       "      <td>110065002</td>\n",
       "      <td>Ladieswear</td>\n",
       "      <td>Microfibre T-shirt bra with underwired, moulde...</td>\n",
       "    </tr>\n",
       "  </tbody>\n",
       "</table>\n",
       "</div>"
      ],
      "text/plain": [
       "   article_id index_group_name  \\\n",
       "0   108775015       Ladieswear   \n",
       "1   108775044       Ladieswear   \n",
       "2   108775051       Ladieswear   \n",
       "3   110065001       Ladieswear   \n",
       "4   110065002       Ladieswear   \n",
       "\n",
       "                                         detail_desc  \n",
       "0            Jersey top with narrow shoulder straps.  \n",
       "1            Jersey top with narrow shoulder straps.  \n",
       "2            Jersey top with narrow shoulder straps.  \n",
       "3  Microfibre T-shirt bra with underwired, moulde...  \n",
       "4  Microfibre T-shirt bra with underwired, moulde...  "
      ]
     },
     "execution_count": 5,
     "metadata": {},
     "output_type": "execute_result"
    }
   ],
   "source": [
    "articles_df.head()"
   ]
  },
  {
   "cell_type": "code",
   "execution_count": 6,
   "id": "99e1823f",
   "metadata": {},
   "outputs": [
    {
     "data": {
      "text/plain": [
       "array([False,  True])"
      ]
     },
     "execution_count": 6,
     "metadata": {},
     "output_type": "execute_result"
    }
   ],
   "source": [
    "articles_df[\"detail_desc\"].isna().unique()"
   ]
  },
  {
   "cell_type": "code",
   "execution_count": 7,
   "id": "4ec1aee4",
   "metadata": {},
   "outputs": [],
   "source": [
    "articles_df.dropna(subset=['detail_desc'], how='all', inplace=True)"
   ]
  },
  {
   "cell_type": "code",
   "execution_count": 8,
   "id": "ed91fbb0",
   "metadata": {},
   "outputs": [
    {
     "data": {
      "text/plain": [
       "array([False])"
      ]
     },
     "execution_count": 8,
     "metadata": {},
     "output_type": "execute_result"
    }
   ],
   "source": [
    "## missing values have been removed\n",
    "articles_df[\"detail_desc\"].isna().unique()"
   ]
  },
  {
   "cell_type": "code",
   "execution_count": 9,
   "id": "fe154217",
   "metadata": {},
   "outputs": [
    {
     "data": {
      "text/plain": [
       "array(['Ladieswear', 'Baby/Children', 'Menswear', 'Sport', 'Divided'],\n",
       "      dtype=object)"
      ]
     },
     "execution_count": 9,
     "metadata": {},
     "output_type": "execute_result"
    }
   ],
   "source": [
    "articles_df[\"index_group_name\"].unique()"
   ]
  },
  {
   "cell_type": "code",
   "execution_count": 10,
   "id": "d1e810d2",
   "metadata": {},
   "outputs": [],
   "source": [
    "index_group = articles_df.groupby(\"index_group_name\")"
   ]
  },
  {
   "cell_type": "code",
   "execution_count": 11,
   "id": "c07b05d8",
   "metadata": {},
   "outputs": [
    {
     "name": "stdout",
     "output_type": "stream",
     "text": [
      "name: Baby/Children | size: 34619 %: 0.3293095903962864\n",
      "name: Divided | size: 15086 %: 0.14350398569335845\n",
      "name: Ladieswear | size: 39523 %: 0.3759583737610106\n",
      "name: Menswear | size: 12539 %: 0.11927591651922455\n",
      "name: Sport | size: 3359 %: 0.03195213363012005\n"
     ]
    }
   ],
   "source": [
    "for name, group in index_group:\n",
    "    print('name:', name, \"|\", \"size:\", len(group), \"%:\", len(group)/len(articles_df))"
   ]
  },
  {
   "cell_type": "code",
   "execution_count": 12,
   "id": "88a23de0",
   "metadata": {},
   "outputs": [
    {
     "name": "stdout",
     "output_type": "stream",
     "text": [
      "Training split 63075\n",
      "Samples for Baby/Child: 20184\n",
      "Samples for Divided: 8830\n",
      "Samples for Ladieswear: 23337\n",
      "Samples for menswear 6938\n",
      "samples for sport 1892\n"
     ]
    }
   ],
   "source": [
    "training_split = int(0.6*len(articles_df))\n",
    "print(\"Training split\", training_split)\n",
    "print(\"Samples for Baby/Child:\", int(0.32*training_split))\n",
    "print(\"Samples for Divided:\", int(0.14*training_split))\n",
    "print(\"Samples for Ladieswear:\", int(0.37*training_split))\n",
    "print(\"Samples for menswear\", int(0.11 * training_split))\n",
    "print(\"samples for sport\", int(0.03 * training_split))\n"
   ]
  },
  {
   "cell_type": "code",
   "execution_count": 13,
   "id": "4c9fa9f7",
   "metadata": {},
   "outputs": [],
   "source": [
    "#no sampling for \"Sport\"\n",
    "sport_df_train = articles_df[articles_df[\"index_group_name\"] == \"Sport\"].sample(n=int(0.03 * training_split))\n",
    "\n",
    "baby_children_df_train = articles_df[articles_df[\"index_group_name\"] == \"Baby/Children\"].sample(n=int(0.32*training_split))\n",
    "\n",
    "divided_df_train = articles_df[articles_df[\"index_group_name\"] == \"Divided\"].sample(n=int(0.14*training_split))\n",
    "\n",
    "ladieswear_df_train = articles_df[articles_df[\"index_group_name\"] == \"Ladieswear\"].sample(n=int(0.37*training_split))\n",
    "\n",
    "menswear_df_train = articles_df[articles_df[\"index_group_name\"] == \"Menswear\"].sample(n=int(0.11 * training_split))\n",
    "\n",
    "\n",
    "\n",
    "\n",
    "train_df = pd.concat([sport_df_train,\n",
    "                        baby_children_df_train,\n",
    "                        divided_df_train,\n",
    "                        ladieswear_df_train,\n",
    "                        menswear_df_train], axis=0)"
   ]
  },
  {
   "cell_type": "code",
   "execution_count": 14,
   "id": "e21d845e",
   "metadata": {
    "scrolled": true
   },
   "outputs": [
    {
     "data": {
      "text/html": [
       "<div>\n",
       "<style scoped>\n",
       "    .dataframe tbody tr th:only-of-type {\n",
       "        vertical-align: middle;\n",
       "    }\n",
       "\n",
       "    .dataframe tbody tr th {\n",
       "        vertical-align: top;\n",
       "    }\n",
       "\n",
       "    .dataframe thead th {\n",
       "        text-align: right;\n",
       "    }\n",
       "</style>\n",
       "<table border=\"1\" class=\"dataframe\">\n",
       "  <thead>\n",
       "    <tr style=\"text-align: right;\">\n",
       "      <th></th>\n",
       "      <th>article_id</th>\n",
       "      <th>index_group_name</th>\n",
       "      <th>detail_desc</th>\n",
       "    </tr>\n",
       "  </thead>\n",
       "  <tbody>\n",
       "    <tr>\n",
       "      <th>11549</th>\n",
       "      <td>548335002</td>\n",
       "      <td>Sport</td>\n",
       "      <td>Loose-fitting sports top in fast-drying functi...</td>\n",
       "    </tr>\n",
       "    <tr>\n",
       "      <th>38132</th>\n",
       "      <td>656649003</td>\n",
       "      <td>Sport</td>\n",
       "      <td>Sports tights in fast-drying functional fabric...</td>\n",
       "    </tr>\n",
       "    <tr>\n",
       "      <th>78501</th>\n",
       "      <td>794321004</td>\n",
       "      <td>Sport</td>\n",
       "      <td>Outdoor jacket in woven fabric with a double-l...</td>\n",
       "    </tr>\n",
       "    <tr>\n",
       "      <th>5698</th>\n",
       "      <td>498742004</td>\n",
       "      <td>Sport</td>\n",
       "      <td>Wide sports top in fast-drying functional fabr...</td>\n",
       "    </tr>\n",
       "    <tr>\n",
       "      <th>28654</th>\n",
       "      <td>623781009</td>\n",
       "      <td>Sport</td>\n",
       "      <td>Short-sleeved sports tops in fast-drying funct...</td>\n",
       "    </tr>\n",
       "    <tr>\n",
       "      <th>39533</th>\n",
       "      <td>661735001</td>\n",
       "      <td>Sport</td>\n",
       "      <td>Running jacket in fast-drying, breathable func...</td>\n",
       "    </tr>\n",
       "    <tr>\n",
       "      <th>9495</th>\n",
       "      <td>533406011</td>\n",
       "      <td>Sport</td>\n",
       "      <td>Sports joggers in sturdy sweatshirt fabric wit...</td>\n",
       "    </tr>\n",
       "    <tr>\n",
       "      <th>95025</th>\n",
       "      <td>865142001</td>\n",
       "      <td>Sport</td>\n",
       "      <td>Cropped sports top in fast-drying mesh with a ...</td>\n",
       "    </tr>\n",
       "    <tr>\n",
       "      <th>89255</th>\n",
       "      <td>837141001</td>\n",
       "      <td>Sport</td>\n",
       "      <td>Slightly shorter, boxy-style sports top in sof...</td>\n",
       "    </tr>\n",
       "    <tr>\n",
       "      <th>49356</th>\n",
       "      <td>694514001</td>\n",
       "      <td>Sport</td>\n",
       "      <td>Sports top in fast-drying functional fabric wi...</td>\n",
       "    </tr>\n",
       "  </tbody>\n",
       "</table>\n",
       "</div>"
      ],
      "text/plain": [
       "       article_id index_group_name  \\\n",
       "11549   548335002            Sport   \n",
       "38132   656649003            Sport   \n",
       "78501   794321004            Sport   \n",
       "5698    498742004            Sport   \n",
       "28654   623781009            Sport   \n",
       "39533   661735001            Sport   \n",
       "9495    533406011            Sport   \n",
       "95025   865142001            Sport   \n",
       "89255   837141001            Sport   \n",
       "49356   694514001            Sport   \n",
       "\n",
       "                                             detail_desc  \n",
       "11549  Loose-fitting sports top in fast-drying functi...  \n",
       "38132  Sports tights in fast-drying functional fabric...  \n",
       "78501  Outdoor jacket in woven fabric with a double-l...  \n",
       "5698   Wide sports top in fast-drying functional fabr...  \n",
       "28654  Short-sleeved sports tops in fast-drying funct...  \n",
       "39533  Running jacket in fast-drying, breathable func...  \n",
       "9495   Sports joggers in sturdy sweatshirt fabric wit...  \n",
       "95025  Cropped sports top in fast-drying mesh with a ...  \n",
       "89255  Slightly shorter, boxy-style sports top in sof...  \n",
       "49356  Sports top in fast-drying functional fabric wi...  "
      ]
     },
     "execution_count": 14,
     "metadata": {},
     "output_type": "execute_result"
    }
   ],
   "source": [
    "train_df.head(10)"
   ]
  },
  {
   "cell_type": "code",
   "execution_count": 15,
   "id": "de9f32b4",
   "metadata": {},
   "outputs": [],
   "source": [
    "articles_df = articles_df.drop(train_df.index)"
   ]
  },
  {
   "cell_type": "code",
   "execution_count": 16,
   "id": "60ab1488",
   "metadata": {},
   "outputs": [
    {
     "data": {
      "text/plain": [
       "43945"
      ]
     },
     "execution_count": 16,
     "metadata": {},
     "output_type": "execute_result"
    }
   ],
   "source": [
    "len(articles_df)"
   ]
  },
  {
   "cell_type": "code",
   "execution_count": 17,
   "id": "68ad989a",
   "metadata": {},
   "outputs": [
    {
     "data": {
      "text/html": [
       "<div>\n",
       "<style scoped>\n",
       "    .dataframe tbody tr th:only-of-type {\n",
       "        vertical-align: middle;\n",
       "    }\n",
       "\n",
       "    .dataframe tbody tr th {\n",
       "        vertical-align: top;\n",
       "    }\n",
       "\n",
       "    .dataframe thead th {\n",
       "        text-align: right;\n",
       "    }\n",
       "</style>\n",
       "<table border=\"1\" class=\"dataframe\">\n",
       "  <thead>\n",
       "    <tr style=\"text-align: right;\">\n",
       "      <th></th>\n",
       "      <th>index</th>\n",
       "      <th>article_id</th>\n",
       "      <th>index_group_name</th>\n",
       "      <th>detail_desc</th>\n",
       "    </tr>\n",
       "  </thead>\n",
       "  <tbody>\n",
       "    <tr>\n",
       "      <th>0</th>\n",
       "      <td>11549</td>\n",
       "      <td>548335002</td>\n",
       "      <td>Sport</td>\n",
       "      <td>Loose-fitting sports top in fast-drying functi...</td>\n",
       "    </tr>\n",
       "    <tr>\n",
       "      <th>1</th>\n",
       "      <td>38132</td>\n",
       "      <td>656649003</td>\n",
       "      <td>Sport</td>\n",
       "      <td>Sports tights in fast-drying functional fabric...</td>\n",
       "    </tr>\n",
       "    <tr>\n",
       "      <th>2</th>\n",
       "      <td>78501</td>\n",
       "      <td>794321004</td>\n",
       "      <td>Sport</td>\n",
       "      <td>Outdoor jacket in woven fabric with a double-l...</td>\n",
       "    </tr>\n",
       "    <tr>\n",
       "      <th>3</th>\n",
       "      <td>5698</td>\n",
       "      <td>498742004</td>\n",
       "      <td>Sport</td>\n",
       "      <td>Wide sports top in fast-drying functional fabr...</td>\n",
       "    </tr>\n",
       "    <tr>\n",
       "      <th>4</th>\n",
       "      <td>28654</td>\n",
       "      <td>623781009</td>\n",
       "      <td>Sport</td>\n",
       "      <td>Short-sleeved sports tops in fast-drying funct...</td>\n",
       "    </tr>\n",
       "    <tr>\n",
       "      <th>...</th>\n",
       "      <td>...</td>\n",
       "      <td>...</td>\n",
       "      <td>...</td>\n",
       "      <td>...</td>\n",
       "    </tr>\n",
       "    <tr>\n",
       "      <th>61176</th>\n",
       "      <td>20935</td>\n",
       "      <td>591439006</td>\n",
       "      <td>Menswear</td>\n",
       "      <td>T-shirt in cotton jersey with a print motif on...</td>\n",
       "    </tr>\n",
       "    <tr>\n",
       "      <th>61177</th>\n",
       "      <td>51933</td>\n",
       "      <td>699925001</td>\n",
       "      <td>Menswear</td>\n",
       "      <td>Cargo shorts in cotton twill with a regular wa...</td>\n",
       "    </tr>\n",
       "    <tr>\n",
       "      <th>61178</th>\n",
       "      <td>78859</td>\n",
       "      <td>795836012</td>\n",
       "      <td>Menswear</td>\n",
       "      <td>Long-sleeved shirt in washed Oxford cotton wit...</td>\n",
       "    </tr>\n",
       "    <tr>\n",
       "      <th>61179</th>\n",
       "      <td>51719</td>\n",
       "      <td>699580001</td>\n",
       "      <td>Menswear</td>\n",
       "      <td>Joggers in a linen and cotton weave in a relax...</td>\n",
       "    </tr>\n",
       "    <tr>\n",
       "      <th>61180</th>\n",
       "      <td>59793</td>\n",
       "      <td>724979001</td>\n",
       "      <td>Menswear</td>\n",
       "      <td>Cardigan in sweatshirt fabric with a small, ri...</td>\n",
       "    </tr>\n",
       "  </tbody>\n",
       "</table>\n",
       "<p>61181 rows × 4 columns</p>\n",
       "</div>"
      ],
      "text/plain": [
       "       index  article_id index_group_name  \\\n",
       "0      11549   548335002            Sport   \n",
       "1      38132   656649003            Sport   \n",
       "2      78501   794321004            Sport   \n",
       "3       5698   498742004            Sport   \n",
       "4      28654   623781009            Sport   \n",
       "...      ...         ...              ...   \n",
       "61176  20935   591439006         Menswear   \n",
       "61177  51933   699925001         Menswear   \n",
       "61178  78859   795836012         Menswear   \n",
       "61179  51719   699580001         Menswear   \n",
       "61180  59793   724979001         Menswear   \n",
       "\n",
       "                                             detail_desc  \n",
       "0      Loose-fitting sports top in fast-drying functi...  \n",
       "1      Sports tights in fast-drying functional fabric...  \n",
       "2      Outdoor jacket in woven fabric with a double-l...  \n",
       "3      Wide sports top in fast-drying functional fabr...  \n",
       "4      Short-sleeved sports tops in fast-drying funct...  \n",
       "...                                                  ...  \n",
       "61176  T-shirt in cotton jersey with a print motif on...  \n",
       "61177  Cargo shorts in cotton twill with a regular wa...  \n",
       "61178  Long-sleeved shirt in washed Oxford cotton wit...  \n",
       "61179  Joggers in a linen and cotton weave in a relax...  \n",
       "61180  Cardigan in sweatshirt fabric with a small, ri...  \n",
       "\n",
       "[61181 rows x 4 columns]"
      ]
     },
     "execution_count": 17,
     "metadata": {},
     "output_type": "execute_result"
    }
   ],
   "source": [
    "train_df.reset_index()"
   ]
  },
  {
   "cell_type": "code",
   "execution_count": 18,
   "id": "ea685dff",
   "metadata": {},
   "outputs": [
    {
     "name": "stdout",
     "output_type": "stream",
     "text": [
      "Val split 21972\n",
      "Samples for Baby/Child: 7031\n",
      "Samples for Divided: 3076\n",
      "Samples for Ladieswear: 8129\n",
      "Samples for menswear 2416\n",
      "samples for sport 659\n"
     ]
    }
   ],
   "source": [
    "val_split = int(len(articles_df)/2)\n",
    "\n",
    "print(\"Val split\", val_split)\n",
    "print(\"Samples for Baby/Child:\", int(0.32*val_split))\n",
    "print(\"Samples for Divided:\", int(0.14*val_split))\n",
    "print(\"Samples for Ladieswear:\", int(0.37*val_split))\n",
    "print(\"Samples for menswear\", int(0.11 * val_split))\n",
    "print(\"samples for sport\", int(0.03 * val_split))"
   ]
  },
  {
   "cell_type": "code",
   "execution_count": 19,
   "id": "5e2bd0a8",
   "metadata": {},
   "outputs": [],
   "source": [
    "sport_df_val = articles_df[articles_df[\"index_group_name\"] == \"Sport\"].sample(n=int(0.03 * val_split))\n",
    "\n",
    "baby_children_df_val = articles_df[articles_df[\"index_group_name\"] == \"Baby/Children\"].sample(n=int(0.32*val_split))\n",
    "\n",
    "divided_df_val = articles_df[articles_df[\"index_group_name\"] == \"Divided\"].sample(n=int(0.14*val_split))\n",
    "\n",
    "ladieswear_df_val = articles_df[articles_df[\"index_group_name\"] == \"Ladieswear\"].sample(n=int(0.37*val_split))\n",
    "\n",
    "menswear_df_val = articles_df[articles_df[\"index_group_name\"] == \"Menswear\"].sample(n=int(0.11 * val_split))\n",
    "\n",
    "\n",
    "val_df = pd.concat([sport_df_val,\n",
    "                        baby_children_df_val,\n",
    "                        divided_df_val,\n",
    "                        ladieswear_df_val,\n",
    "                        menswear_df_val], axis=0)"
   ]
  },
  {
   "cell_type": "code",
   "execution_count": 20,
   "id": "e44608da",
   "metadata": {},
   "outputs": [],
   "source": [
    "test_df = articles_df.drop(val_df.index)"
   ]
  },
  {
   "cell_type": "code",
   "execution_count": 21,
   "id": "c52cb051",
   "metadata": {
    "scrolled": true
   },
   "outputs": [
    {
     "data": {
      "text/html": [
       "<div>\n",
       "<style scoped>\n",
       "    .dataframe tbody tr th:only-of-type {\n",
       "        vertical-align: middle;\n",
       "    }\n",
       "\n",
       "    .dataframe tbody tr th {\n",
       "        vertical-align: top;\n",
       "    }\n",
       "\n",
       "    .dataframe thead th {\n",
       "        text-align: right;\n",
       "    }\n",
       "</style>\n",
       "<table border=\"1\" class=\"dataframe\">\n",
       "  <thead>\n",
       "    <tr style=\"text-align: right;\">\n",
       "      <th></th>\n",
       "      <th>index</th>\n",
       "      <th>article_id</th>\n",
       "      <th>index_group_name</th>\n",
       "      <th>detail_desc</th>\n",
       "    </tr>\n",
       "  </thead>\n",
       "  <tbody>\n",
       "    <tr>\n",
       "      <th>0</th>\n",
       "      <td>6</td>\n",
       "      <td>111565001</td>\n",
       "      <td>Ladieswear</td>\n",
       "      <td>Semi shiny nylon stockings with a wide, reinfo...</td>\n",
       "    </tr>\n",
       "    <tr>\n",
       "      <th>1</th>\n",
       "      <td>8</td>\n",
       "      <td>111586001</td>\n",
       "      <td>Ladieswear</td>\n",
       "      <td>Tights with built-in support to lift the botto...</td>\n",
       "    </tr>\n",
       "    <tr>\n",
       "      <th>2</th>\n",
       "      <td>10</td>\n",
       "      <td>111609001</td>\n",
       "      <td>Ladieswear</td>\n",
       "      <td>Opaque matt tights. 200 denier.</td>\n",
       "    </tr>\n",
       "    <tr>\n",
       "      <th>3</th>\n",
       "      <td>16</td>\n",
       "      <td>118458003</td>\n",
       "      <td>Menswear</td>\n",
       "      <td>Trousers in sweatshirt fabric with an elastica...</td>\n",
       "    </tr>\n",
       "    <tr>\n",
       "      <th>4</th>\n",
       "      <td>17</td>\n",
       "      <td>118458004</td>\n",
       "      <td>Menswear</td>\n",
       "      <td>Trousers in sweatshirt fabric with an elastica...</td>\n",
       "    </tr>\n",
       "    <tr>\n",
       "      <th>...</th>\n",
       "      <td>...</td>\n",
       "      <td>...</td>\n",
       "      <td>...</td>\n",
       "      <td>...</td>\n",
       "    </tr>\n",
       "    <tr>\n",
       "      <th>22629</th>\n",
       "      <td>105517</td>\n",
       "      <td>947509001</td>\n",
       "      <td>Ladieswear</td>\n",
       "      <td>Narrow belt in leather with a metal buckle. Th...</td>\n",
       "    </tr>\n",
       "    <tr>\n",
       "      <th>22630</th>\n",
       "      <td>105520</td>\n",
       "      <td>947599001</td>\n",
       "      <td>Ladieswear</td>\n",
       "      <td>Long-sleeved tops in soft, organic cotton jers...</td>\n",
       "    </tr>\n",
       "    <tr>\n",
       "      <th>22631</th>\n",
       "      <td>105528</td>\n",
       "      <td>949198001</td>\n",
       "      <td>Ladieswear</td>\n",
       "      <td>Joggers in sweatshirt fabric made from a cotto...</td>\n",
       "    </tr>\n",
       "    <tr>\n",
       "      <th>22632</th>\n",
       "      <td>105530</td>\n",
       "      <td>949551001</td>\n",
       "      <td>Divided</td>\n",
       "      <td>Short, boxy-style top in sweatshirt fabric mad...</td>\n",
       "    </tr>\n",
       "    <tr>\n",
       "      <th>22633</th>\n",
       "      <td>105533</td>\n",
       "      <td>950449002</td>\n",
       "      <td>Baby/Children</td>\n",
       "      <td>Small, folding hair brush with a rhinestone-de...</td>\n",
       "    </tr>\n",
       "  </tbody>\n",
       "</table>\n",
       "<p>22634 rows × 4 columns</p>\n",
       "</div>"
      ],
      "text/plain": [
       "        index  article_id index_group_name  \\\n",
       "0           6   111565001       Ladieswear   \n",
       "1           8   111586001       Ladieswear   \n",
       "2          10   111609001       Ladieswear   \n",
       "3          16   118458003         Menswear   \n",
       "4          17   118458004         Menswear   \n",
       "...       ...         ...              ...   \n",
       "22629  105517   947509001       Ladieswear   \n",
       "22630  105520   947599001       Ladieswear   \n",
       "22631  105528   949198001       Ladieswear   \n",
       "22632  105530   949551001          Divided   \n",
       "22633  105533   950449002    Baby/Children   \n",
       "\n",
       "                                             detail_desc  \n",
       "0      Semi shiny nylon stockings with a wide, reinfo...  \n",
       "1      Tights with built-in support to lift the botto...  \n",
       "2                        Opaque matt tights. 200 denier.  \n",
       "3      Trousers in sweatshirt fabric with an elastica...  \n",
       "4      Trousers in sweatshirt fabric with an elastica...  \n",
       "...                                                  ...  \n",
       "22629  Narrow belt in leather with a metal buckle. Th...  \n",
       "22630  Long-sleeved tops in soft, organic cotton jers...  \n",
       "22631  Joggers in sweatshirt fabric made from a cotto...  \n",
       "22632  Short, boxy-style top in sweatshirt fabric mad...  \n",
       "22633  Small, folding hair brush with a rhinestone-de...  \n",
       "\n",
       "[22634 rows x 4 columns]"
      ]
     },
     "execution_count": 21,
     "metadata": {},
     "output_type": "execute_result"
    }
   ],
   "source": [
    "val_df.reset_index()\n",
    "test_df.reset_index()"
   ]
  },
  {
   "cell_type": "code",
   "execution_count": 22,
   "id": "36164c3d",
   "metadata": {},
   "outputs": [
    {
     "data": {
      "text/plain": [
       "105126"
      ]
     },
     "execution_count": 22,
     "metadata": {},
     "output_type": "execute_result"
    }
   ],
   "source": [
    "len(val_df) + len(test_df) + len(train_df)"
   ]
  },
  {
   "cell_type": "code",
   "execution_count": 23,
   "id": "e4cbaa0f",
   "metadata": {},
   "outputs": [],
   "source": [
    "def get_image_path(balanced_df):\n",
    "    final_rows = []\n",
    "    mypath = os.path.join('c:', os.sep, 'Users', \"ojubh\", \"Desktop\", \"images\")\n",
    "\n",
    "    for (_, row) in balanced_df.iterrows():\n",
    "        location = \"0\" + str(row[\"article_id\"])[:2] + \"/\" + \"0\" + str(row[\"article_id\"]) + \".jpg\"\n",
    "        path = os.path.join(mypath, *location.split(\"/\"))\n",
    "        if os.path.isfile(path):\n",
    "            final_rows.append([row[\"article_id\"], row[\"index_group_name\"], row[\"detail_desc\"], location])\n",
    "    \n",
    "    return final_rows"
   ]
  },
  {
   "cell_type": "code",
   "execution_count": 24,
   "id": "8627febd",
   "metadata": {},
   "outputs": [],
   "source": [
    "train_rows = get_image_path(train_df)\n",
    "val_rows = get_image_path(val_df)\n",
    "test_rows = get_image_path(test_df)\n",
    "\n",
    "# final_df = pd.DataFrame(final_rows, columns = [\"article_id\", \"index_group_name\", \"detail_desc\", \"location\"] )"
   ]
  },
  {
   "cell_type": "code",
   "execution_count": 25,
   "id": "54ae2d3e",
   "metadata": {},
   "outputs": [
    {
     "data": {
      "text/plain": [
       "104695"
      ]
     },
     "execution_count": 25,
     "metadata": {},
     "output_type": "execute_result"
    }
   ],
   "source": [
    "len(train_rows) + len(val_rows) + len(test_rows)"
   ]
  },
  {
   "cell_type": "code",
   "execution_count": 26,
   "id": "2c5532ad",
   "metadata": {},
   "outputs": [],
   "source": [
    "train_final = pd.DataFrame(train_rows, columns = [\"article_id\", \"index_group_name\", \"detail_desc\", \"location\"])\n",
    "val_final = pd.DataFrame(val_rows, columns = [\"article_id\", \"index_group_name\", \"detail_desc\", \"location\"] )\n",
    "test_final = pd.DataFrame(test_rows, columns = [\"article_id\", \"index_group_name\", \"detail_desc\", \"location\"] )"
   ]
  },
  {
   "cell_type": "code",
   "execution_count": 27,
   "id": "5e8c05d6",
   "metadata": {},
   "outputs": [],
   "source": [
    "\n",
    "import shutil\n",
    "\n",
    "def write_images(final_df, tag=\"\"):\n",
    "    image_paths = final_df[\"location\"].tolist()\n",
    "    dest_folder = tag + \"_images\"\n",
    "    dest_path = os.path.join('c:', os.sep, 'Users', \"ojubh\", \"Desktop\", dest_folder)\n",
    "    os.mkdir(dest_path)\n",
    "\n",
    "    mypath = os.path.join('c:', os.sep, 'Users', \"ojubh\", \"Desktop\", \"images\")\n",
    "    newsize = (256, 256)\n",
    "    for image in image_paths:\n",
    "        img_path = os.path.join(mypath, *image.split(\"/\"))\n",
    "        img = Image.open(img_path)\n",
    "        img = img.resize(newsize)\n",
    "        dest_loc = os.path.join(dest_path, image.split(\"/\")[1])\n",
    "        img.save(dest_loc)\n"
   ]
  },
  {
   "cell_type": "code",
   "execution_count": 28,
   "id": "80b9857d",
   "metadata": {},
   "outputs": [],
   "source": [
    "import numpy as np"
   ]
  },
  {
   "cell_type": "code",
   "execution_count": null,
   "id": "b1ca3efa",
   "metadata": {},
   "outputs": [],
   "source": [
    "train_img = \"test_images\"\n",
    "\n",
    "\n",
    "faulty = []\n",
    "for name in os.listdir(os.path.join('c:', os.sep, 'Users', \"ojubh\", \"Desktop\", train_img)):\n",
    "\n",
    "    img = Image.open((os.path.join('c:', os.sep, 'Users', \"ojubh\", \"Desktop\", train_img, name)))\n",
    "    if len(img.getbands()) != 3:\n",
    "        faulty.append(name)\n",
    "        "
   ]
  },
  {
   "cell_type": "code",
   "execution_count": null,
   "id": "2664409c",
   "metadata": {},
   "outputs": [],
   "source": [
    "faulty"
   ]
  },
  {
   "cell_type": "markdown",
   "id": "16b41a64",
   "metadata": {},
   "source": [
    "'0616100001.jpg'"
   ]
  },
  {
   "cell_type": "code",
   "execution_count": 30,
   "id": "1e88a468",
   "metadata": {},
   "outputs": [],
   "source": [
    "# train_final[train_final['article_id'] == '0616100001.jpg']"
   ]
  },
  {
   "cell_type": "code",
   "execution_count": 31,
   "id": "c178b6a2",
   "metadata": {},
   "outputs": [],
   "source": [
    "write_images(train_final, \"train\")"
   ]
  },
  {
   "cell_type": "code",
   "execution_count": 33,
   "id": "ade2cb1a",
   "metadata": {},
   "outputs": [],
   "source": [
    "write_images(val_final, \"val\")"
   ]
  },
  {
   "cell_type": "code",
   "execution_count": 34,
   "id": "12279df3",
   "metadata": {},
   "outputs": [],
   "source": [
    "write_images(test_final, \"test\")"
   ]
  },
  {
   "cell_type": "code",
   "execution_count": 35,
   "id": "93c6b952",
   "metadata": {},
   "outputs": [],
   "source": [
    "# export dataframe to csv\n",
    "train_final.to_csv(\"train_data.csv\")\n",
    "val_final.to_csv(\"val_data.csv\")\n",
    "test_final.to_csv(\"test_data.csv\")"
   ]
  },
  {
   "cell_type": "code",
   "execution_count": null,
   "id": "a2301662",
   "metadata": {},
   "outputs": [],
   "source": []
  }
 ],
 "metadata": {
  "kernelspec": {
   "display_name": "Python 3",
   "language": "python",
   "name": "python3"
  },
  "language_info": {
   "codemirror_mode": {
    "name": "ipython",
    "version": 3
   },
   "file_extension": ".py",
   "mimetype": "text/x-python",
   "name": "python",
   "nbconvert_exporter": "python",
   "pygments_lexer": "ipython3",
   "version": "3.8.8"
  }
 },
 "nbformat": 4,
 "nbformat_minor": 5
}
