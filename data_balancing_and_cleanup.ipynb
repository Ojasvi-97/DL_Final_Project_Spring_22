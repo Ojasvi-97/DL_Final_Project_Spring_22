{
 "cells": [
  {
   "cell_type": "markdown",
   "id": "68e74123",
   "metadata": {},
   "source": [
    "#### Since the data is highly imbalanced, we take 11,000 samples out of each category.\n",
    "#### The categories being: \n",
    "##### 1) Baby/Children\n",
    "##### 2) Divided\n",
    "##### 3) Ladieswear\n",
    "##### 4) Menswear\n",
    "##### 5) Sport\n",
    "\n",
    "##### We also remove samples which don't have detail_desc\n",
    "\n",
    "##### This data will be used to train the image and text embeddings"
   ]
  },
  {
   "cell_type": "code",
   "execution_count": 1,
   "id": "d869e393",
   "metadata": {},
   "outputs": [],
   "source": [
    "import os\n",
    "import pandas as pd\n",
    "from PIL import Image"
   ]
  },
  {
   "cell_type": "code",
   "execution_count": 2,
   "id": "33fec179",
   "metadata": {},
   "outputs": [],
   "source": [
    "articles_df = pd.read_csv(\"C:/Users/ojubh\\/Desktop/SEMESTER 2/Deep Learning/Final_Project/data/articles.csv\")"
   ]
  },
  {
   "cell_type": "code",
   "execution_count": 3,
   "id": "c43f02ca",
   "metadata": {},
   "outputs": [
    {
     "data": {
      "text/plain": [
       "105542"
      ]
     },
     "execution_count": 3,
     "metadata": {},
     "output_type": "execute_result"
    }
   ],
   "source": [
    "len(articles_df)"
   ]
  },
  {
   "cell_type": "code",
   "execution_count": 4,
   "id": "db7cb19b",
   "metadata": {},
   "outputs": [],
   "source": [
    "articles_df = articles_df[[\"article_id\", \"index_group_name\", \"detail_desc\"]]"
   ]
  },
  {
   "cell_type": "code",
   "execution_count": 5,
   "id": "704982a0",
   "metadata": {
    "scrolled": true
   },
   "outputs": [
    {
     "data": {
      "text/html": [
       "<div>\n",
       "<style scoped>\n",
       "    .dataframe tbody tr th:only-of-type {\n",
       "        vertical-align: middle;\n",
       "    }\n",
       "\n",
       "    .dataframe tbody tr th {\n",
       "        vertical-align: top;\n",
       "    }\n",
       "\n",
       "    .dataframe thead th {\n",
       "        text-align: right;\n",
       "    }\n",
       "</style>\n",
       "<table border=\"1\" class=\"dataframe\">\n",
       "  <thead>\n",
       "    <tr style=\"text-align: right;\">\n",
       "      <th></th>\n",
       "      <th>article_id</th>\n",
       "      <th>index_group_name</th>\n",
       "      <th>detail_desc</th>\n",
       "    </tr>\n",
       "  </thead>\n",
       "  <tbody>\n",
       "    <tr>\n",
       "      <th>0</th>\n",
       "      <td>108775015</td>\n",
       "      <td>Ladieswear</td>\n",
       "      <td>Jersey top with narrow shoulder straps.</td>\n",
       "    </tr>\n",
       "    <tr>\n",
       "      <th>1</th>\n",
       "      <td>108775044</td>\n",
       "      <td>Ladieswear</td>\n",
       "      <td>Jersey top with narrow shoulder straps.</td>\n",
       "    </tr>\n",
       "    <tr>\n",
       "      <th>2</th>\n",
       "      <td>108775051</td>\n",
       "      <td>Ladieswear</td>\n",
       "      <td>Jersey top with narrow shoulder straps.</td>\n",
       "    </tr>\n",
       "    <tr>\n",
       "      <th>3</th>\n",
       "      <td>110065001</td>\n",
       "      <td>Ladieswear</td>\n",
       "      <td>Microfibre T-shirt bra with underwired, moulde...</td>\n",
       "    </tr>\n",
       "    <tr>\n",
       "      <th>4</th>\n",
       "      <td>110065002</td>\n",
       "      <td>Ladieswear</td>\n",
       "      <td>Microfibre T-shirt bra with underwired, moulde...</td>\n",
       "    </tr>\n",
       "  </tbody>\n",
       "</table>\n",
       "</div>"
      ],
      "text/plain": [
       "   article_id index_group_name  \\\n",
       "0   108775015       Ladieswear   \n",
       "1   108775044       Ladieswear   \n",
       "2   108775051       Ladieswear   \n",
       "3   110065001       Ladieswear   \n",
       "4   110065002       Ladieswear   \n",
       "\n",
       "                                         detail_desc  \n",
       "0            Jersey top with narrow shoulder straps.  \n",
       "1            Jersey top with narrow shoulder straps.  \n",
       "2            Jersey top with narrow shoulder straps.  \n",
       "3  Microfibre T-shirt bra with underwired, moulde...  \n",
       "4  Microfibre T-shirt bra with underwired, moulde...  "
      ]
     },
     "execution_count": 5,
     "metadata": {},
     "output_type": "execute_result"
    }
   ],
   "source": [
    "articles_df.head()"
   ]
  },
  {
   "cell_type": "code",
   "execution_count": 6,
   "id": "28539c33",
   "metadata": {},
   "outputs": [
    {
     "data": {
      "text/plain": [
       "array([False,  True])"
      ]
     },
     "execution_count": 6,
     "metadata": {},
     "output_type": "execute_result"
    }
   ],
   "source": [
    "articles_df[\"detail_desc\"].isna().unique()"
   ]
  },
  {
   "cell_type": "code",
   "execution_count": 7,
   "id": "5ed95cb6",
   "metadata": {},
   "outputs": [],
   "source": [
    "articles_df.dropna(subset=['detail_desc'], how='all', inplace=True)"
   ]
  },
  {
   "cell_type": "code",
   "execution_count": 8,
   "id": "f8f6e09a",
   "metadata": {},
   "outputs": [
    {
     "data": {
      "text/plain": [
       "array([False])"
      ]
     },
     "execution_count": 8,
     "metadata": {},
     "output_type": "execute_result"
    }
   ],
   "source": [
    "## missing values have been removed\n",
    "articles_df[\"detail_desc\"].isna().unique()"
   ]
  },
  {
   "cell_type": "code",
   "execution_count": 9,
   "id": "fe154217",
   "metadata": {},
   "outputs": [
    {
     "data": {
      "text/plain": [
       "array(['Ladieswear', 'Baby/Children', 'Menswear', 'Sport', 'Divided'],\n",
       "      dtype=object)"
      ]
     },
     "execution_count": 9,
     "metadata": {},
     "output_type": "execute_result"
    }
   ],
   "source": [
    "articles_df[\"index_group_name\"].unique()"
   ]
  },
  {
   "cell_type": "code",
   "execution_count": 10,
   "id": "d1e810d2",
   "metadata": {},
   "outputs": [],
   "source": [
    "index_group = articles_df.groupby(\"index_group_name\")"
   ]
  },
  {
   "cell_type": "code",
   "execution_count": 11,
   "id": "c07b05d8",
   "metadata": {},
   "outputs": [
    {
     "name": "stdout",
     "output_type": "stream",
     "text": [
      "name: Baby/Children | size: 34619 %: 0.3293095903962864\n",
      "name: Divided | size: 15086 %: 0.14350398569335845\n",
      "name: Ladieswear | size: 39523 %: 0.3759583737610106\n",
      "name: Menswear | size: 12539 %: 0.11927591651922455\n",
      "name: Sport | size: 3359 %: 0.03195213363012005\n"
     ]
    }
   ],
   "source": [
    "for name, group in index_group:\n",
    "    print('name:', name, \"|\", \"size:\", len(group), \"%:\", len(group)/len(articles_df))"
   ]
  },
  {
   "cell_type": "code",
   "execution_count": 12,
   "id": "1a1ac5ab",
   "metadata": {},
   "outputs": [
    {
     "name": "stdout",
     "output_type": "stream",
     "text": [
      "Training split 63075\n",
      "Samples for Baby/Child: 20184\n",
      "Samples for Divided: 8830\n",
      "Samples for Ladieswear: 23337\n",
      "Samples for menswear 6938\n",
      "samples for sport 1892\n"
     ]
    }
   ],
   "source": [
    "training_split = int(0.6*len(articles_df))\n",
    "print(\"Training split\", training_split)\n",
    "print(\"Samples for Baby/Child:\", int(0.32*training_split))\n",
    "print(\"Samples for Divided:\", int(0.14*training_split))\n",
    "print(\"Samples for Ladieswear:\", int(0.37*training_split))\n",
    "print(\"Samples for menswear\", int(0.11 * training_split))\n",
    "print(\"samples for sport\", int(0.03 * training_split))\n"
   ]
  },
  {
   "cell_type": "code",
   "execution_count": 13,
   "id": "4c9fa9f7",
   "metadata": {},
   "outputs": [],
   "source": [
    "#no sampling for \"Sport\"\n",
    "sport_df_train = articles_df[articles_df[\"index_group_name\"] == \"Sport\"].sample(n=int(0.03 * training_split))\n",
    "\n",
    "baby_children_df_train = articles_df[articles_df[\"index_group_name\"] == \"Baby/Children\"].sample(n=int(0.32*training_split))\n",
    "\n",
    "divided_df_train = articles_df[articles_df[\"index_group_name\"] == \"Divided\"].sample(n=int(0.14*training_split))\n",
    "\n",
    "ladieswear_df_train = articles_df[articles_df[\"index_group_name\"] == \"Ladieswear\"].sample(n=int(0.37*training_split))\n",
    "\n",
    "menswear_df_train = articles_df[articles_df[\"index_group_name\"] == \"Menswear\"].sample(n=int(0.11 * training_split))\n",
    "\n",
    "\n",
    "\n",
    "\n",
    "train_df = pd.concat([sport_df_train,\n",
    "                        baby_children_df_train,\n",
    "                        divided_df_train,\n",
    "                        ladieswear_df_train,\n",
    "                        menswear_df_train], axis=0)"
   ]
  },
  {
   "cell_type": "code",
   "execution_count": 14,
   "id": "e21d845e",
   "metadata": {
    "scrolled": true
   },
   "outputs": [
    {
     "data": {
      "text/html": [
       "<div>\n",
       "<style scoped>\n",
       "    .dataframe tbody tr th:only-of-type {\n",
       "        vertical-align: middle;\n",
       "    }\n",
       "\n",
       "    .dataframe tbody tr th {\n",
       "        vertical-align: top;\n",
       "    }\n",
       "\n",
       "    .dataframe thead th {\n",
       "        text-align: right;\n",
       "    }\n",
       "</style>\n",
       "<table border=\"1\" class=\"dataframe\">\n",
       "  <thead>\n",
       "    <tr style=\"text-align: right;\">\n",
       "      <th></th>\n",
       "      <th>article_id</th>\n",
       "      <th>index_group_name</th>\n",
       "      <th>detail_desc</th>\n",
       "    </tr>\n",
       "  </thead>\n",
       "  <tbody>\n",
       "    <tr>\n",
       "      <th>84723</th>\n",
       "      <td>816752002</td>\n",
       "      <td>Sport</td>\n",
       "      <td>Backpack in nylon with a handle at the top and...</td>\n",
       "    </tr>\n",
       "    <tr>\n",
       "      <th>23528</th>\n",
       "      <td>605777009</td>\n",
       "      <td>Sport</td>\n",
       "      <td>Hooded sports top in airy, fast-drying jersey ...</td>\n",
       "    </tr>\n",
       "    <tr>\n",
       "      <th>24403</th>\n",
       "      <td>609170001</td>\n",
       "      <td>Sport</td>\n",
       "      <td>Sports trousers in fast-drying functional fabr...</td>\n",
       "    </tr>\n",
       "    <tr>\n",
       "      <th>75897</th>\n",
       "      <td>783335001</td>\n",
       "      <td>Sport</td>\n",
       "      <td>Running top in fast-drying functional fabric w...</td>\n",
       "    </tr>\n",
       "    <tr>\n",
       "      <th>44453</th>\n",
       "      <td>680034001</td>\n",
       "      <td>Sport</td>\n",
       "      <td>Fine-knit shaftless yoga socks with elasticate...</td>\n",
       "    </tr>\n",
       "    <tr>\n",
       "      <th>14654</th>\n",
       "      <td>564044001</td>\n",
       "      <td>Sport</td>\n",
       "      <td>Wide sports top in fast-drying functional fabr...</td>\n",
       "    </tr>\n",
       "    <tr>\n",
       "      <th>1613</th>\n",
       "      <td>362997012</td>\n",
       "      <td>Sport</td>\n",
       "      <td>Sports vest top in fast-drying functional fabr...</td>\n",
       "    </tr>\n",
       "    <tr>\n",
       "      <th>28655</th>\n",
       "      <td>623781010</td>\n",
       "      <td>Sport</td>\n",
       "      <td>Short-sleeved sports tops in fast-drying funct...</td>\n",
       "    </tr>\n",
       "    <tr>\n",
       "      <th>92461</th>\n",
       "      <td>853881001</td>\n",
       "      <td>Sport</td>\n",
       "      <td>Sports shorts in fast-drying functional fabric...</td>\n",
       "    </tr>\n",
       "    <tr>\n",
       "      <th>98691</th>\n",
       "      <td>880439001</td>\n",
       "      <td>Sport</td>\n",
       "      <td>Basketball-inspired sports vest top in fast-dr...</td>\n",
       "    </tr>\n",
       "  </tbody>\n",
       "</table>\n",
       "</div>"
      ],
      "text/plain": [
       "       article_id index_group_name  \\\n",
       "84723   816752002            Sport   \n",
       "23528   605777009            Sport   \n",
       "24403   609170001            Sport   \n",
       "75897   783335001            Sport   \n",
       "44453   680034001            Sport   \n",
       "14654   564044001            Sport   \n",
       "1613    362997012            Sport   \n",
       "28655   623781010            Sport   \n",
       "92461   853881001            Sport   \n",
       "98691   880439001            Sport   \n",
       "\n",
       "                                             detail_desc  \n",
       "84723  Backpack in nylon with a handle at the top and...  \n",
       "23528  Hooded sports top in airy, fast-drying jersey ...  \n",
       "24403  Sports trousers in fast-drying functional fabr...  \n",
       "75897  Running top in fast-drying functional fabric w...  \n",
       "44453  Fine-knit shaftless yoga socks with elasticate...  \n",
       "14654  Wide sports top in fast-drying functional fabr...  \n",
       "1613   Sports vest top in fast-drying functional fabr...  \n",
       "28655  Short-sleeved sports tops in fast-drying funct...  \n",
       "92461  Sports shorts in fast-drying functional fabric...  \n",
       "98691  Basketball-inspired sports vest top in fast-dr...  "
      ]
     },
     "execution_count": 14,
     "metadata": {},
     "output_type": "execute_result"
    }
   ],
   "source": [
    "train_df.head(10)"
   ]
  },
  {
   "cell_type": "code",
   "execution_count": 15,
   "id": "de9f32b4",
   "metadata": {},
   "outputs": [],
   "source": [
    "articles_df = articles_df.drop(train_df.index)"
   ]
  },
  {
   "cell_type": "code",
   "execution_count": 19,
   "id": "eda2c1a9",
   "metadata": {},
   "outputs": [
    {
     "data": {
      "text/plain": [
       "43945"
      ]
     },
     "execution_count": 19,
     "metadata": {},
     "output_type": "execute_result"
    }
   ],
   "source": [
    "len(articles_df)"
   ]
  },
  {
   "cell_type": "code",
   "execution_count": 16,
   "id": "cd468e75",
   "metadata": {},
   "outputs": [
    {
     "data": {
      "text/html": [
       "<div>\n",
       "<style scoped>\n",
       "    .dataframe tbody tr th:only-of-type {\n",
       "        vertical-align: middle;\n",
       "    }\n",
       "\n",
       "    .dataframe tbody tr th {\n",
       "        vertical-align: top;\n",
       "    }\n",
       "\n",
       "    .dataframe thead th {\n",
       "        text-align: right;\n",
       "    }\n",
       "</style>\n",
       "<table border=\"1\" class=\"dataframe\">\n",
       "  <thead>\n",
       "    <tr style=\"text-align: right;\">\n",
       "      <th></th>\n",
       "      <th>index</th>\n",
       "      <th>article_id</th>\n",
       "      <th>index_group_name</th>\n",
       "      <th>detail_desc</th>\n",
       "    </tr>\n",
       "  </thead>\n",
       "  <tbody>\n",
       "    <tr>\n",
       "      <th>0</th>\n",
       "      <td>84723</td>\n",
       "      <td>816752002</td>\n",
       "      <td>Sport</td>\n",
       "      <td>Backpack in nylon with a handle at the top and...</td>\n",
       "    </tr>\n",
       "    <tr>\n",
       "      <th>1</th>\n",
       "      <td>23528</td>\n",
       "      <td>605777009</td>\n",
       "      <td>Sport</td>\n",
       "      <td>Hooded sports top in airy, fast-drying jersey ...</td>\n",
       "    </tr>\n",
       "    <tr>\n",
       "      <th>2</th>\n",
       "      <td>24403</td>\n",
       "      <td>609170001</td>\n",
       "      <td>Sport</td>\n",
       "      <td>Sports trousers in fast-drying functional fabr...</td>\n",
       "    </tr>\n",
       "    <tr>\n",
       "      <th>3</th>\n",
       "      <td>75897</td>\n",
       "      <td>783335001</td>\n",
       "      <td>Sport</td>\n",
       "      <td>Running top in fast-drying functional fabric w...</td>\n",
       "    </tr>\n",
       "    <tr>\n",
       "      <th>4</th>\n",
       "      <td>44453</td>\n",
       "      <td>680034001</td>\n",
       "      <td>Sport</td>\n",
       "      <td>Fine-knit shaftless yoga socks with elasticate...</td>\n",
       "    </tr>\n",
       "    <tr>\n",
       "      <th>...</th>\n",
       "      <td>...</td>\n",
       "      <td>...</td>\n",
       "      <td>...</td>\n",
       "      <td>...</td>\n",
       "    </tr>\n",
       "    <tr>\n",
       "      <th>61176</th>\n",
       "      <td>12331</td>\n",
       "      <td>552743029</td>\n",
       "      <td>Menswear</td>\n",
       "      <td>Long-sleeved jumper in soft, fine-knit cashmer...</td>\n",
       "    </tr>\n",
       "    <tr>\n",
       "      <th>61177</th>\n",
       "      <td>68538</td>\n",
       "      <td>754429001</td>\n",
       "      <td>Menswear</td>\n",
       "      <td>Twill cap with an adjustable tab and metal fas...</td>\n",
       "    </tr>\n",
       "    <tr>\n",
       "      <th>61178</th>\n",
       "      <td>32144</td>\n",
       "      <td>634013012</td>\n",
       "      <td>Menswear</td>\n",
       "      <td>Oxford cotton shirt with a button-down collar,...</td>\n",
       "    </tr>\n",
       "    <tr>\n",
       "      <th>61179</th>\n",
       "      <td>82478</td>\n",
       "      <td>808714002</td>\n",
       "      <td>Menswear</td>\n",
       "      <td>Oversized top in sweatshirt fabric with a line...</td>\n",
       "    </tr>\n",
       "    <tr>\n",
       "      <th>61180</th>\n",
       "      <td>21806</td>\n",
       "      <td>595508001</td>\n",
       "      <td>Menswear</td>\n",
       "      <td>Straight-cut, V-neck T-shirt in soft jersey ma...</td>\n",
       "    </tr>\n",
       "  </tbody>\n",
       "</table>\n",
       "<p>61181 rows × 4 columns</p>\n",
       "</div>"
      ],
      "text/plain": [
       "       index  article_id index_group_name  \\\n",
       "0      84723   816752002            Sport   \n",
       "1      23528   605777009            Sport   \n",
       "2      24403   609170001            Sport   \n",
       "3      75897   783335001            Sport   \n",
       "4      44453   680034001            Sport   \n",
       "...      ...         ...              ...   \n",
       "61176  12331   552743029         Menswear   \n",
       "61177  68538   754429001         Menswear   \n",
       "61178  32144   634013012         Menswear   \n",
       "61179  82478   808714002         Menswear   \n",
       "61180  21806   595508001         Menswear   \n",
       "\n",
       "                                             detail_desc  \n",
       "0      Backpack in nylon with a handle at the top and...  \n",
       "1      Hooded sports top in airy, fast-drying jersey ...  \n",
       "2      Sports trousers in fast-drying functional fabr...  \n",
       "3      Running top in fast-drying functional fabric w...  \n",
       "4      Fine-knit shaftless yoga socks with elasticate...  \n",
       "...                                                  ...  \n",
       "61176  Long-sleeved jumper in soft, fine-knit cashmer...  \n",
       "61177  Twill cap with an adjustable tab and metal fas...  \n",
       "61178  Oxford cotton shirt with a button-down collar,...  \n",
       "61179  Oversized top in sweatshirt fabric with a line...  \n",
       "61180  Straight-cut, V-neck T-shirt in soft jersey ma...  \n",
       "\n",
       "[61181 rows x 4 columns]"
      ]
     },
     "execution_count": 16,
     "metadata": {},
     "output_type": "execute_result"
    }
   ],
   "source": [
    "train_df.reset_index()"
   ]
  },
  {
   "cell_type": "code",
   "execution_count": 20,
   "id": "76b16394",
   "metadata": {},
   "outputs": [
    {
     "name": "stdout",
     "output_type": "stream",
     "text": [
      "Val split 21972\n",
      "Samples for Baby/Child: 7031\n",
      "Samples for Divided: 3076\n",
      "Samples for Ladieswear: 8129\n",
      "Samples for menswear 2416\n",
      "samples for sport 659\n"
     ]
    }
   ],
   "source": [
    "val_split = int(len(articles_df)/2)\n",
    "\n",
    "print(\"Val split\", val_split)\n",
    "print(\"Samples for Baby/Child:\", int(0.32*val_split))\n",
    "print(\"Samples for Divided:\", int(0.14*val_split))\n",
    "print(\"Samples for Ladieswear:\", int(0.37*val_split))\n",
    "print(\"Samples for menswear\", int(0.11 * val_split))\n",
    "print(\"samples for sport\", int(0.03 * val_split))"
   ]
  },
  {
   "cell_type": "code",
   "execution_count": 21,
   "id": "d53e26be",
   "metadata": {},
   "outputs": [],
   "source": [
    "sport_df_val = articles_df[articles_df[\"index_group_name\"] == \"Sport\"].sample(n=int(0.03 * val_split))\n",
    "\n",
    "baby_children_df_val = articles_df[articles_df[\"index_group_name\"] == \"Baby/Children\"].sample(n=int(0.32*val_split))\n",
    "\n",
    "divided_df_val = articles_df[articles_df[\"index_group_name\"] == \"Divided\"].sample(n=int(0.14*val_split))\n",
    "\n",
    "ladieswear_df_val = articles_df[articles_df[\"index_group_name\"] == \"Ladieswear\"].sample(n=int(0.37*val_split))\n",
    "\n",
    "menswear_df_val = articles_df[articles_df[\"index_group_name\"] == \"Menswear\"].sample(n=int(0.11 * val_split))\n",
    "\n",
    "\n",
    "val_df = pd.concat([sport_df_val,\n",
    "                        baby_children_df_val,\n",
    "                        divided_df_val,\n",
    "                        ladieswear_df_val,\n",
    "                        menswear_df_val], axis=0)"
   ]
  },
  {
   "cell_type": "code",
   "execution_count": 22,
   "id": "f672c25c",
   "metadata": {},
   "outputs": [],
   "source": [
    "test_df = articles_df.drop(val_df.index)"
   ]
  },
  {
   "cell_type": "code",
   "execution_count": 23,
   "id": "27a79304",
   "metadata": {
    "scrolled": true
   },
   "outputs": [
    {
     "data": {
      "text/html": [
       "<div>\n",
       "<style scoped>\n",
       "    .dataframe tbody tr th:only-of-type {\n",
       "        vertical-align: middle;\n",
       "    }\n",
       "\n",
       "    .dataframe tbody tr th {\n",
       "        vertical-align: top;\n",
       "    }\n",
       "\n",
       "    .dataframe thead th {\n",
       "        text-align: right;\n",
       "    }\n",
       "</style>\n",
       "<table border=\"1\" class=\"dataframe\">\n",
       "  <thead>\n",
       "    <tr style=\"text-align: right;\">\n",
       "      <th></th>\n",
       "      <th>index</th>\n",
       "      <th>article_id</th>\n",
       "      <th>index_group_name</th>\n",
       "      <th>detail_desc</th>\n",
       "    </tr>\n",
       "  </thead>\n",
       "  <tbody>\n",
       "    <tr>\n",
       "      <th>0</th>\n",
       "      <td>2</td>\n",
       "      <td>108775051</td>\n",
       "      <td>Ladieswear</td>\n",
       "      <td>Jersey top with narrow shoulder straps.</td>\n",
       "    </tr>\n",
       "    <tr>\n",
       "      <th>1</th>\n",
       "      <td>9</td>\n",
       "      <td>111593001</td>\n",
       "      <td>Ladieswear</td>\n",
       "      <td>Semi shiny tights that shape the tummy, thighs...</td>\n",
       "    </tr>\n",
       "    <tr>\n",
       "      <th>2</th>\n",
       "      <td>12</td>\n",
       "      <td>112679052</td>\n",
       "      <td>Baby/Children</td>\n",
       "      <td>Sweatshirt in soft organic cotton with a  pres...</td>\n",
       "    </tr>\n",
       "    <tr>\n",
       "      <th>3</th>\n",
       "      <td>21</td>\n",
       "      <td>118458038</td>\n",
       "      <td>Menswear</td>\n",
       "      <td>Trousers in sweatshirt fabric with an elastica...</td>\n",
       "    </tr>\n",
       "    <tr>\n",
       "      <th>4</th>\n",
       "      <td>23</td>\n",
       "      <td>120129001</td>\n",
       "      <td>Ladieswear</td>\n",
       "      <td>Leggings in soft jersey with a wide panel at t...</td>\n",
       "    </tr>\n",
       "    <tr>\n",
       "      <th>...</th>\n",
       "      <td>...</td>\n",
       "      <td>...</td>\n",
       "      <td>...</td>\n",
       "      <td>...</td>\n",
       "    </tr>\n",
       "    <tr>\n",
       "      <th>22629</th>\n",
       "      <td>105523</td>\n",
       "      <td>948152002</td>\n",
       "      <td>Baby/Children</td>\n",
       "      <td>Set with a long-sleeved top and a skirt in sof...</td>\n",
       "    </tr>\n",
       "    <tr>\n",
       "      <th>22630</th>\n",
       "      <td>105528</td>\n",
       "      <td>949198001</td>\n",
       "      <td>Ladieswear</td>\n",
       "      <td>Joggers in sweatshirt fabric made from a cotto...</td>\n",
       "    </tr>\n",
       "    <tr>\n",
       "      <th>22631</th>\n",
       "      <td>105532</td>\n",
       "      <td>949594001</td>\n",
       "      <td>Ladieswear</td>\n",
       "      <td>Joggers in soft sweatshirt fabric with an elas...</td>\n",
       "    </tr>\n",
       "    <tr>\n",
       "      <th>22632</th>\n",
       "      <td>105536</td>\n",
       "      <td>952938001</td>\n",
       "      <td>Ladieswear</td>\n",
       "      <td>Fitted top in jersey with a round neckline and...</td>\n",
       "    </tr>\n",
       "    <tr>\n",
       "      <th>22633</th>\n",
       "      <td>105538</td>\n",
       "      <td>953763001</td>\n",
       "      <td>Ladieswear</td>\n",
       "      <td>Loose-fitting sports vest top in ribbed fast-d...</td>\n",
       "    </tr>\n",
       "  </tbody>\n",
       "</table>\n",
       "<p>22634 rows × 4 columns</p>\n",
       "</div>"
      ],
      "text/plain": [
       "        index  article_id index_group_name  \\\n",
       "0           2   108775051       Ladieswear   \n",
       "1           9   111593001       Ladieswear   \n",
       "2          12   112679052    Baby/Children   \n",
       "3          21   118458038         Menswear   \n",
       "4          23   120129001       Ladieswear   \n",
       "...       ...         ...              ...   \n",
       "22629  105523   948152002    Baby/Children   \n",
       "22630  105528   949198001       Ladieswear   \n",
       "22631  105532   949594001       Ladieswear   \n",
       "22632  105536   952938001       Ladieswear   \n",
       "22633  105538   953763001       Ladieswear   \n",
       "\n",
       "                                             detail_desc  \n",
       "0                Jersey top with narrow shoulder straps.  \n",
       "1      Semi shiny tights that shape the tummy, thighs...  \n",
       "2      Sweatshirt in soft organic cotton with a  pres...  \n",
       "3      Trousers in sweatshirt fabric with an elastica...  \n",
       "4      Leggings in soft jersey with a wide panel at t...  \n",
       "...                                                  ...  \n",
       "22629  Set with a long-sleeved top and a skirt in sof...  \n",
       "22630  Joggers in sweatshirt fabric made from a cotto...  \n",
       "22631  Joggers in soft sweatshirt fabric with an elas...  \n",
       "22632  Fitted top in jersey with a round neckline and...  \n",
       "22633  Loose-fitting sports vest top in ribbed fast-d...  \n",
       "\n",
       "[22634 rows x 4 columns]"
      ]
     },
     "execution_count": 23,
     "metadata": {},
     "output_type": "execute_result"
    }
   ],
   "source": [
    "val_df.reset_index()\n",
    "test_df.reset_index()"
   ]
  },
  {
   "cell_type": "code",
   "execution_count": 25,
   "id": "56b2efca",
   "metadata": {},
   "outputs": [
    {
     "data": {
      "text/plain": [
       "105126"
      ]
     },
     "execution_count": 25,
     "metadata": {},
     "output_type": "execute_result"
    }
   ],
   "source": [
    "len(val_df) + len(test_df) + len(train_df)"
   ]
  },
  {
   "cell_type": "code",
   "execution_count": 26,
   "id": "e4cbaa0f",
   "metadata": {},
   "outputs": [],
   "source": [
    "def get_image_path(balanced_df):\n",
    "    final_rows = []\n",
    "    mypath = os.path.join('c:', os.sep, 'Users', \"ojubh\", \"Desktop\", \"images\")\n",
    "\n",
    "    for (_, row) in balanced_df.iterrows():\n",
    "        location = \"0\" + str(row[\"article_id\"])[:2] + \"/\" + \"0\" + str(row[\"article_id\"]) + \".jpg\"\n",
    "        path = os.path.join(mypath, *location.split(\"/\"))\n",
    "        if os.path.isfile(path):\n",
    "            final_rows.append([row[\"article_id\"], row[\"index_group_name\"], row[\"detail_desc\"], location])\n",
    "    \n",
    "    return final_rows"
   ]
  },
  {
   "cell_type": "code",
   "execution_count": 27,
   "id": "8627febd",
   "metadata": {},
   "outputs": [],
   "source": [
    "train_rows = get_image_path(train_df)\n",
    "val_rows = get_image_path(val_df)\n",
    "test_rows = get_image_path(test_df)\n",
    "\n",
    "# final_df = pd.DataFrame(final_rows, columns = [\"article_id\", \"index_group_name\", \"detail_desc\", \"location\"] )"
   ]
  },
  {
   "cell_type": "code",
   "execution_count": 28,
   "id": "54ae2d3e",
   "metadata": {},
   "outputs": [
    {
     "data": {
      "text/plain": [
       "104696"
      ]
     },
     "execution_count": 28,
     "metadata": {},
     "output_type": "execute_result"
    }
   ],
   "source": [
    "len(train_rows) + len(val_rows) + len(test_rows)"
   ]
  },
  {
   "cell_type": "code",
   "execution_count": 29,
   "id": "44d3fa30",
   "metadata": {},
   "outputs": [],
   "source": [
    "train_final = pd.DataFrame(train_rows, columns = [\"article_id\", \"index_group_name\", \"detail_desc\", \"location\"])\n",
    "val_final = pd.DataFrame(val_rows, columns = [\"article_id\", \"index_group_name\", \"detail_desc\", \"location\"] )\n",
    "test_final = pd.DataFrame(test_rows, columns = [\"article_id\", \"index_group_name\", \"detail_desc\", \"location\"] )"
   ]
  },
  {
   "cell_type": "code",
   "execution_count": 31,
   "id": "5e8c05d6",
   "metadata": {},
   "outputs": [],
   "source": [
    "\n",
    "import shutil\n",
    "\n",
    "def write_images(final_df, tag=\"\"):\n",
    "    image_paths = final_df[\"location\"].tolist()\n",
    "    dest_folder = tag + \"_images\"\n",
    "    dest_path = os.path.join('c:', os.sep, 'Users', \"ojubh\", \"Desktop\", dest_folder)\n",
    "    os.mkdir(dest_path)\n",
    "\n",
    "    mypath = os.path.join('c:', os.sep, 'Users', \"ojubh\", \"Desktop\", \"images\")\n",
    "    newsize = (256, 256)\n",
    "    for image in image_paths:\n",
    "        img_path = os.path.join(mypath, *image.split(\"/\"))\n",
    "        img = Image.open(img_path)\n",
    "        img = img.resize(newsize)\n",
    "        dest_loc = os.path.join(dest_path, image.split(\"/\")[1])\n",
    "        img.save(dest_loc)\n"
   ]
  },
  {
   "cell_type": "code",
   "execution_count": 32,
   "id": "42ff0626",
   "metadata": {},
   "outputs": [],
   "source": [
    "write_images(train_final, \"train\")"
   ]
  },
  {
   "cell_type": "code",
   "execution_count": 33,
   "id": "caaaf502",
   "metadata": {},
   "outputs": [],
   "source": [
    "write_imagesages(val_final, \"val\")"
   ]
  },
  {
   "cell_type": "code",
   "execution_count": 34,
   "id": "0863e73b",
   "metadata": {},
   "outputs": [],
   "source": [
    "write_images(test_final, \"test\")"
   ]
  },
  {
   "cell_type": "code",
   "execution_count": 35,
   "id": "93c6b952",
   "metadata": {},
   "outputs": [
    {
     "ename": "AttributeError",
     "evalue": "'DataFrame' object has no attribute 'csv'",
     "output_type": "error",
     "traceback": [
      "\u001b[1;31m---------------------------------------------------------------------------\u001b[0m",
      "\u001b[1;31mAttributeError\u001b[0m                            Traceback (most recent call last)",
      "\u001b[1;32m<ipython-input-35-436b6496dbbe>\u001b[0m in \u001b[0;36m<module>\u001b[1;34m\u001b[0m\n\u001b[0;32m      2\u001b[0m \u001b[0mtrain_final\u001b[0m\u001b[1;33m.\u001b[0m\u001b[0mto_csv\u001b[0m\u001b[1;33m(\u001b[0m\u001b[1;34m\"train_data.csv\"\u001b[0m\u001b[1;33m)\u001b[0m\u001b[1;33m\u001b[0m\u001b[1;33m\u001b[0m\u001b[0m\n\u001b[0;32m      3\u001b[0m \u001b[0mval_final\u001b[0m\u001b[1;33m.\u001b[0m\u001b[0mto_csv\u001b[0m\u001b[1;33m(\u001b[0m\u001b[1;34m\"val_data.csv\"\u001b[0m\u001b[1;33m)\u001b[0m\u001b[1;33m\u001b[0m\u001b[1;33m\u001b[0m\u001b[0m\n\u001b[1;32m----> 4\u001b[1;33m \u001b[0mtest_final\u001b[0m\u001b[1;33m.\u001b[0m\u001b[0mcsv\u001b[0m\u001b[1;33m(\u001b[0m\u001b[1;34m\"test_data.csv\"\u001b[0m\u001b[1;33m)\u001b[0m\u001b[1;33m\u001b[0m\u001b[1;33m\u001b[0m\u001b[0m\n\u001b[0m",
      "\u001b[1;32m~\\anaconda3\\lib\\site-packages\\pandas\\core\\generic.py\u001b[0m in \u001b[0;36m__getattr__\u001b[1;34m(self, name)\u001b[0m\n\u001b[0;32m   5463\u001b[0m             \u001b[1;32mif\u001b[0m \u001b[0mself\u001b[0m\u001b[1;33m.\u001b[0m\u001b[0m_info_axis\u001b[0m\u001b[1;33m.\u001b[0m\u001b[0m_can_hold_identifiers_and_holds_name\u001b[0m\u001b[1;33m(\u001b[0m\u001b[0mname\u001b[0m\u001b[1;33m)\u001b[0m\u001b[1;33m:\u001b[0m\u001b[1;33m\u001b[0m\u001b[1;33m\u001b[0m\u001b[0m\n\u001b[0;32m   5464\u001b[0m                 \u001b[1;32mreturn\u001b[0m \u001b[0mself\u001b[0m\u001b[1;33m[\u001b[0m\u001b[0mname\u001b[0m\u001b[1;33m]\u001b[0m\u001b[1;33m\u001b[0m\u001b[1;33m\u001b[0m\u001b[0m\n\u001b[1;32m-> 5465\u001b[1;33m             \u001b[1;32mreturn\u001b[0m \u001b[0mobject\u001b[0m\u001b[1;33m.\u001b[0m\u001b[0m__getattribute__\u001b[0m\u001b[1;33m(\u001b[0m\u001b[0mself\u001b[0m\u001b[1;33m,\u001b[0m \u001b[0mname\u001b[0m\u001b[1;33m)\u001b[0m\u001b[1;33m\u001b[0m\u001b[1;33m\u001b[0m\u001b[0m\n\u001b[0m\u001b[0;32m   5466\u001b[0m \u001b[1;33m\u001b[0m\u001b[0m\n\u001b[0;32m   5467\u001b[0m     \u001b[1;32mdef\u001b[0m \u001b[0m__setattr__\u001b[0m\u001b[1;33m(\u001b[0m\u001b[0mself\u001b[0m\u001b[1;33m,\u001b[0m \u001b[0mname\u001b[0m\u001b[1;33m:\u001b[0m \u001b[0mstr\u001b[0m\u001b[1;33m,\u001b[0m \u001b[0mvalue\u001b[0m\u001b[1;33m)\u001b[0m \u001b[1;33m->\u001b[0m \u001b[1;32mNone\u001b[0m\u001b[1;33m:\u001b[0m\u001b[1;33m\u001b[0m\u001b[1;33m\u001b[0m\u001b[0m\n",
      "\u001b[1;31mAttributeError\u001b[0m: 'DataFrame' object has no attribute 'csv'"
     ]
    }
   ],
   "source": [
    "# export dataframe to csv\n",
    "train_final.to_csv(\"train_data.csv\")\n",
    "val_final.to_csv(\"val_data.csv\")\n",
    "test_final.csv(\"test_data.csv\")"
   ]
  },
  {
   "cell_type": "code",
   "execution_count": null,
   "id": "a2301662",
   "metadata": {},
   "outputs": [],
   "source": []
  }
 ],
 "metadata": {
  "kernelspec": {
   "display_name": "Python 3",
   "language": "python",
   "name": "python3"
  },
  "language_info": {
   "codemirror_mode": {
    "name": "ipython",
    "version": 3
   },
   "file_extension": ".py",
   "mimetype": "text/x-python",
   "name": "python",
   "nbconvert_exporter": "python",
   "pygments_lexer": "ipython3",
   "version": "3.8.8"
  }
 },
 "nbformat": 4,
 "nbformat_minor": 5
}
