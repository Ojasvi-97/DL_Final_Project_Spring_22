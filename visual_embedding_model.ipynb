{
  "nbformat": 4,
  "nbformat_minor": 0,
  "metadata": {
    "colab": {
      "name": "visual_embedding_model.ipynb",
      "provenance": [],
      "collapsed_sections": [],
      "machine_shape": "hm"
    },
    "kernelspec": {
      "name": "python3",
      "display_name": "Python 3"
    },
    "language_info": {
      "name": "python"
    },
    "accelerator": "GPU",
    "widgets": {
      "application/vnd.jupyter.widget-state+json": {
        "5fc1f926423449b8b6c317ecee2ca8a6": {
          "model_module": "@jupyter-widgets/controls",
          "model_name": "HBoxModel",
          "model_module_version": "1.5.0",
          "state": {
            "_dom_classes": [],
            "_model_module": "@jupyter-widgets/controls",
            "_model_module_version": "1.5.0",
            "_model_name": "HBoxModel",
            "_view_count": null,
            "_view_module": "@jupyter-widgets/controls",
            "_view_module_version": "1.5.0",
            "_view_name": "HBoxView",
            "box_style": "",
            "children": [
              "IPY_MODEL_94f26770bba34d44931d0d8e6505d827",
              "IPY_MODEL_149a9d1cdc854468afe8066aaa20bd7e",
              "IPY_MODEL_ab5b82b0b4874feeab2b9646795d5481"
            ],
            "layout": "IPY_MODEL_272ab7232ad74c4b9983ff99443b8936"
          }
        },
        "94f26770bba34d44931d0d8e6505d827": {
          "model_module": "@jupyter-widgets/controls",
          "model_name": "HTMLModel",
          "model_module_version": "1.5.0",
          "state": {
            "_dom_classes": [],
            "_model_module": "@jupyter-widgets/controls",
            "_model_module_version": "1.5.0",
            "_model_name": "HTMLModel",
            "_view_count": null,
            "_view_module": "@jupyter-widgets/controls",
            "_view_module_version": "1.5.0",
            "_view_name": "HTMLView",
            "description": "",
            "description_tooltip": null,
            "layout": "IPY_MODEL_430e5693533d4424a4fd3b4a09b1fe25",
            "placeholder": "​",
            "style": "IPY_MODEL_5bdc09d141a04842805055e299c23b4c",
            "value": "100%"
          }
        },
        "149a9d1cdc854468afe8066aaa20bd7e": {
          "model_module": "@jupyter-widgets/controls",
          "model_name": "FloatProgressModel",
          "model_module_version": "1.5.0",
          "state": {
            "_dom_classes": [],
            "_model_module": "@jupyter-widgets/controls",
            "_model_module_version": "1.5.0",
            "_model_name": "FloatProgressModel",
            "_view_count": null,
            "_view_module": "@jupyter-widgets/controls",
            "_view_module_version": "1.5.0",
            "_view_name": "ProgressView",
            "bar_style": "success",
            "description": "",
            "description_tooltip": null,
            "layout": "IPY_MODEL_36bcbfc4e85f4b1caaf1a01299ed43f8",
            "max": 46827520,
            "min": 0,
            "orientation": "horizontal",
            "style": "IPY_MODEL_d6ab3d4d68694dce97cd9668f41b6f19",
            "value": 46827520
          }
        },
        "ab5b82b0b4874feeab2b9646795d5481": {
          "model_module": "@jupyter-widgets/controls",
          "model_name": "HTMLModel",
          "model_module_version": "1.5.0",
          "state": {
            "_dom_classes": [],
            "_model_module": "@jupyter-widgets/controls",
            "_model_module_version": "1.5.0",
            "_model_name": "HTMLModel",
            "_view_count": null,
            "_view_module": "@jupyter-widgets/controls",
            "_view_module_version": "1.5.0",
            "_view_name": "HTMLView",
            "description": "",
            "description_tooltip": null,
            "layout": "IPY_MODEL_7d79e53a1d2e498cb102c0ae4349a4f1",
            "placeholder": "​",
            "style": "IPY_MODEL_948151e1082f4a88b6c68719c37982ae",
            "value": " 44.7M/44.7M [00:00&lt;00:00, 97.3MB/s]"
          }
        },
        "272ab7232ad74c4b9983ff99443b8936": {
          "model_module": "@jupyter-widgets/base",
          "model_name": "LayoutModel",
          "model_module_version": "1.2.0",
          "state": {
            "_model_module": "@jupyter-widgets/base",
            "_model_module_version": "1.2.0",
            "_model_name": "LayoutModel",
            "_view_count": null,
            "_view_module": "@jupyter-widgets/base",
            "_view_module_version": "1.2.0",
            "_view_name": "LayoutView",
            "align_content": null,
            "align_items": null,
            "align_self": null,
            "border": null,
            "bottom": null,
            "display": null,
            "flex": null,
            "flex_flow": null,
            "grid_area": null,
            "grid_auto_columns": null,
            "grid_auto_flow": null,
            "grid_auto_rows": null,
            "grid_column": null,
            "grid_gap": null,
            "grid_row": null,
            "grid_template_areas": null,
            "grid_template_columns": null,
            "grid_template_rows": null,
            "height": null,
            "justify_content": null,
            "justify_items": null,
            "left": null,
            "margin": null,
            "max_height": null,
            "max_width": null,
            "min_height": null,
            "min_width": null,
            "object_fit": null,
            "object_position": null,
            "order": null,
            "overflow": null,
            "overflow_x": null,
            "overflow_y": null,
            "padding": null,
            "right": null,
            "top": null,
            "visibility": null,
            "width": null
          }
        },
        "430e5693533d4424a4fd3b4a09b1fe25": {
          "model_module": "@jupyter-widgets/base",
          "model_name": "LayoutModel",
          "model_module_version": "1.2.0",
          "state": {
            "_model_module": "@jupyter-widgets/base",
            "_model_module_version": "1.2.0",
            "_model_name": "LayoutModel",
            "_view_count": null,
            "_view_module": "@jupyter-widgets/base",
            "_view_module_version": "1.2.0",
            "_view_name": "LayoutView",
            "align_content": null,
            "align_items": null,
            "align_self": null,
            "border": null,
            "bottom": null,
            "display": null,
            "flex": null,
            "flex_flow": null,
            "grid_area": null,
            "grid_auto_columns": null,
            "grid_auto_flow": null,
            "grid_auto_rows": null,
            "grid_column": null,
            "grid_gap": null,
            "grid_row": null,
            "grid_template_areas": null,
            "grid_template_columns": null,
            "grid_template_rows": null,
            "height": null,
            "justify_content": null,
            "justify_items": null,
            "left": null,
            "margin": null,
            "max_height": null,
            "max_width": null,
            "min_height": null,
            "min_width": null,
            "object_fit": null,
            "object_position": null,
            "order": null,
            "overflow": null,
            "overflow_x": null,
            "overflow_y": null,
            "padding": null,
            "right": null,
            "top": null,
            "visibility": null,
            "width": null
          }
        },
        "5bdc09d141a04842805055e299c23b4c": {
          "model_module": "@jupyter-widgets/controls",
          "model_name": "DescriptionStyleModel",
          "model_module_version": "1.5.0",
          "state": {
            "_model_module": "@jupyter-widgets/controls",
            "_model_module_version": "1.5.0",
            "_model_name": "DescriptionStyleModel",
            "_view_count": null,
            "_view_module": "@jupyter-widgets/base",
            "_view_module_version": "1.2.0",
            "_view_name": "StyleView",
            "description_width": ""
          }
        },
        "36bcbfc4e85f4b1caaf1a01299ed43f8": {
          "model_module": "@jupyter-widgets/base",
          "model_name": "LayoutModel",
          "model_module_version": "1.2.0",
          "state": {
            "_model_module": "@jupyter-widgets/base",
            "_model_module_version": "1.2.0",
            "_model_name": "LayoutModel",
            "_view_count": null,
            "_view_module": "@jupyter-widgets/base",
            "_view_module_version": "1.2.0",
            "_view_name": "LayoutView",
            "align_content": null,
            "align_items": null,
            "align_self": null,
            "border": null,
            "bottom": null,
            "display": null,
            "flex": null,
            "flex_flow": null,
            "grid_area": null,
            "grid_auto_columns": null,
            "grid_auto_flow": null,
            "grid_auto_rows": null,
            "grid_column": null,
            "grid_gap": null,
            "grid_row": null,
            "grid_template_areas": null,
            "grid_template_columns": null,
            "grid_template_rows": null,
            "height": null,
            "justify_content": null,
            "justify_items": null,
            "left": null,
            "margin": null,
            "max_height": null,
            "max_width": null,
            "min_height": null,
            "min_width": null,
            "object_fit": null,
            "object_position": null,
            "order": null,
            "overflow": null,
            "overflow_x": null,
            "overflow_y": null,
            "padding": null,
            "right": null,
            "top": null,
            "visibility": null,
            "width": null
          }
        },
        "d6ab3d4d68694dce97cd9668f41b6f19": {
          "model_module": "@jupyter-widgets/controls",
          "model_name": "ProgressStyleModel",
          "model_module_version": "1.5.0",
          "state": {
            "_model_module": "@jupyter-widgets/controls",
            "_model_module_version": "1.5.0",
            "_model_name": "ProgressStyleModel",
            "_view_count": null,
            "_view_module": "@jupyter-widgets/base",
            "_view_module_version": "1.2.0",
            "_view_name": "StyleView",
            "bar_color": null,
            "description_width": ""
          }
        },
        "7d79e53a1d2e498cb102c0ae4349a4f1": {
          "model_module": "@jupyter-widgets/base",
          "model_name": "LayoutModel",
          "model_module_version": "1.2.0",
          "state": {
            "_model_module": "@jupyter-widgets/base",
            "_model_module_version": "1.2.0",
            "_model_name": "LayoutModel",
            "_view_count": null,
            "_view_module": "@jupyter-widgets/base",
            "_view_module_version": "1.2.0",
            "_view_name": "LayoutView",
            "align_content": null,
            "align_items": null,
            "align_self": null,
            "border": null,
            "bottom": null,
            "display": null,
            "flex": null,
            "flex_flow": null,
            "grid_area": null,
            "grid_auto_columns": null,
            "grid_auto_flow": null,
            "grid_auto_rows": null,
            "grid_column": null,
            "grid_gap": null,
            "grid_row": null,
            "grid_template_areas": null,
            "grid_template_columns": null,
            "grid_template_rows": null,
            "height": null,
            "justify_content": null,
            "justify_items": null,
            "left": null,
            "margin": null,
            "max_height": null,
            "max_width": null,
            "min_height": null,
            "min_width": null,
            "object_fit": null,
            "object_position": null,
            "order": null,
            "overflow": null,
            "overflow_x": null,
            "overflow_y": null,
            "padding": null,
            "right": null,
            "top": null,
            "visibility": null,
            "width": null
          }
        },
        "948151e1082f4a88b6c68719c37982ae": {
          "model_module": "@jupyter-widgets/controls",
          "model_name": "DescriptionStyleModel",
          "model_module_version": "1.5.0",
          "state": {
            "_model_module": "@jupyter-widgets/controls",
            "_model_module_version": "1.5.0",
            "_model_name": "DescriptionStyleModel",
            "_view_count": null,
            "_view_module": "@jupyter-widgets/base",
            "_view_module_version": "1.2.0",
            "_view_name": "StyleView",
            "description_width": ""
          }
        }
      }
    }
  },
  "cells": [
    {
      "cell_type": "code",
      "source": [
        "!pip install --quiet --user \"torch>=1.6, <1.9\" \"lightning-bolts\" \"pytorch-lightning>=1.3\" \"torchmetrics>=0.3\" \"torchvision\" \"torchtext\" \"torchaudio\"\n",
        "! pip install wandb"
      ],
      "metadata": {
        "colab": {
          "base_uri": "https://localhost:8080/"
        },
        "id": "IW6Bc99UDgJz",
        "outputId": "e182eeda-bb01-4528-88df-744dde7ece02"
      },
      "execution_count": null,
      "outputs": [
        {
          "output_type": "stream",
          "name": "stdout",
          "text": [
            "\u001b[K     |████████████████████████████████| 804.1 MB 2.2 kB/s \n",
            "\u001b[K     |████████████████████████████████| 316 kB 70.3 MB/s \n",
            "\u001b[K     |████████████████████████████████| 582 kB 64.3 MB/s \n",
            "\u001b[K     |████████████████████████████████| 408 kB 92.6 MB/s \n",
            "\u001b[K     |████████████████████████████████| 596 kB 74.6 MB/s \n",
            "\u001b[K     |████████████████████████████████| 136 kB 82.1 MB/s \n",
            "\u001b[K     |████████████████████████████████| 1.1 MB 54.5 MB/s \n",
            "\u001b[K     |████████████████████████████████| 21.0 MB 215 kB/s \n",
            "\u001b[K     |████████████████████████████████| 23.2 MB 93.0 MB/s \n",
            "\u001b[K     |████████████████████████████████| 23.3 MB 1.1 MB/s \n",
            "\u001b[K     |████████████████████████████████| 23.3 MB 1.2 MB/s \n",
            "\u001b[K     |████████████████████████████████| 22.1 MB 272 kB/s \n",
            "\u001b[K     |████████████████████████████████| 22.1 MB 1.2 MB/s \n",
            "\u001b[K     |████████████████████████████████| 17.4 MB 102 kB/s \n",
            "\u001b[K     |████████████████████████████████| 10.4 MB 70.3 MB/s \n",
            "\u001b[K     |████████████████████████████████| 8.0 MB 44.2 MB/s \n",
            "\u001b[K     |████████████████████████████████| 8.0 MB 36.6 MB/s \n",
            "\u001b[K     |████████████████████████████████| 7.6 MB 36.5 MB/s \n",
            "\u001b[K     |████████████████████████████████| 7.6 MB 48.5 MB/s \n",
            "\u001b[K     |████████████████████████████████| 7.1 MB 34.4 MB/s \n",
            "\u001b[K     |████████████████████████████████| 2.9 MB 48.8 MB/s \n",
            "\u001b[K     |████████████████████████████████| 2.9 MB 47.5 MB/s \n",
            "\u001b[K     |████████████████████████████████| 2.9 MB 61.7 MB/s \n",
            "\u001b[K     |████████████████████████████████| 2.9 MB 67.1 MB/s \n",
            "\u001b[K     |████████████████████████████████| 1.9 MB 61.2 MB/s \n",
            "\u001b[K     |████████████████████████████████| 1.9 MB 79.5 MB/s \n",
            "\u001b[K     |████████████████████████████████| 1.9 MB 53.8 MB/s \n",
            "\u001b[K     |████████████████████████████████| 144 kB 83.1 MB/s \n",
            "\u001b[K     |████████████████████████████████| 94 kB 3.6 MB/s \n",
            "\u001b[K     |████████████████████████████████| 271 kB 90.2 MB/s \n",
            "\u001b[33m  WARNING: The scripts convert-caffe2-to-onnx and convert-onnx-to-caffe2 are installed in '/root/.local/bin' which is not on PATH.\n",
            "  Consider adding this directory to PATH or, if you prefer to suppress this warning, use --no-warn-script-location.\u001b[0m\n",
            "\u001b[?25hCollecting wandb\n",
            "  Downloading wandb-0.12.15-py2.py3-none-any.whl (1.8 MB)\n",
            "\u001b[K     |████████████████████████████████| 1.8 MB 9.8 MB/s \n",
            "\u001b[?25hCollecting pathtools\n",
            "  Downloading pathtools-0.1.2.tar.gz (11 kB)\n",
            "Requirement already satisfied: python-dateutil>=2.6.1 in /usr/local/lib/python3.7/dist-packages (from wandb) (2.8.2)\n",
            "Collecting setproctitle\n",
            "  Downloading setproctitle-1.2.3-cp37-cp37m-manylinux_2_5_x86_64.manylinux1_x86_64.manylinux_2_17_x86_64.manylinux2014_x86_64.whl (29 kB)\n",
            "Requirement already satisfied: psutil>=5.0.0 in /usr/local/lib/python3.7/dist-packages (from wandb) (5.4.8)\n",
            "Collecting GitPython>=1.0.0\n",
            "  Downloading GitPython-3.1.27-py3-none-any.whl (181 kB)\n",
            "\u001b[K     |████████████████████████████████| 181 kB 68.4 MB/s \n",
            "\u001b[?25hRequirement already satisfied: protobuf>=3.12.0 in /usr/local/lib/python3.7/dist-packages (from wandb) (3.17.3)\n",
            "Collecting shortuuid>=0.5.0\n",
            "  Downloading shortuuid-1.0.8-py3-none-any.whl (9.5 kB)\n",
            "Requirement already satisfied: six>=1.13.0 in /usr/local/lib/python3.7/dist-packages (from wandb) (1.15.0)\n",
            "Requirement already satisfied: Click!=8.0.0,>=7.0 in /usr/local/lib/python3.7/dist-packages (from wandb) (7.1.2)\n",
            "Collecting docker-pycreds>=0.4.0\n",
            "  Downloading docker_pycreds-0.4.0-py2.py3-none-any.whl (9.0 kB)\n",
            "Requirement already satisfied: PyYAML in /root/.local/lib/python3.7/site-packages (from wandb) (6.0)\n",
            "Requirement already satisfied: promise<3,>=2.0 in /usr/local/lib/python3.7/dist-packages (from wandb) (2.3)\n",
            "Requirement already satisfied: requests<3,>=2.0.0 in /usr/local/lib/python3.7/dist-packages (from wandb) (2.23.0)\n",
            "Collecting sentry-sdk>=1.0.0\n",
            "  Downloading sentry_sdk-1.5.10-py2.py3-none-any.whl (144 kB)\n",
            "\u001b[K     |████████████████████████████████| 144 kB 78.2 MB/s \n",
            "\u001b[?25hCollecting gitdb<5,>=4.0.1\n",
            "  Downloading gitdb-4.0.9-py3-none-any.whl (63 kB)\n",
            "\u001b[K     |████████████████████████████████| 63 kB 2.2 MB/s \n",
            "\u001b[?25hRequirement already satisfied: typing-extensions>=3.7.4.3 in /usr/local/lib/python3.7/dist-packages (from GitPython>=1.0.0->wandb) (4.1.1)\n",
            "Collecting smmap<6,>=3.0.1\n",
            "  Downloading smmap-5.0.0-py3-none-any.whl (24 kB)\n",
            "Requirement already satisfied: idna<3,>=2.5 in /usr/local/lib/python3.7/dist-packages (from requests<3,>=2.0.0->wandb) (2.10)\n",
            "Requirement already satisfied: urllib3!=1.25.0,!=1.25.1,<1.26,>=1.21.1 in /usr/local/lib/python3.7/dist-packages (from requests<3,>=2.0.0->wandb) (1.24.3)\n",
            "Requirement already satisfied: chardet<4,>=3.0.2 in /usr/local/lib/python3.7/dist-packages (from requests<3,>=2.0.0->wandb) (3.0.4)\n",
            "Requirement already satisfied: certifi>=2017.4.17 in /usr/local/lib/python3.7/dist-packages (from requests<3,>=2.0.0->wandb) (2021.10.8)\n",
            "Building wheels for collected packages: pathtools\n",
            "  Building wheel for pathtools (setup.py) ... \u001b[?25l\u001b[?25hdone\n",
            "  Created wheel for pathtools: filename=pathtools-0.1.2-py3-none-any.whl size=8806 sha256=b5d010677e063306b11e4c6c5c23863270182bfd7f80871f83cf62fa6483be10\n",
            "  Stored in directory: /root/.cache/pip/wheels/3e/31/09/fa59cef12cdcfecc627b3d24273699f390e71828921b2cbba2\n",
            "Successfully built pathtools\n",
            "Installing collected packages: smmap, gitdb, shortuuid, setproctitle, sentry-sdk, pathtools, GitPython, docker-pycreds, wandb\n",
            "Successfully installed GitPython-3.1.27 docker-pycreds-0.4.0 gitdb-4.0.9 pathtools-0.1.2 sentry-sdk-1.5.10 setproctitle-1.2.3 shortuuid-1.0.8 smmap-5.0.0 wandb-0.12.15\n"
          ]
        }
      ]
    },
    {
      "cell_type": "code",
      "source": [
        "!curl https://raw.githubusercontent.com/Ojasvi-97/DL_Final_Project_Spring_22/main/train_data.csv --output train.csv\n",
        "!curl https://raw.githubusercontent.com/Ojasvi-97/DL_Final_Project_Spring_22/main/val_data.csv --output val.csv\n",
        "!curl https://raw.githubusercontent.com/Ojasvi-97/DL_Final_Project_Spring_22/main/test_data.csv --output test.csv\n"
      ],
      "metadata": {
        "colab": {
          "base_uri": "https://localhost:8080/"
        },
        "id": "VzSMrtmg5knf",
        "outputId": "22ffb428-9064-4b8a-ee1b-11b72c27a72d"
      },
      "execution_count": null,
      "outputs": [
        {
          "output_type": "stream",
          "name": "stdout",
          "text": [
            "  % Total    % Received % Xferd  Average Speed   Time    Time     Time  Current\n",
            "                                 Dload  Upload   Total   Spent    Left  Speed\n",
            "100 11.0M  100 11.0M    0     0  17.1M      0 --:--:-- --:--:-- --:--:-- 17.1M\n",
            "  % Total    % Received % Xferd  Average Speed   Time    Time     Time  Current\n",
            "                                 Dload  Upload   Total   Spent    Left  Speed\n",
            "100 3944k  100 3944k    0     0  3618k      0  0:00:01  0:00:01 --:--:-- 3615k\n",
            "  % Total    % Received % Xferd  Average Speed   Time    Time     Time  Current\n",
            "                                 Dload  Upload   Total   Spent    Left  Speed\n",
            "100 4199k  100 4199k    0     0  5041k      0 --:--:-- --:--:-- --:--:-- 5041k\n"
          ]
        }
      ]
    },
    {
      "cell_type": "code",
      "source": [
        "from google.colab import drive\n",
        "drive.mount('/content/gdrive')"
      ],
      "metadata": {
        "colab": {
          "base_uri": "https://localhost:8080/"
        },
        "id": "mMjKSQHQzchd",
        "outputId": "d4591a70-9568-46e6-8196-63d7bcb2e71c"
      },
      "execution_count": null,
      "outputs": [
        {
          "output_type": "stream",
          "name": "stdout",
          "text": [
            "Mounted at /content/gdrive\n"
          ]
        }
      ]
    },
    {
      "cell_type": "code",
      "source": [
        "!unzip gdrive/My\\ Drive/Colab\\ Notebooks/train_images.zip > /dev/null\n",
        "!unzip gdrive/My\\ Drive/Colab\\ Notebooks/val_images.zip > /dev/null\n",
        "!unzip gdrive/My\\ Drive/Colab\\ Notebooks/test_images.zip > /dev/null"
      ],
      "metadata": {
        "id": "0b8boAd0ztlA"
      },
      "execution_count": null,
      "outputs": []
    },
    {
      "cell_type": "code",
      "source": [
        "import wandb\n",
        "wandb.login()"
      ],
      "metadata": {
        "colab": {
          "base_uri": "https://localhost:8080/",
          "height": 69
        },
        "id": "HiIfBqc2UyIH",
        "outputId": "0736d41e-afc5-44cf-e248-018df538e377"
      },
      "execution_count": null,
      "outputs": [
        {
          "output_type": "display_data",
          "data": {
            "text/plain": [
              "<IPython.core.display.Javascript object>"
            ],
            "application/javascript": [
              "\n",
              "        window._wandbApiKey = new Promise((resolve, reject) => {\n",
              "            function loadScript(url) {\n",
              "            return new Promise(function(resolve, reject) {\n",
              "                let newScript = document.createElement(\"script\");\n",
              "                newScript.onerror = reject;\n",
              "                newScript.onload = resolve;\n",
              "                document.body.appendChild(newScript);\n",
              "                newScript.src = url;\n",
              "            });\n",
              "            }\n",
              "            loadScript(\"https://cdn.jsdelivr.net/npm/postmate/build/postmate.min.js\").then(() => {\n",
              "            const iframe = document.createElement('iframe')\n",
              "            iframe.style.cssText = \"width:0;height:0;border:none\"\n",
              "            document.body.appendChild(iframe)\n",
              "            const handshake = new Postmate({\n",
              "                container: iframe,\n",
              "                url: 'https://wandb.ai/authorize'\n",
              "            });\n",
              "            const timeout = setTimeout(() => reject(\"Couldn't auto authenticate\"), 5000)\n",
              "            handshake.then(function(child) {\n",
              "                child.on('authorize', data => {\n",
              "                    clearTimeout(timeout)\n",
              "                    resolve(data)\n",
              "                });\n",
              "            });\n",
              "            })\n",
              "        });\n",
              "    "
            ]
          },
          "metadata": {}
        },
        {
          "output_type": "stream",
          "name": "stderr",
          "text": [
            "\u001b[34m\u001b[1mwandb\u001b[0m: Appending key for api.wandb.ai to your netrc file: /root/.netrc\n"
          ]
        },
        {
          "output_type": "execute_result",
          "data": {
            "text/plain": [
              "True"
            ]
          },
          "metadata": {},
          "execution_count": 5
        }
      ]
    },
    {
      "cell_type": "code",
      "source": [
        "# !pip install --upgrade imgaug==0.2.6"
      ],
      "metadata": {
        "id": "KpdtWCkS57j1"
      },
      "execution_count": null,
      "outputs": []
    },
    {
      "cell_type": "code",
      "source": [
        "# !pip install --upgrade matplotlib==3.3.3"
      ],
      "metadata": {
        "id": "98eE58QT5eMX"
      },
      "execution_count": null,
      "outputs": []
    },
    {
      "cell_type": "code",
      "source": [
        "import os\n",
        "import pandas as pd\n",
        "from PIL import Image\n",
        "import random\n",
        "import numpy as np\n",
        "from sklearn.decomposition import PCA\n",
        "from sklearn.manifold import TSNE\n",
        "import seaborn as sns\n",
        "import matplotlib.pyplot as plt\n",
        "import matplotlib\n",
        "from sklearn.utils import shuffle\n",
        "print(matplotlib.__version__)\n",
        "\n",
        "\n",
        "from torchvision.io import read_image\n",
        "from torchvision import transforms\n",
        "from torchvision.transforms import ToTensor, Lambda\n",
        "\n",
        "import torch\n",
        "from torch.utils.data import DataLoader\n",
        "from torch.utils.data import Dataset\n",
        "\n",
        "import torch.nn as nn\n",
        "from torch.nn.functional import cosine_similarity\n",
        "\n",
        "import pytorch_lightning as pl\n",
        "from pytorch_lightning import LightningModule, Trainer, seed_everything\n",
        "from pytorch_lightning.callbacks import LearningRateMonitor\n",
        "from pytorch_lightning.loggers import WandbLogger\n",
        "from torch.optim.lr_scheduler import OneCycleLR\n",
        "import math\n",
        "\n",
        "seed_everything(7)\n",
        "NUM_WORKERS = int(os.cpu_count() - 1)\n",
        "AVAIL_GPUS = min(1, torch.cuda.device_count())\n",
        "BATCH_SIZE = 256 if AVAIL_GPUS else 64\n",
        "print(AVAIL_GPUS, BATCH_SIZE, NUM_WORKERS)"
      ],
      "metadata": {
        "id": "K9Qi57FW6coE",
        "colab": {
          "base_uri": "https://localhost:8080/"
        },
        "outputId": "e84a576e-14f2-407e-ca6f-72bdacd98eba"
      },
      "execution_count": null,
      "outputs": [
        {
          "output_type": "stream",
          "name": "stdout",
          "text": [
            "3.2.2\n"
          ]
        },
        {
          "output_type": "stream",
          "name": "stderr",
          "text": [
            "Global seed set to 7\n"
          ]
        },
        {
          "output_type": "stream",
          "name": "stdout",
          "text": [
            "1 256 3\n"
          ]
        }
      ]
    },
    {
      "cell_type": "code",
      "source": [
        "class HMDataset(Dataset):\n",
        "    def __init__(self, data, image_dir):\n",
        "        self.df = data\n",
        "        self.image_dir = image_dir\n",
        "        self.preprocess = transforms.Compose([\n",
        "            transforms.CenterCrop(224),\n",
        "            transforms.ToTensor(),\n",
        "        ])\n",
        "        # preprocess function for text\n",
        "\n",
        "\n",
        "    def __len__(self):\n",
        "        return len(self.df)\n",
        "\n",
        "    def __getitem__(self, idx):\n",
        "        \n",
        "        ref_data = self.df.iloc[idx]\n",
        "        ref_image = Image.open(os.path.join(self.image_dir, ref_data[\"location\"].split(\"/\")[1]))\n",
        "        ref_image = self.preprocess(ref_image)\n",
        "        ref_image /= 255.0\n",
        "        ref_text = ref_data[\"detail_desc\"]\n",
        "        ref_label = ref_data[\"index_group_name\"]\n",
        "        art_id = ref_data[\"article_id\"]\n",
        "        \n",
        "        pos_data = pd.DataFrame(self.df[self.df[\"index_group_name\"] == ref_data[\"index_group_name\"]].sample(n=1))\n",
        "        pos_data = pos_data.iloc[0]\n",
        "        pos_image = Image.open(os.path.join(self.image_dir, pos_data[\"location\"].split(\"/\")[1]))\n",
        "        pos_image = self.preprocess(pos_image)\n",
        "        pos_image /= 255.0\n",
        "        \n",
        "        pos_text = pos_data[\"detail_desc\"]\n",
        "        pos_label = pos_data[\"index_group_name\"]\n",
        "        \n",
        "        neg_data = pd.DataFrame(self.df[self.df[\"index_group_name\"] != ref_data[\"index_group_name\"]].sample(n=1))\n",
        "        neg_data = neg_data.iloc[0]\n",
        "        neg_image = Image.open(os.path.join(self.image_dir, neg_data[\"location\"].split(\"/\")[1]))\n",
        "        neg_image = self.preprocess(neg_image)\n",
        "        neg_image /= 255.0\n",
        "        \n",
        "        neg_text = neg_data[\"detail_desc\"]\n",
        "        neg_label = neg_data[\"index_group_name\"]\n",
        "        \n",
        "        attributes = {\n",
        "            \"ref_image\": ref_image,\n",
        "            \"ref_text\": ref_text,\n",
        "            \"ref_label\": ref_label,\n",
        "            \"ref_article_id\": art_id,\n",
        "            \"pos_image\": pos_image,\n",
        "            \"pos_text\": pos_text,\n",
        "            \"pos_label\": pos_label,\n",
        "            \"neg_image\": neg_image,\n",
        "            \"neg_text\": neg_text,\n",
        "            \"neg_label\": neg_label\n",
        "        }\n",
        "        \n",
        "        return attributes"
      ],
      "metadata": {
        "id": "2POqPiue6hYr"
      },
      "execution_count": null,
      "outputs": []
    },
    {
      "cell_type": "code",
      "source": [
        "class HMDataModule(pl.LightningDataModule):\n",
        "    def __init__(self, train_path=\"\", val_path=\"\", test_path=\"\", img_train=\"\", img_val=\"\", img_test=\"\", batch_size= BATCH_SIZE):\n",
        "        super().__init__()\n",
        "        self.batch_size = batch_size\n",
        "\n",
        "        #image dirs\n",
        "        self.img_train = img_train\n",
        "        self.img_val = img_val\n",
        "        self.img_test = img_test\n",
        "\n",
        "        #data \n",
        "        self.train_df, self.val_df, self.test_df = pd.read_csv(train_path), shuffle(pd.read_csv(val_path)), shuffle(pd.read_csv(test_path))\n",
        "        \n",
        "\n",
        "    def setup(self, stage=None):\n",
        "        self.train_data = HMDataset(data=self.train_df, image_dir=self.img_train)\n",
        "        self.val_data = HMDataset(data=self.val_df, image_dir=self.img_val)\n",
        "        self.test_data = HMDataset(data=self.test_df, image_dir=self.img_test)\n",
        "\n",
        "    def train_dataloader(self):\n",
        "        return DataLoader(self.train_data, batch_size=self.batch_size, shuffle=True, num_workers=NUM_WORKERS)\n",
        "\n",
        "    def val_dataloader(self):\n",
        "        return DataLoader(self.val_data, batch_size=self.batch_size, num_workers=NUM_WORKERS)\n",
        "\n",
        "    "
      ],
      "metadata": {
        "id": "tT_yxRe98LBq"
      },
      "execution_count": null,
      "outputs": []
    },
    {
      "cell_type": "code",
      "source": [
        "class VisualEmbd(nn.Module):\n",
        "    # resnet last 2 layers\n",
        "    # dense layers\n",
        "    # similarity\n",
        "    def __init__(self):\n",
        "        super().__init__()\n",
        "        self.model = torch.hub.load('pytorch/vision:v0.10.0', 'resnet18', pretrained=True)\n",
        "        self.af = nn.ReLU()\n",
        "        self.last_layer = nn.Linear(1000, 256)\n",
        "\n",
        "        count=0\n",
        "        for child in self.model.children():\n",
        "            count+=1\n",
        "            if count < 7:\n",
        "                for param in child.parameters():\n",
        "                    param.requires_grad = False\n",
        "    \n",
        "    \n",
        "\n",
        "    def forward(self, x):\n",
        "        x = self.model(x)\n",
        "        x = self.last_layer(self.af(x))\n",
        "        return x"
      ],
      "metadata": {
        "id": "MXPFAhgW7D-5"
      },
      "execution_count": null,
      "outputs": []
    },
    {
      "cell_type": "code",
      "source": [
        "class LitVisualEmbd(LightningModule):\n",
        "    def __init__(self, lr=0.01, margin=0.1):\n",
        "        super().__init__()\n",
        "        self.save_hyperparameters()\n",
        "        self.model = VisualEmbd()\n",
        "        self.margin = margin\n",
        "        self.lr = lr\n",
        "        self.pca = PCA(n_components=50)\n",
        "        self.tsne = TSNE(n_components=2, verbose=0, perplexity=40, n_iter=300)\n",
        "        \n",
        "    def forward(self, x):\n",
        "        x = self.model(x)\n",
        "        return x\n",
        "    \n",
        "    def training_step(self, batch, batch_idx):\n",
        "        return self.evaluate(batch, batch_idx, stage=\"train\")\n",
        "\n",
        "    def log_plot(self, embds, labels):\n",
        "\n",
        "        df_subset = pd.DataFrame()\n",
        "\n",
        "        pca_embd = self.pca.fit_transform(embds.cpu().detach().numpy())\n",
        "        print('Cumulative explained variation for 50 principal components: {}'.format(np.sum(self.pca.explained_variance_ratio_)))\n",
        "        tsne_pca_results = self.tsne.fit_transform(pca_embd)\n",
        "\n",
        "        \n",
        "        df_subset['tsne-pca50-one'] = tsne_pca_results[:,0]\n",
        "        df_subset['tsne-pca50-two'] = tsne_pca_results[:,1]\n",
        "\n",
        "        df_subset[\"label\"] = labels\n",
        "\n",
        "\n",
        "        sns.scatterplot(\n",
        "          x=\"tsne-pca50-one\", y=\"tsne-pca50-two\",\n",
        "          hue=\"label\",\n",
        "          palette=sns.color_palette(\"hls\", len(set(labels))),\n",
        "          data=df_subset,\n",
        "          legend=\"full\",\n",
        "          alpha=0.3)\n",
        "        # self.log(\"t-sne\", wandb.Image(fig))\n",
        "        \n",
        "        self.logger.experiment.log({\"t-sne plot\": plt})\n",
        "\n",
        "        plt.close()\n",
        "    \n",
        "    def evaluate(self, batch, batch_idx, stage=None):\n",
        "        ref_batch = batch[\"ref_image\"]\n",
        "        pos_batch = batch[\"pos_image\"]\n",
        "        neg_batch = batch[\"neg_image\"]\n",
        "        \n",
        "        ref_embd = self(ref_batch)\n",
        "        pos_embd = self(pos_batch)\n",
        "        neg_embd = self(neg_batch)\n",
        "\n",
        "        tml = torch.nn.TripletMarginLoss(margin=self.margin, p=2)\n",
        "        loss = tml(ref_embd, pos_embd, neg_embd)\n",
        "        \n",
        "        if stage:\n",
        "            self.log(f\"{stage}_loss\", loss.mean(), prog_bar=True)\n",
        "\n",
        "            if batch_idx == 0:\n",
        "              self.log_plot(ref_embd, batch[\"ref_label\"])\n",
        "\n",
        "        return loss.mean()\n",
        "\n",
        "    def validation_step(self, batch, batch_idx):\n",
        "        self.evaluate(batch, batch_idx, \"val\")\n",
        "\n",
        "    \n",
        "    def configure_optimizers(self):\n",
        "        optimizer = torch.optim.SGD(\n",
        "            self.parameters(),\n",
        "            lr=self.hparams.lr,\n",
        "            momentum=0.9,\n",
        "            weight_decay=5e-4,\n",
        "        )\n",
        "#         steps_per_epoch = 40000 // BATCH_SIZE\n",
        "        return {\"optimizer\": optimizer}\n",
        "\n",
        "        \n"
      ],
      "metadata": {
        "id": "xmGYVIpg7R84"
      },
      "execution_count": null,
      "outputs": []
    },
    {
      "cell_type": "code",
      "source": [
        "hm_dm = HMDataModule(\n",
        "    train_path=\"train.csv\",\n",
        "    val_path = \"val.csv\",\n",
        "    test_path = \"test.csv\",\n",
        "    img_train = \"/content/train_images\",\n",
        "    img_val = \"/content/val_images\",\n",
        "    img_test = \"/content/test_images\",\n",
        ")"
      ],
      "metadata": {
        "id": "jKN8NEdjEUP6"
      },
      "execution_count": null,
      "outputs": []
    },
    {
      "cell_type": "code",
      "source": [
        "model = LitVisualEmbd()\n",
        "model.datamodule = hm_dm\n",
        "\n",
        "# trainer = Trainer(\n",
        "#           progress_bar_refresh_rate=10,\n",
        "#           gpus=AVAIL_GPUS,\n",
        "#           max_epochs=10,\n",
        "#           logger=WandbLogger(project=\"final_project_visual\"),\n",
        "#           callbacks=[LearningRateMonitor(logging_interval=\"step\")]\n",
        "#       )\n",
        "# trainer.fit(model, hm_dm)"
      ],
      "metadata": {
        "id": "-jrcOLU1EWVY",
        "colab": {
          "base_uri": "https://localhost:8080/",
          "height": 84,
          "referenced_widgets": [
            "5fc1f926423449b8b6c317ecee2ca8a6",
            "94f26770bba34d44931d0d8e6505d827",
            "149a9d1cdc854468afe8066aaa20bd7e",
            "ab5b82b0b4874feeab2b9646795d5481",
            "272ab7232ad74c4b9983ff99443b8936",
            "430e5693533d4424a4fd3b4a09b1fe25",
            "5bdc09d141a04842805055e299c23b4c",
            "36bcbfc4e85f4b1caaf1a01299ed43f8",
            "d6ab3d4d68694dce97cd9668f41b6f19",
            "7d79e53a1d2e498cb102c0ae4349a4f1",
            "948151e1082f4a88b6c68719c37982ae"
          ]
        },
        "outputId": "3c9c06fd-7718-4779-85c5-168313a8d61a"
      },
      "execution_count": null,
      "outputs": [
        {
          "output_type": "stream",
          "name": "stderr",
          "text": [
            "Downloading: \"https://github.com/pytorch/vision/archive/v0.10.0.zip\" to /root/.cache/torch/hub/v0.10.0.zip\n",
            "Downloading: \"https://download.pytorch.org/models/resnet18-5c106cde.pth\" to /root/.cache/torch/hub/checkpoints/resnet18-5c106cde.pth\n"
          ]
        },
        {
          "output_type": "display_data",
          "data": {
            "text/plain": [
              "  0%|          | 0.00/44.7M [00:00<?, ?B/s]"
            ],
            "application/vnd.jupyter.widget-view+json": {
              "version_major": 2,
              "version_minor": 0,
              "model_id": "5fc1f926423449b8b6c317ecee2ca8a6"
            }
          },
          "metadata": {}
        }
      ]
    },
    {
      "cell_type": "code",
      "source": [
        "# model_save_name = 'visual_triplet'\n",
        "# path = F\"/content/gdrive/My Drive/{model_save_name}\" \n",
        "# torch.save(model.state_dict(), path)"
      ],
      "metadata": {
        "id": "Rx4vfFKso5zh"
      },
      "execution_count": null,
      "outputs": []
    },
    {
      "cell_type": "code",
      "source": [
        "\n",
        "def test_plot(embds, labels):\n",
        "      pca = PCA(n_components=50)\n",
        "      tsne = TSNE(n_components=2, verbose=0, perplexity=40, n_iter=300)\n",
        "\n",
        "      df_subset = pd.DataFrame()\n",
        "\n",
        "      pca_embd = pca.fit_transform(embds)\n",
        "      print('Cumulative explained variation for 50 principal components: {}'.format(np.sum(pca.explained_variance_ratio_)))\n",
        "      tsne_pca_results = tsne.fit_transform(pca_embd)\n",
        "\n",
        "      \n",
        "      df_subset['tsne-pca50-one'] = tsne_pca_results[:,0]\n",
        "      df_subset['tsne-pca50-two'] = tsne_pca_results[:,1]\n",
        "\n",
        "      df_subset[\"label\"] = labels\n",
        "\n",
        "\n",
        "\n",
        "      sns.scatterplot(\n",
        "        x=\"tsne-pca50-one\", y=\"tsne-pca50-two\",\n",
        "        hue=\"label\",\n",
        "        palette=sns.color_palette(\"hls\", len(set(labels))),\n",
        "        data=df_subset,\n",
        "        legend=\"full\",\n",
        "        alpha=0.3)\n",
        "      \n",
        "      plt.show()\n",
        "      plt.close()\n",
        "        "
      ],
      "metadata": {
        "id": "R-76YKX-IJfW"
      },
      "execution_count": null,
      "outputs": []
    },
    {
      "cell_type": "code",
      "source": [
        "from tqdm import tqdm\n",
        "\n",
        "def test(test_loader):\n",
        "\n",
        "  all_embds = []\n",
        "  all_labels = []\n",
        "  all_article_ids = []\n",
        "\n",
        "  model2 = LitVisualEmbd()\n",
        "  # model_save_name = 'visual_triplet'\n",
        "  # path = F\"/content/gdrive/My Drive/{model_save_name}\"\n",
        "  # model.load_state_dict(torch.load(path))\n",
        "  model2.eval()\n",
        "\n",
        "  for x in tqdm(test_loader):\n",
        "    final_embds = model2(x[\"ref_image\"])\n",
        "    all_embds.append(final_embds.cpu().detach().numpy())\n",
        "\n",
        "    all_labels.extend(x[\"ref_label\"])\n",
        "    all_article_ids.extend(x[\"ref_article_id\"])\n",
        "\n",
        "\n",
        "  print(\"!!!\", len(all_embds))\n",
        "  all_embs_con = np.concatenate(all_embds, axis=0)\n",
        "  print(\"embds\", all_embs_con.shape)\n",
        "  # print(\"label\", len(all_labels))\n",
        "\n",
        "  # print(\"Plotting...\")\n",
        "  test_plot(all_embs_con, all_labels)\n",
        "\n",
        "  # ret urn [all_embs_con, all_article_ids]\n",
        "\n"
      ],
      "metadata": {
        "id": "ByWWcyeyElCt"
      },
      "execution_count": null,
      "outputs": []
    },
    {
      "cell_type": "code",
      "source": [
        "\n",
        "\n",
        "# test_path = \"test.csv\"\n",
        "# test_images = \"/content/test_images\"\n",
        "# test_df = pd.read_csv(test_path)\n",
        "# print(len(test_df))\n",
        "# test_data = HMDataset(data=test_df, image_dir=test_images)\n",
        "# test_loader = DataLoader(test_data, batch_size=BATCH_SIZE, num_workers=NUM_WORKERS)\n",
        "# test_embds = test(test_loader=test_loader)\n",
        "# print(\"finished test split\")\n",
        "\n",
        "# # ## train\n",
        "\n",
        "# train_path = \"train.csv\"\n",
        "# train_images = \"/content/train_images\"\n",
        "# train_df = pd.read_csv(train_path)\n",
        "# train_data = HMDataset(data=train_df, image_dir=train_images)\n",
        "# train_loader = DataLoader(train_data, batch_size=BATCH_SIZE, num_workers=NUM_WORKERS)\n",
        "# train_embds = test(test_loader=train_loader)\n",
        "# print(\"finished train split\")\n",
        "\n",
        "# ## val\n",
        "\n",
        "# val_path = \"val.csv\"\n",
        "# val_images = \"/content/val_images\"\n",
        "# val_df = pd.read_csv(val_path)\n",
        "# val_data = HMDataset(data=val_df, image_dir=val_images)\n",
        "# val_loader = DataLoader(val_data, batch_size=BATCH_SIZE, num_workers=NUM_WORKERS)\n",
        "# val_embds = test(test_loader=val_loader)\n",
        "# print(\"finished val split\")\n",
        "\n",
        "\n",
        "df_test_embd = pd.DataFrame()\n",
        "\n",
        "for i in range(test_embds[0].shape[1]):\n",
        "  df_test_embd[\"feature_\"+ str(i)] = test_embds[0][:, i]\n",
        "\n",
        "df_test_embd[\"article_id\"] = test_embds[1]\n",
        "\n",
        "\n",
        "df_test_embd[\"article_id\"] = df_test_embd[\"article_id\"].apply(lambda x: x.item())\n",
        "\n",
        "df_train_embd = pd.DataFrame()\n",
        "\n",
        "for i in range(train_embds[0].shape[1]):\n",
        "  df_train_embd[\"feature_\"+ str(i)] = train_embds[0][:, i]\n",
        "\n",
        "df_train_embd[\"article_id\"] = train_embds[1]\n",
        "\n",
        "df_train_embd[\"article_id\"] = df_train_embd[\"article_id\"].apply(lambda x: x.item())\n",
        "df_val_embd = pd.DataFrame()\n",
        "\n",
        "for i in range(val_embds[0].shape[1]):\n",
        "  df_val_embd[\"feature_\"+ str(i)] = val_embds[0][:, i]\n",
        "\n",
        "df_val_embd[\"article_id\"] = val_embds[1]\n",
        "df_val_embd[\"article_id\"] = df_val_embd[\"article_id\"].apply(lambda x: x.item())\n",
        "final_embds = pd.concat([df_test_embd, df_train_embd, df_val_embd], ignore_index=True)\n",
        "final_embds.to_csv(\"visual_embeddings_final.csv\")"
      ],
      "metadata": {
        "id": "Lns64a7KDL9K"
      },
      "execution_count": 1,
      "outputs": []
    }
  ]
}