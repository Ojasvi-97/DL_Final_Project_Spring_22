{
 "cells": [
  {
   "cell_type": "code",
   "execution_count": 1,
   "id": "a13f0738",
   "metadata": {},
   "outputs": [],
   "source": [
    "import os\n",
    "import pandas as pd\n",
    "from sklearn.neighbors import NearestNeighbors\n",
    "import numpy as np\n",
    "from sklearn.utils import shuffle"
   ]
  },
  {
   "cell_type": "code",
   "execution_count": 59,
   "id": "2d14a6a2",
   "metadata": {},
   "outputs": [],
   "source": [
    "class Recommend:\n",
    "    def __init__(self, \n",
    "                 sample_sub_df,\n",
    "                 transaction_df,\n",
    "                 features_df):\n",
    "        self.sample_sub_df = sample_sub_df\n",
    "        self.transaction_df = transaction_df\n",
    "        self.features_df = features_df\n",
    "        self.model = NearestNeighbors(n_neighbors=12)\n",
    "        \n",
    "    \n",
    "    \n",
    "    def predict():\n",
    "        pass\n",
    "    \n",
    "    def find_centroid(self, article_list):\n",
    "        all_features = []\n",
    "\n",
    "        for article in article_list:\n",
    "\n",
    "            block = self.feature_df[self.feature_df[\"article_id\"] == article].iloc[:, 1:-1]\n",
    "            if block.shape[0] > 0:\n",
    "                all_features.append(block.to_numpy())\n",
    "                \n",
    "        all_features = np.concatenate(np.array(all_features))\n",
    "        print(all_features.shape)\n",
    "        \n",
    "        return np.sum(all_features, axis=0)/all_features.shape[0]\n",
    "            \n",
    "    \n",
    "    def write_results():\n",
    "        pass\n",
    "    def generate_recommendations(self):\n",
    "        # make predictions for customers in sample_sub_df\n",
    "        \n",
    "        customer_history = self.sample_sub_df.merge(self.transaction_df)\n",
    "        customer_history.drop(['t_dat', 'price', 'sales_channel_id'], axis=1, inplace=True)\n",
    "        customer_group = customer_history.groupby(\"customer_id\")\n",
    "        \n",
    "        for name, group in customer_group:\n",
    "            if len(group) > 0:\n",
    "                average_embds = self.find_centroid(group[\"article_id\"].tolist())\n",
    "                break\n",
    "                # send 'group' to find_centroid, returns an embedding --> done\n",
    "                # send embedding to predict, returns predictions\n",
    "                # send predictions to write_results\n",
    "            \n",
    "            \n",
    "class evaluate:\n",
    "    def __init__(results_path=\"\"):\n",
    "        self.results_df = pd.read_csv(results_path)\n",
    "        \n",
    "    def calc_mean_avg_precision():\n",
    "        pass\n",
    "            "
   ]
  },
  {
   "cell_type": "code",
   "execution_count": 60,
   "id": "25a8a9c8",
   "metadata": {},
   "outputs": [],
   "source": [
    "sample_sub_path = \"C:/Users/ojubh\\/Desktop/SEMESTER 2/Deep Learning/Final_Project/data/sample_submission.csv\"\n",
    "transaction_path = \"C:/Users/ojubh\\/Desktop/SEMESTER 2/Deep Learning/Final_Project/data/transactions_train.csv\"\n",
    "features_path = \"C:/Users/ojubh\\/Desktop/SEMESTER 2/Deep Learning/Final_Project/data/visual_embeddings_final.csv\"\n",
    "\n",
    "sample_sub_df = pd.read_csv(sample_sub_path)\n",
    "transaction_df = pd.read_csv(transaction_path)\n",
    "feature_df = pd.read_csv(features_path)\n",
    "\n",
    "recommend = Recommend(sample_sub_df, transaction_df, feature_df)\n"
   ]
  },
  {
   "cell_type": "code",
   "execution_count": 61,
   "id": "a712e097",
   "metadata": {},
   "outputs": [
    {
     "name": "stdout",
     "output_type": "stream",
     "text": [
      "00000dbacae5abe5e23885899a1fa44253a17956c6d1c3d25f88aa139fdfc657\n",
      "[625548001, 176209023, 627759010, 697138006, 568601006, 568601006, 607642008, 745232001, 656719005, 797065001, 797065001, 785186005, 694736004, 785710001, 812683013, 841260003, 887593002, 890498002, 795440001, 859416011, 568601043]\n"
     ]
    }
   ],
   "source": [
    "recommend.generate_recommendations()"
   ]
  },
  {
   "cell_type": "code",
   "execution_count": 39,
   "id": "b27f0069",
   "metadata": {},
   "outputs": [
    {
     "name": "stdout",
     "output_type": "stream",
     "text": [
      "      feature_0  feature_1  feature_2  feature_3  feature_4  feature_5  \\\n",
      "6318   0.005906  -0.038544   0.112788  -0.001114  -0.047949   0.025035   \n",
      "\n",
      "      feature_6  feature_7  feature_8  feature_9  ...  feature_246  \\\n",
      "6318   0.037177   0.068184  -0.008321   0.026323  ...     0.056265   \n",
      "\n",
      "      feature_247  feature_248  feature_249  feature_250  feature_251  \\\n",
      "6318    -0.005186    -0.023714     0.015461    -0.056606    -0.026489   \n",
      "\n",
      "      feature_252  feature_253  feature_254  feature_255  \n",
      "6318    -0.094524    -0.011572    -0.099016    -0.022905  \n",
      "\n",
      "[1 rows x 256 columns]\n",
      "    feature_0  feature_1  feature_2  feature_3  feature_4  feature_5  \\\n",
      "29   0.016059   -0.06702    0.03415  -0.012584  -0.024609  -0.047817   \n",
      "\n",
      "    feature_6  feature_7  feature_8  feature_9  ...  feature_246  feature_247  \\\n",
      "29   0.003319   0.108626   0.031268   0.006889  ...     0.073493     0.007281   \n",
      "\n",
      "    feature_248  feature_249  feature_250  feature_251  feature_252  \\\n",
      "29     0.000825     0.018547    -0.048673     0.020937     -0.06247   \n",
      "\n",
      "    feature_253  feature_254  feature_255  \n",
      "29      0.07383    -0.019215     -0.01137  \n",
      "\n",
      "[1 rows x 256 columns]\n"
     ]
    }
   ],
   "source": [
    "articles = [625548001, 176209023, 627759010, 697138006, 568601006, 568601006, 607642008, 745232001, 656719005, 797065001, 797065001, 785186005, 694736004, 785710001, 812683013, 841260003, 887593002, 890498002, 795440001, 859416011, 568601043]\n",
    "\n",
    "all_features = []\n",
    "\n",
    "for article in articles[:2]:\n",
    "\n",
    "    block = feature_df[feature_df[\"article_id\"] == article].iloc[:, 1:-1]\n",
    "    print(block)\n",
    "\n",
    "#     if block.shape[0] > 0:\n",
    "#         all_features.append(block.to_numpy())\n",
    "        \n",
    "        \n"
   ]
  },
  {
   "cell_type": "code",
   "execution_count": 36,
   "id": "cb681394",
   "metadata": {},
   "outputs": [],
   "source": [
    "trial = all_features"
   ]
  },
  {
   "cell_type": "code",
   "execution_count": 48,
   "id": "ff27f93c",
   "metadata": {},
   "outputs": [],
   "source": [
    "trial = trial[:2]"
   ]
  },
  {
   "cell_type": "code",
   "execution_count": 53,
   "id": "3966ca82",
   "metadata": {},
   "outputs": [],
   "source": [
    "final = np.concatenate(np.array(trial))"
   ]
  },
  {
   "cell_type": "code",
   "execution_count": 57,
   "id": "a8b808b9",
   "metadata": {},
   "outputs": [
    {
     "data": {
      "text/plain": [
       "(2, 256)"
      ]
     },
     "execution_count": 57,
     "metadata": {},
     "output_type": "execute_result"
    }
   ],
   "source": [
    "final.shape"
   ]
  },
  {
   "cell_type": "code",
   "execution_count": 58,
   "id": "215c5651",
   "metadata": {},
   "outputs": [
    {
     "data": {
      "text/plain": [
       "array([ 1.09822080e-02, -5.27820960e-02,  7.34690475e-02, -6.84891900e-03,\n",
       "       -3.62788965e-02, -1.13912360e-02,  2.02483339e-02,  8.84047400e-02,\n",
       "        1.14736645e-02,  1.66062945e-02, -6.38587420e-02, -1.69713095e-02,\n",
       "        8.24750500e-03, -9.43068130e-02,  2.06919325e-02,  2.57568405e-02,\n",
       "        7.41446120e-02, -1.44274169e-02,  3.00100505e-02,  4.22135220e-02,\n",
       "       -7.63837870e-02, -2.79886000e-03,  7.38080220e-02, -2.07193020e-02,\n",
       "       -1.25305232e-02,  1.71212165e-02, -4.30209935e-02, -4.21489580e-02,\n",
       "        3.44587818e-02,  2.99923510e-02, -1.24380010e-02,  1.16911125e-02,\n",
       "        6.98644540e-02, -5.69922285e-02,  1.43349835e-02, -1.39767730e-02,\n",
       "        3.33864725e-02,  2.61975930e-02, -3.39168350e-02, -2.38744500e-04,\n",
       "        7.42062825e-02,  2.62842898e-02,  8.62649200e-02,  4.34501109e-02,\n",
       "       -9.14860100e-03, -4.71784695e-02,  1.20876155e-02, -3.30057665e-02,\n",
       "       -3.61280220e-02,  3.07690860e-02, -6.99544615e-02,  5.06118695e-02,\n",
       "       -4.80068150e-02, -4.66233105e-02, -7.69505150e-02,  5.79041930e-02,\n",
       "        4.05417050e-02, -8.00955450e-02,  5.27305230e-02,  2.13801717e-02,\n",
       "        1.95253790e-02,  3.38946580e-02,  2.75667680e-02, -8.30012200e-03,\n",
       "        2.06170085e-02,  4.19030765e-02, -6.47599825e-03, -2.03480510e-02,\n",
       "        7.25264625e-02, -4.54582720e-02, -7.14275250e-02,  1.96461415e-02,\n",
       "       -3.97812390e-02,  1.11141312e-02,  4.07434300e-03, -3.48782793e-02,\n",
       "        1.35509702e-02,  7.61307720e-02,  1.71146480e-02, -1.99750065e-02,\n",
       "        3.52458675e-02, -9.14621900e-02,  3.78270790e-02,  1.33594535e-02,\n",
       "       -3.50497340e-02, -7.07864885e-02,  9.40630250e-03,  5.50668590e-02,\n",
       "       -8.37769150e-02, -1.59145900e-02,  1.57202950e-03,  7.43567020e-04,\n",
       "       -7.13055245e-02,  7.22783640e-03,  3.04499470e-02,  6.20011185e-02,\n",
       "        1.83103688e-02,  1.47773140e-02, -3.38952300e-02, -5.20656685e-02,\n",
       "        1.02228650e-03,  4.60594520e-02, -7.36486675e-02,  3.57423507e-02,\n",
       "       -2.44608420e-02, -4.98519375e-02,  4.87433210e-02,  1.12870800e-03,\n",
       "        1.72009720e-02,  6.36359235e-02,  6.04649350e-03, -2.04925680e-02,\n",
       "       -7.12736520e-02,  4.11956610e-02,  1.84505570e-02,  4.89774650e-03,\n",
       "        7.65526970e-02, -2.35769200e-03,  1.06485130e-02,  1.49936535e-02,\n",
       "       -6.46857290e-02,  6.04444975e-02,  3.09716600e-03, -4.44710755e-02,\n",
       "       -8.03565600e-03,  4.61905490e-02,  2.87089300e-02, -7.25421075e-02,\n",
       "       -7.94341000e-03,  2.13928550e-03,  2.26585920e-02,  9.87684150e-03,\n",
       "        8.34362500e-02,  5.25696160e-02, -1.90518870e-02, -6.68140375e-02,\n",
       "       -1.29497715e-02,  6.64115425e-02,  3.94153340e-02,  2.34360150e-03,\n",
       "        2.21934550e-03, -5.95875240e-02, -1.73337513e-02,  2.34013195e-02,\n",
       "        9.12434250e-02, -1.05710280e-02, -4.54015219e-02,  1.43265200e-03,\n",
       "        3.70579255e-02,  1.66039395e-02, -5.93881885e-03,  4.09517195e-02,\n",
       "        8.85000695e-03,  9.44852000e-03, -2.13375277e-02, -4.85240100e-03,\n",
       "       -3.27252620e-03, -2.85454265e-02, -1.94395800e-02,  4.51984270e-02,\n",
       "       -4.84307745e-02, -3.21659218e-02, -3.10841150e-03, -3.37554920e-03,\n",
       "       -8.60322705e-02, -3.04035605e-02, -3.47948840e-02, -2.90744585e-02,\n",
       "       -1.59758656e-02, -2.57840852e-02, -6.61277450e-03, -3.67960120e-02,\n",
       "        5.95199245e-02,  3.62937050e-03, -1.68614985e-02,  4.64680450e-03,\n",
       "        2.00115165e-02, -6.31867520e-02,  1.60315800e-02, -1.09562670e-02,\n",
       "       -4.41768770e-03,  1.10668400e-02, -7.01000910e-02, -2.66611020e-02,\n",
       "       -2.28976870e-02,  2.92060897e-02, -3.99996500e-02, -3.92142162e-02,\n",
       "        8.59526650e-02, -7.78373235e-03, -2.31702810e-02,  7.03044490e-03,\n",
       "        2.91457390e-02,  3.61266320e-02, -2.04157935e-02, -3.69070110e-02,\n",
       "        5.33966450e-03, -5.06372550e-03,  1.12775630e-02,  4.18857540e-02,\n",
       "       -5.10277457e-03, -7.23537800e-02,  3.22593122e-02,  2.98662462e-02,\n",
       "        6.88740915e-03,  1.38139205e-02, -1.22860605e-01, -4.04299700e-02,\n",
       "        2.66817700e-02, -1.44337940e-02,  2.35765500e-03, -8.57454500e-03,\n",
       "        6.45553950e-02,  3.88777265e-02, -2.74487980e-02, -5.22904720e-02,\n",
       "       -7.37806630e-02,  3.62296485e-02,  3.01210610e-02, -3.57299130e-02,\n",
       "       -1.09893495e-02,  6.58304800e-03,  1.61985215e-02,  5.39472070e-02,\n",
       "        3.92637624e-02,  4.55111925e-02,  1.07617766e-02, -4.92586615e-02,\n",
       "       -2.23306445e-02, -6.75600000e-06,  6.29737500e-03, -8.98737050e-03,\n",
       "       -7.60196050e-03,  5.42906100e-03, -2.20170407e-02,  1.48006525e-02,\n",
       "       -4.06028960e-02,  3.00027300e-02, -3.64819540e-02, -2.55934100e-02,\n",
       "        4.11139615e-02, -8.22531850e-02,  1.82747000e-02,  4.30184900e-02,\n",
       "        6.49047875e-02,  2.91883030e-02,  6.48785735e-02,  1.04760715e-03,\n",
       "       -1.14442850e-02,  1.70038452e-02, -5.26391615e-02, -2.77622350e-03,\n",
       "       -7.84972520e-02,  3.11287503e-02, -5.91155540e-02, -1.71373815e-02])"
      ]
     },
     "execution_count": 58,
     "metadata": {},
     "output_type": "execute_result"
    }
   ],
   "source": [
    "np.sum(final, axis=0)/2"
   ]
  },
  {
   "cell_type": "code",
   "execution_count": 105,
   "id": "48044c26",
   "metadata": {},
   "outputs": [],
   "source": [
    "merged_customer_data = sample_sub.merge(trans_train, on=\"customer_id\", how=\"inner\")"
   ]
  },
  {
   "cell_type": "code",
   "execution_count": 106,
   "id": "6422fd74",
   "metadata": {},
   "outputs": [],
   "source": [
    "merged_customer_data.drop(['t_dat', 'price', 'sales_channel_id'], inplace=True, axis=1)"
   ]
  },
  {
   "cell_type": "code",
   "execution_count": 107,
   "id": "e95b2e63",
   "metadata": {},
   "outputs": [],
   "source": [
    "customer_group = merged_customer_data.groupby(\"customer_id\")"
   ]
  },
  {
   "cell_type": "code",
   "execution_count": 161,
   "id": "3e06daa1",
   "metadata": {},
   "outputs": [
    {
     "data": {
      "text/plain": [
       "1362281"
      ]
     },
     "execution_count": 161,
     "metadata": {},
     "output_type": "execute_result"
    }
   ],
   "source": [
    "len(customer_group)"
   ]
  },
  {
   "cell_type": "code",
   "execution_count": 113,
   "id": "1c6f85d8",
   "metadata": {},
   "outputs": [],
   "source": [
    "image_embeddings.drop(\"article_id\", inplace=True, axis=1)\n",
    "image_embeddings.drop(\"Unnamed: 0\", axis=1, inplace=True)\n"
   ]
  },
  {
   "cell_type": "code",
   "execution_count": 118,
   "id": "629c9997",
   "metadata": {},
   "outputs": [],
   "source": [
    "x_train = image_embeddings.to_numpy()"
   ]
  },
  {
   "cell_type": "code",
   "execution_count": 119,
   "id": "1ff5d529",
   "metadata": {},
   "outputs": [
    {
     "data": {
      "text/plain": [
       "NearestNeighbors(n_neighbors=12)"
      ]
     },
     "execution_count": 119,
     "metadata": {},
     "output_type": "execute_result"
    }
   ],
   "source": [
    "neigh = \n",
    "neigh.fit(x_train)"
   ]
  },
  {
   "cell_type": "code",
   "execution_count": null,
   "id": "b780a7c7",
   "metadata": {},
   "outputs": [],
   "source": [
    "## 4 articles, sum up over all featurss/ len()\n",
    "## numpy_arr = [...]"
   ]
  },
  {
   "cell_type": "code",
   "execution_count": 121,
   "id": "c04e58ef",
   "metadata": {},
   "outputs": [
    {
     "data": {
      "text/plain": [
       "(array([[0.        , 0.1990896 , 0.22100405, 0.24072063, 0.2425537 ,\n",
       "         0.24804528, 0.248834  , 0.25008156, 0.25129139, 0.26048417,\n",
       "         0.26257267, 0.26783031]]),\n",
       " array([[    0,  3126, 20782, 18722,  3480,  7166,   285,  6675, 15009,\n",
       "         10820, 18750, 10864]], dtype=int64))"
      ]
     },
     "execution_count": 121,
     "metadata": {},
     "output_type": "execute_result"
    }
   ],
   "source": [
    "neigh.kneighbors(numpy_arr.reshape(1, -1))"
   ]
  },
  {
   "cell_type": "code",
   "execution_count": null,
   "id": "5a1920ef",
   "metadata": {},
   "outputs": [],
   "source": []
  }
 ],
 "metadata": {
  "kernelspec": {
   "display_name": "Python 3",
   "language": "python",
   "name": "python3"
  },
  "language_info": {
   "codemirror_mode": {
    "name": "ipython",
    "version": 3
   },
   "file_extension": ".py",
   "mimetype": "text/x-python",
   "name": "python",
   "nbconvert_exporter": "python",
   "pygments_lexer": "ipython3",
   "version": "3.8.8"
  }
 },
 "nbformat": 4,
 "nbformat_minor": 5
}
