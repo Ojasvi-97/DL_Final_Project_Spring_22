{
 "cells": [
  {
   "cell_type": "code",
   "execution_count": 155,
   "id": "9f4785d3",
   "metadata": {},
   "outputs": [],
   "source": [
    "import os\n",
    "import pandas as pd\n",
    "from sklearn.neighbors import NearestNeighbors\n",
    "import numpy as np\n",
    "from sklearn.utils import shuffle"
   ]
  },
  {
   "cell_type": "code",
   "execution_count": 156,
   "id": "dd77b17b",
   "metadata": {},
   "outputs": [],
   "source": [
    "articles_df = pd.read_csv(\"C:/Users/ojubh\\/Desktop/SEMESTER 2/Deep Learning/Final_Project/data/articles.csv\")"
   ]
  },
  {
   "cell_type": "code",
   "execution_count": 157,
   "id": "639bddc7",
   "metadata": {},
   "outputs": [
    {
     "data": {
      "text/plain": [
       "Index(['article_id', 'product_code', 'prod_name', 'product_type_no',\n",
       "       'product_type_name', 'product_group_name', 'graphical_appearance_no',\n",
       "       'graphical_appearance_name', 'colour_group_code', 'colour_group_name',\n",
       "       'perceived_colour_value_id', 'perceived_colour_value_name',\n",
       "       'perceived_colour_master_id', 'perceived_colour_master_name',\n",
       "       'department_no', 'department_name', 'index_code', 'index_name',\n",
       "       'index_group_no', 'index_group_name', 'section_no', 'section_name',\n",
       "       'garment_group_no', 'garment_group_name', 'detail_desc'],\n",
       "      dtype='object')"
      ]
     },
     "execution_count": 157,
     "metadata": {},
     "output_type": "execute_result"
    }
   ],
   "source": [
    "articles_df.columns"
   ]
  },
  {
   "cell_type": "code",
   "execution_count": 158,
   "id": "672fadd4",
   "metadata": {},
   "outputs": [],
   "source": [
    "sample_sub = pd.read_csv(\"C:/Users/ojubh\\/Desktop/SEMESTER 2/Deep Learning/Final_Project/data/sample_submission.csv\")"
   ]
  },
  {
   "cell_type": "code",
   "execution_count": 159,
   "id": "28b62808",
   "metadata": {},
   "outputs": [
    {
     "data": {
      "text/plain": [
       "Index(['customer_id', 'prediction'], dtype='object')"
      ]
     },
     "execution_count": 159,
     "metadata": {},
     "output_type": "execute_result"
    }
   ],
   "source": [
    "sample_sub.columns"
   ]
  },
  {
   "cell_type": "code",
   "execution_count": 103,
   "id": "2e8f334e",
   "metadata": {},
   "outputs": [],
   "source": [
    "trans_train = pd.read_csv(\"C:/Users/ojubh\\/Desktop/SEMESTER 2/Deep Learning/Final_Project/data/transactions_train.csv\")"
   ]
  },
  {
   "cell_type": "code",
   "execution_count": 160,
   "id": "ba5990fa",
   "metadata": {},
   "outputs": [
    {
     "data": {
      "text/plain": [
       "Index(['t_dat', 'customer_id', 'article_id', 'price', 'sales_channel_id'], dtype='object')"
      ]
     },
     "execution_count": 160,
     "metadata": {},
     "output_type": "execute_result"
    }
   ],
   "source": [
    "trans_train.columns # history puirchases"
   ]
  },
  {
   "cell_type": "code",
   "execution_count": 152,
   "id": "335abc2c",
   "metadata": {
    "scrolled": true
   },
   "outputs": [],
   "source": [
    "image_embeddings = pd.read_csv(\"C:/Users/ojubh\\/Desktop/SEMESTER 2/Deep Learning/Final_Project/data/visual_embeddings_final.csv\")"
   ]
  },
  {
   "cell_type": "code",
   "execution_count": 154,
   "id": "57e41ae7",
   "metadata": {},
   "outputs": [
    {
     "data": {
      "text/html": [
       "<div>\n",
       "<style scoped>\n",
       "    .dataframe tbody tr th:only-of-type {\n",
       "        vertical-align: middle;\n",
       "    }\n",
       "\n",
       "    .dataframe tbody tr th {\n",
       "        vertical-align: top;\n",
       "    }\n",
       "\n",
       "    .dataframe thead th {\n",
       "        text-align: right;\n",
       "    }\n",
       "</style>\n",
       "<table border=\"1\" class=\"dataframe\">\n",
       "  <thead>\n",
       "    <tr style=\"text-align: right;\">\n",
       "      <th></th>\n",
       "      <th>Unnamed: 0</th>\n",
       "      <th>feature_0</th>\n",
       "      <th>feature_1</th>\n",
       "      <th>feature_2</th>\n",
       "      <th>feature_3</th>\n",
       "      <th>feature_4</th>\n",
       "      <th>feature_5</th>\n",
       "      <th>feature_6</th>\n",
       "      <th>feature_7</th>\n",
       "      <th>feature_8</th>\n",
       "      <th>...</th>\n",
       "      <th>feature_247</th>\n",
       "      <th>feature_248</th>\n",
       "      <th>feature_249</th>\n",
       "      <th>feature_250</th>\n",
       "      <th>feature_251</th>\n",
       "      <th>feature_252</th>\n",
       "      <th>feature_253</th>\n",
       "      <th>feature_254</th>\n",
       "      <th>feature_255</th>\n",
       "      <th>article_id</th>\n",
       "    </tr>\n",
       "  </thead>\n",
       "  <tbody>\n",
       "    <tr>\n",
       "      <th>104690</th>\n",
       "      <td>104690</td>\n",
       "      <td>-0.020810</td>\n",
       "      <td>-0.042550</td>\n",
       "      <td>-0.011611</td>\n",
       "      <td>0.012574</td>\n",
       "      <td>-0.045261</td>\n",
       "      <td>-0.044235</td>\n",
       "      <td>-0.027885</td>\n",
       "      <td>0.071938</td>\n",
       "      <td>0.037791</td>\n",
       "      <td>...</td>\n",
       "      <td>-0.025197</td>\n",
       "      <td>0.019250</td>\n",
       "      <td>0.007954</td>\n",
       "      <td>-0.057175</td>\n",
       "      <td>0.043820</td>\n",
       "      <td>-0.066785</td>\n",
       "      <td>0.122523</td>\n",
       "      <td>0.029554</td>\n",
       "      <td>-0.008207</td>\n",
       "      <td>711529001</td>\n",
       "    </tr>\n",
       "    <tr>\n",
       "      <th>104691</th>\n",
       "      <td>104691</td>\n",
       "      <td>0.012864</td>\n",
       "      <td>-0.076451</td>\n",
       "      <td>-0.002377</td>\n",
       "      <td>-0.033852</td>\n",
       "      <td>-0.023760</td>\n",
       "      <td>-0.018289</td>\n",
       "      <td>-0.023961</td>\n",
       "      <td>0.036726</td>\n",
       "      <td>0.014320</td>\n",
       "      <td>...</td>\n",
       "      <td>-0.037628</td>\n",
       "      <td>0.003001</td>\n",
       "      <td>0.032510</td>\n",
       "      <td>-0.023791</td>\n",
       "      <td>0.061463</td>\n",
       "      <td>-0.088391</td>\n",
       "      <td>0.081604</td>\n",
       "      <td>0.007389</td>\n",
       "      <td>-0.013648</td>\n",
       "      <td>685814005</td>\n",
       "    </tr>\n",
       "    <tr>\n",
       "      <th>104692</th>\n",
       "      <td>104692</td>\n",
       "      <td>0.010154</td>\n",
       "      <td>-0.068406</td>\n",
       "      <td>0.014912</td>\n",
       "      <td>-0.050652</td>\n",
       "      <td>-0.002357</td>\n",
       "      <td>-0.015711</td>\n",
       "      <td>-0.030078</td>\n",
       "      <td>0.039294</td>\n",
       "      <td>0.021177</td>\n",
       "      <td>...</td>\n",
       "      <td>0.011914</td>\n",
       "      <td>-0.010033</td>\n",
       "      <td>0.042382</td>\n",
       "      <td>-0.019953</td>\n",
       "      <td>0.014156</td>\n",
       "      <td>-0.079801</td>\n",
       "      <td>0.064390</td>\n",
       "      <td>0.010470</td>\n",
       "      <td>-0.002402</td>\n",
       "      <td>866529002</td>\n",
       "    </tr>\n",
       "    <tr>\n",
       "      <th>104693</th>\n",
       "      <td>104693</td>\n",
       "      <td>-0.002938</td>\n",
       "      <td>-0.020012</td>\n",
       "      <td>0.062998</td>\n",
       "      <td>0.040060</td>\n",
       "      <td>-0.015906</td>\n",
       "      <td>-0.010809</td>\n",
       "      <td>0.014671</td>\n",
       "      <td>0.056751</td>\n",
       "      <td>0.032178</td>\n",
       "      <td>...</td>\n",
       "      <td>-0.027348</td>\n",
       "      <td>-0.009032</td>\n",
       "      <td>0.065297</td>\n",
       "      <td>-0.040326</td>\n",
       "      <td>0.039135</td>\n",
       "      <td>-0.059344</td>\n",
       "      <td>0.020766</td>\n",
       "      <td>-0.060180</td>\n",
       "      <td>-0.011233</td>\n",
       "      <td>734461001</td>\n",
       "    </tr>\n",
       "    <tr>\n",
       "      <th>104694</th>\n",
       "      <td>104694</td>\n",
       "      <td>-0.065672</td>\n",
       "      <td>-0.048505</td>\n",
       "      <td>0.016058</td>\n",
       "      <td>0.033531</td>\n",
       "      <td>0.001518</td>\n",
       "      <td>0.028965</td>\n",
       "      <td>0.008971</td>\n",
       "      <td>0.092599</td>\n",
       "      <td>0.007461</td>\n",
       "      <td>...</td>\n",
       "      <td>-0.002169</td>\n",
       "      <td>0.011585</td>\n",
       "      <td>0.052929</td>\n",
       "      <td>-0.061341</td>\n",
       "      <td>0.078103</td>\n",
       "      <td>-0.049235</td>\n",
       "      <td>0.062557</td>\n",
       "      <td>-0.050831</td>\n",
       "      <td>0.001022</td>\n",
       "      <td>620037004</td>\n",
       "    </tr>\n",
       "  </tbody>\n",
       "</table>\n",
       "<p>5 rows × 258 columns</p>\n",
       "</div>"
      ],
      "text/plain": [
       "        Unnamed: 0  feature_0  feature_1  feature_2  feature_3  feature_4  \\\n",
       "104690      104690  -0.020810  -0.042550  -0.011611   0.012574  -0.045261   \n",
       "104691      104691   0.012864  -0.076451  -0.002377  -0.033852  -0.023760   \n",
       "104692      104692   0.010154  -0.068406   0.014912  -0.050652  -0.002357   \n",
       "104693      104693  -0.002938  -0.020012   0.062998   0.040060  -0.015906   \n",
       "104694      104694  -0.065672  -0.048505   0.016058   0.033531   0.001518   \n",
       "\n",
       "        feature_5  feature_6  feature_7  feature_8  ...  feature_247  \\\n",
       "104690  -0.044235  -0.027885   0.071938   0.037791  ...    -0.025197   \n",
       "104691  -0.018289  -0.023961   0.036726   0.014320  ...    -0.037628   \n",
       "104692  -0.015711  -0.030078   0.039294   0.021177  ...     0.011914   \n",
       "104693  -0.010809   0.014671   0.056751   0.032178  ...    -0.027348   \n",
       "104694   0.028965   0.008971   0.092599   0.007461  ...    -0.002169   \n",
       "\n",
       "        feature_248  feature_249  feature_250  feature_251  feature_252  \\\n",
       "104690     0.019250     0.007954    -0.057175     0.043820    -0.066785   \n",
       "104691     0.003001     0.032510    -0.023791     0.061463    -0.088391   \n",
       "104692    -0.010033     0.042382    -0.019953     0.014156    -0.079801   \n",
       "104693    -0.009032     0.065297    -0.040326     0.039135    -0.059344   \n",
       "104694     0.011585     0.052929    -0.061341     0.078103    -0.049235   \n",
       "\n",
       "        feature_253  feature_254  feature_255  article_id  \n",
       "104690     0.122523     0.029554    -0.008207   711529001  \n",
       "104691     0.081604     0.007389    -0.013648   685814005  \n",
       "104692     0.064390     0.010470    -0.002402   866529002  \n",
       "104693     0.020766    -0.060180    -0.011233   734461001  \n",
       "104694     0.062557    -0.050831     0.001022   620037004  \n",
       "\n",
       "[5 rows x 258 columns]"
      ]
     },
     "execution_count": 154,
     "metadata": {},
     "output_type": "execute_result"
    }
   ],
   "source": [
    "image_embeddings.tail()"
   ]
  },
  {
   "cell_type": "code",
   "execution_count": 105,
   "id": "2c996c07",
   "metadata": {},
   "outputs": [],
   "source": [
    "merged_customer_data = sample_sub.merge(trans_train, on=\"customer_id\", how=\"inner\")"
   ]
  },
  {
   "cell_type": "code",
   "execution_count": 106,
   "id": "dd60dc63",
   "metadata": {},
   "outputs": [],
   "source": [
    "merged_customer_data.drop(['t_dat', 'price', 'sales_channel_id'], inplace=True, axis=1)"
   ]
  },
  {
   "cell_type": "code",
   "execution_count": 107,
   "id": "2ccb2fec",
   "metadata": {},
   "outputs": [],
   "source": [
    "customer_group = merged_customer_data.groupby(\"customer_id\")"
   ]
  },
  {
   "cell_type": "code",
   "execution_count": 161,
   "id": "efa31a38",
   "metadata": {},
   "outputs": [
    {
     "data": {
      "text/plain": [
       "1362281"
      ]
     },
     "execution_count": 161,
     "metadata": {},
     "output_type": "execute_result"
    }
   ],
   "source": [
    "len(customer_group)"
   ]
  },
  {
   "cell_type": "code",
   "execution_count": 113,
   "id": "998a9d11",
   "metadata": {},
   "outputs": [],
   "source": [
    "image_embeddings.drop(\"article_id\", inplace=True, axis=1)\n",
    "image_embeddings.drop(\"Unnamed: 0\", axis=1, inplace=True)\n"
   ]
  },
  {
   "cell_type": "code",
   "execution_count": 118,
   "id": "511aa5e0",
   "metadata": {},
   "outputs": [],
   "source": [
    "x_train = image_embeddings.to_numpy()"
   ]
  },
  {
   "cell_type": "code",
   "execution_count": 119,
   "id": "454fe0a6",
   "metadata": {},
   "outputs": [
    {
     "data": {
      "text/plain": [
       "NearestNeighbors(n_neighbors=12)"
      ]
     },
     "execution_count": 119,
     "metadata": {},
     "output_type": "execute_result"
    }
   ],
   "source": [
    "neigh = NearestNeighbors(n_neighbors=12)\n",
    "neigh.fit(x_train)"
   ]
  },
  {
   "cell_type": "code",
   "execution_count": null,
   "id": "031396ee",
   "metadata": {},
   "outputs": [],
   "source": [
    "## 4 articles, sum up over all featurss/ len()\n",
    "## numpy_arr = [...]"
   ]
  },
  {
   "cell_type": "code",
   "execution_count": 121,
   "id": "0eec6269",
   "metadata": {},
   "outputs": [
    {
     "data": {
      "text/plain": [
       "(array([[0.        , 0.1990896 , 0.22100405, 0.24072063, 0.2425537 ,\n",
       "         0.24804528, 0.248834  , 0.25008156, 0.25129139, 0.26048417,\n",
       "         0.26257267, 0.26783031]]),\n",
       " array([[    0,  3126, 20782, 18722,  3480,  7166,   285,  6675, 15009,\n",
       "         10820, 18750, 10864]], dtype=int64))"
      ]
     },
     "execution_count": 121,
     "metadata": {},
     "output_type": "execute_result"
    }
   ],
   "source": [
    "neigh.kneighbors(numpy_arr.reshape(1, -1))"
   ]
  },
  {
   "cell_type": "code",
   "execution_count": null,
   "id": "973753de",
   "metadata": {},
   "outputs": [],
   "source": []
  }
 ],
 "metadata": {
  "kernelspec": {
   "display_name": "Python 3",
   "language": "python",
   "name": "python3"
  },
  "language_info": {
   "codemirror_mode": {
    "name": "ipython",
    "version": 3
   },
   "file_extension": ".py",
   "mimetype": "text/x-python",
   "name": "python",
   "nbconvert_exporter": "python",
   "pygments_lexer": "ipython3",
   "version": "3.8.8"
  }
 },
 "nbformat": 4,
 "nbformat_minor": 5
}
