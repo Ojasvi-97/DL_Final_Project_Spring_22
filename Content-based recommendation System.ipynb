{
 "cells": [
  {
   "cell_type": "code",
   "execution_count": 1,
   "id": "8807199a",
   "metadata": {},
   "outputs": [],
   "source": [
    "import os\n",
    "import pandas as pd\n",
    "from sklearn.neighbors import NearestNeighbors\n",
    "import numpy as np\n",
    "from sklearn.utils import shuffle"
   ]
  },
  {
   "cell_type": "code",
   "execution_count": 21,
   "id": "b6dd2080",
   "metadata": {},
   "outputs": [],
   "source": [
    "class Recommend:\n",
    "    def __init__(self, \n",
    "                 sample_sub_df,\n",
    "                 transaction_df,\n",
    "                 features_df):\n",
    "        self.sample_sub_df = sample_sub_df\n",
    "        self.transaction_df = transaction_df\n",
    "        self.features_df = features_df\n",
    "        self.model = NearestNeighbors(n_neighbors=12)\n",
    "        \n",
    "    \n",
    "    \n",
    "    def predict():\n",
    "        pass\n",
    "    \n",
    "    def find_centroid(self, article_list):\n",
    "        all_features = []\n",
    "\n",
    "        for article in article_list:\n",
    "\n",
    "            block = self.feature_df[self.feature_df[\"article_id\"] == article].iloc[:, 1:-1]\n",
    "            if block.shape[0] > 0:\n",
    "                all_features.append(block.to_numpy())\n",
    "                \n",
    "        all_features = np.concatenate(np.array(all_features))\n",
    "            \n",
    "    \n",
    "    def write_results():\n",
    "        pass\n",
    "    def generate_recommendations(self):\n",
    "        # make predictions for customers in sample_sub_df\n",
    "        \n",
    "        customer_history = self.sample_sub_df.merge(self.transaction_df)\n",
    "        customer_history.drop(['t_dat', 'price', 'sales_channel_id'], axis=1, inplace=True)\n",
    "        customer_group = customer_history.groupby(\"customer_id\")\n",
    "        \n",
    "        for name, group in customer_group:\n",
    "            if len(group) > 0:\n",
    "                print(name)\n",
    "#                 self.find_centroid(group[\"article_id\"].tolist())\n",
    "                print(group[\"article_id\"].tolist())\n",
    "                break\n",
    "                # send 'group' to find_centroid, returns an embedding\n",
    "                # send embedding to predict, returns predictions\n",
    "                # send predictions to write_results\n",
    "            \n",
    "            \n",
    "class evaluate:\n",
    "    def __init__(results_path=\"\"):\n",
    "        self.results_df = pd.read_csv(results_path)\n",
    "        \n",
    "    def calc_mean_avg_precision():\n",
    "        pass\n",
    "            "
   ]
  },
  {
   "cell_type": "code",
   "execution_count": 22,
   "id": "eb9fa890",
   "metadata": {},
   "outputs": [],
   "source": [
    "sample_sub_path = \"C:/Users/ojubh\\/Desktop/SEMESTER 2/Deep Learning/Final_Project/data/sample_submission.csv\"\n",
    "transaction_path = \"C:/Users/ojubh\\/Desktop/SEMESTER 2/Deep Learning/Final_Project/data/transactions_train.csv\"\n",
    "features_path = \"C:/Users/ojubh\\/Desktop/SEMESTER 2/Deep Learning/Final_Project/data/visual_embeddings_final.csv\"\n",
    "\n",
    "sample_sub_df = pd.read_csv(sample_sub_path)\n",
    "transaction_df = pd.read_csv(transaction_path)\n",
    "feature_df = pd.read_csv(features_path)\n",
    "\n",
    "recommend = Recommend(sample_sub_df, transaction_df, feature_df)\n"
   ]
  },
  {
   "cell_type": "code",
   "execution_count": 23,
   "id": "a1f5e247",
   "metadata": {},
   "outputs": [
    {
     "name": "stdout",
     "output_type": "stream",
     "text": [
      "00000dbacae5abe5e23885899a1fa44253a17956c6d1c3d25f88aa139fdfc657\n",
      "[625548001, 176209023, 627759010, 697138006, 568601006, 568601006, 607642008, 745232001, 656719005, 797065001, 797065001, 785186005, 694736004, 785710001, 812683013, 841260003, 887593002, 890498002, 795440001, 859416011, 568601043]\n"
     ]
    }
   ],
   "source": [
    "recommend.generate_recommendations()"
   ]
  },
  {
   "cell_type": "code",
   "execution_count": 39,
   "id": "73329bc5",
   "metadata": {},
   "outputs": [
    {
     "name": "stdout",
     "output_type": "stream",
     "text": [
      "      feature_0  feature_1  feature_2  feature_3  feature_4  feature_5  \\\n",
      "6318   0.005906  -0.038544   0.112788  -0.001114  -0.047949   0.025035   \n",
      "\n",
      "      feature_6  feature_7  feature_8  feature_9  ...  feature_246  \\\n",
      "6318   0.037177   0.068184  -0.008321   0.026323  ...     0.056265   \n",
      "\n",
      "      feature_247  feature_248  feature_249  feature_250  feature_251  \\\n",
      "6318    -0.005186    -0.023714     0.015461    -0.056606    -0.026489   \n",
      "\n",
      "      feature_252  feature_253  feature_254  feature_255  \n",
      "6318    -0.094524    -0.011572    -0.099016    -0.022905  \n",
      "\n",
      "[1 rows x 256 columns]\n",
      "    feature_0  feature_1  feature_2  feature_3  feature_4  feature_5  \\\n",
      "29   0.016059   -0.06702    0.03415  -0.012584  -0.024609  -0.047817   \n",
      "\n",
      "    feature_6  feature_7  feature_8  feature_9  ...  feature_246  feature_247  \\\n",
      "29   0.003319   0.108626   0.031268   0.006889  ...     0.073493     0.007281   \n",
      "\n",
      "    feature_248  feature_249  feature_250  feature_251  feature_252  \\\n",
      "29     0.000825     0.018547    -0.048673     0.020937     -0.06247   \n",
      "\n",
      "    feature_253  feature_254  feature_255  \n",
      "29      0.07383    -0.019215     -0.01137  \n",
      "\n",
      "[1 rows x 256 columns]\n"
     ]
    }
   ],
   "source": [
    "articles = [625548001, 176209023, 627759010, 697138006, 568601006, 568601006, 607642008, 745232001, 656719005, 797065001, 797065001, 785186005, 694736004, 785710001, 812683013, 841260003, 887593002, 890498002, 795440001, 859416011, 568601043]\n",
    "\n",
    "all_features = []\n",
    "\n",
    "for article in articles[:2]:\n",
    "\n",
    "    block = feature_df[feature_df[\"article_id\"] == article].iloc[:, 1:-1]\n",
    "    print(block)\n",
    "\n",
    "#     if block.shape[0] > 0:\n",
    "#         all_features.append(block.to_numpy())\n",
    "        \n",
    "        \n"
   ]
  },
  {
   "cell_type": "code",
   "execution_count": 36,
   "id": "606b26cf",
   "metadata": {},
   "outputs": [],
   "source": [
    "trial = all_features"
   ]
  },
  {
   "cell_type": "code",
   "execution_count": 48,
   "id": "bbab74c4",
   "metadata": {},
   "outputs": [],
   "source": [
    "trial = trial[:2]"
   ]
  },
  {
   "cell_type": "code",
   "execution_count": 53,
   "id": "1c86efcd",
   "metadata": {},
   "outputs": [],
   "source": [
    "final = np.concatenate(np.array(trial))"
   ]
  },
  {
   "cell_type": "code",
   "execution_count": 57,
   "id": "c007d66f",
   "metadata": {},
   "outputs": [
    {
     "data": {
      "text/plain": [
       "(2, 256)"
      ]
     },
     "execution_count": 57,
     "metadata": {},
     "output_type": "execute_result"
    }
   ],
   "source": [
    "final.shape"
   ]
  },
  {
   "cell_type": "code",
   "execution_count": 55,
   "id": "518088f2",
   "metadata": {},
   "outputs": [
    {
     "data": {
      "text/plain": [
       "array([ 2.19644160e-02, -1.05564192e-01,  1.46938095e-01, -1.36978380e-02,\n",
       "       -7.25577930e-02, -2.27824720e-02,  4.04966678e-02,  1.76809480e-01,\n",
       "        2.29473290e-02,  3.32125890e-02, -1.27717484e-01, -3.39426190e-02,\n",
       "        1.64950100e-02, -1.88613626e-01,  4.13838650e-02,  5.15136810e-02,\n",
       "        1.48289224e-01, -2.88548338e-02,  6.00201010e-02,  8.44270440e-02,\n",
       "       -1.52767574e-01, -5.59772000e-03,  1.47616044e-01, -4.14386040e-02,\n",
       "       -2.50610465e-02,  3.42424330e-02, -8.60419870e-02, -8.42979160e-02,\n",
       "        6.89175635e-02,  5.99847020e-02, -2.48760020e-02,  2.33822250e-02,\n",
       "        1.39728908e-01, -1.13984457e-01,  2.86699670e-02, -2.79535460e-02,\n",
       "        6.67729450e-02,  5.23951860e-02, -6.78336700e-02, -4.77489000e-04,\n",
       "        1.48412565e-01,  5.25685795e-02,  1.72529840e-01,  8.69002217e-02,\n",
       "       -1.82972020e-02, -9.43569390e-02,  2.41752310e-02, -6.60115330e-02,\n",
       "       -7.22560440e-02,  6.15381720e-02, -1.39908923e-01,  1.01223739e-01,\n",
       "       -9.60136300e-02, -9.32466210e-02, -1.53901030e-01,  1.15808386e-01,\n",
       "        8.10834100e-02, -1.60191090e-01,  1.05461046e-01,  4.27603435e-02,\n",
       "        3.90507580e-02,  6.77893160e-02,  5.51335360e-02, -1.66002440e-02,\n",
       "        4.12340170e-02,  8.38061530e-02, -1.29519965e-02, -4.06961020e-02,\n",
       "        1.45052925e-01, -9.09165440e-02, -1.42855050e-01,  3.92922830e-02,\n",
       "       -7.95624780e-02,  2.22282625e-02,  8.14868600e-03, -6.97565587e-02,\n",
       "        2.71019404e-02,  1.52261544e-01,  3.42292960e-02, -3.99500130e-02,\n",
       "        7.04917350e-02, -1.82924380e-01,  7.56541580e-02,  2.67189070e-02,\n",
       "       -7.00994680e-02, -1.41572977e-01,  1.88126050e-02,  1.10133718e-01,\n",
       "       -1.67553830e-01, -3.18291800e-02,  3.14405900e-03,  1.48713404e-03,\n",
       "       -1.42611049e-01,  1.44556728e-02,  6.08998940e-02,  1.24002237e-01,\n",
       "        3.66207375e-02,  2.95546280e-02, -6.77904600e-02, -1.04131337e-01,\n",
       "        2.04457300e-03,  9.21189040e-02, -1.47297335e-01,  7.14847015e-02,\n",
       "       -4.89216840e-02, -9.97038750e-02,  9.74866420e-02,  2.25741600e-03,\n",
       "        3.44019440e-02,  1.27271847e-01,  1.20929870e-02, -4.09851360e-02,\n",
       "       -1.42547304e-01,  8.23913220e-02,  3.69011140e-02,  9.79549300e-03,\n",
       "        1.53105394e-01, -4.71538400e-03,  2.12970260e-02,  2.99873070e-02,\n",
       "       -1.29371458e-01,  1.20888995e-01,  6.19433200e-03, -8.89421510e-02,\n",
       "       -1.60713120e-02,  9.23810980e-02,  5.74178600e-02, -1.45084215e-01,\n",
       "       -1.58868200e-02,  4.27857100e-03,  4.53171840e-02,  1.97536830e-02,\n",
       "        1.66872500e-01,  1.05139232e-01, -3.81037740e-02, -1.33628075e-01,\n",
       "       -2.58995430e-02,  1.32823085e-01,  7.88306680e-02,  4.68720300e-03,\n",
       "        4.43869100e-03, -1.19175048e-01, -3.46675027e-02,  4.68026390e-02,\n",
       "        1.82486850e-01, -2.11420560e-02, -9.08030438e-02,  2.86530400e-03,\n",
       "        7.41158510e-02,  3.32078790e-02, -1.18776377e-02,  8.19034390e-02,\n",
       "        1.77000139e-02,  1.88970400e-02, -4.26750554e-02, -9.70480200e-03,\n",
       "       -6.54505240e-03, -5.70908530e-02, -3.88791600e-02,  9.03968540e-02,\n",
       "       -9.68615490e-02, -6.43318436e-02, -6.21682300e-03, -6.75109840e-03,\n",
       "       -1.72064541e-01, -6.08071210e-02, -6.95897680e-02, -5.81489170e-02,\n",
       "       -3.19517312e-02, -5.15681704e-02, -1.32255490e-02, -7.35920240e-02,\n",
       "        1.19039849e-01,  7.25874100e-03, -3.37229970e-02,  9.29360900e-03,\n",
       "        4.00230330e-02, -1.26373504e-01,  3.20631600e-02, -2.19125340e-02,\n",
       "       -8.83537540e-03,  2.21336800e-02, -1.40200182e-01, -5.33222040e-02,\n",
       "       -4.57953740e-02,  5.84121794e-02, -7.99993000e-02, -7.84284323e-02,\n",
       "        1.71905330e-01, -1.55674647e-02, -4.63405620e-02,  1.40608898e-02,\n",
       "        5.82914780e-02,  7.22532640e-02, -4.08315870e-02, -7.38140220e-02,\n",
       "        1.06793290e-02, -1.01274510e-02,  2.25551260e-02,  8.37715080e-02,\n",
       "       -1.02055491e-02, -1.44707560e-01,  6.45186243e-02,  5.97324925e-02,\n",
       "        1.37748183e-02,  2.76278410e-02, -2.45721210e-01, -8.08599400e-02,\n",
       "        5.33635400e-02, -2.88675880e-02,  4.71531000e-03, -1.71490900e-02,\n",
       "        1.29110790e-01,  7.77554530e-02, -5.48975960e-02, -1.04580944e-01,\n",
       "       -1.47561326e-01,  7.24592970e-02,  6.02421220e-02, -7.14598260e-02,\n",
       "       -2.19786990e-02,  1.31660960e-02,  3.23970430e-02,  1.07894414e-01,\n",
       "        7.85275247e-02,  9.10223850e-02,  2.15235532e-02, -9.85173230e-02,\n",
       "       -4.46612890e-02, -1.35120000e-05,  1.25947500e-02, -1.79747410e-02,\n",
       "       -1.52039210e-02,  1.08581220e-02, -4.40340815e-02,  2.96013051e-02,\n",
       "       -8.12057921e-02,  6.00054600e-02, -7.29639080e-02, -5.11868200e-02,\n",
       "        8.22279230e-02, -1.64506370e-01,  3.65494000e-02,  8.60369800e-02,\n",
       "        1.29809575e-01,  5.83766060e-02,  1.29757147e-01,  2.09521430e-03,\n",
       "       -2.28885701e-02,  3.40076905e-02, -1.05278323e-01, -5.55244700e-03,\n",
       "       -1.56994504e-01,  6.22575005e-02, -1.18231108e-01, -3.42747630e-02])"
      ]
     },
     "execution_count": 55,
     "metadata": {},
     "output_type": "execute_result"
    }
   ],
   "source": [
    "np.sum(final, axis=0)"
   ]
  },
  {
   "cell_type": "code",
   "execution_count": 105,
   "id": "94770d9d",
   "metadata": {},
   "outputs": [],
   "source": [
    "merged_customer_data = sample_sub.merge(trans_train, on=\"customer_id\", how=\"inner\")"
   ]
  },
  {
   "cell_type": "code",
   "execution_count": 106,
   "id": "1bd6fe72",
   "metadata": {},
   "outputs": [],
   "source": [
    "merged_customer_data.drop(['t_dat', 'price', 'sales_channel_id'], inplace=True, axis=1)"
   ]
  },
  {
   "cell_type": "code",
   "execution_count": 107,
   "id": "9872f24c",
   "metadata": {},
   "outputs": [],
   "source": [
    "customer_group = merged_customer_data.groupby(\"customer_id\")"
   ]
  },
  {
   "cell_type": "code",
   "execution_count": 161,
   "id": "80df30c8",
   "metadata": {},
   "outputs": [
    {
     "data": {
      "text/plain": [
       "1362281"
      ]
     },
     "execution_count": 161,
     "metadata": {},
     "output_type": "execute_result"
    }
   ],
   "source": [
    "len(customer_group)"
   ]
  },
  {
   "cell_type": "code",
   "execution_count": 113,
   "id": "ae34e696",
   "metadata": {},
   "outputs": [],
   "source": [
    "image_embeddings.drop(\"article_id\", inplace=True, axis=1)\n",
    "image_embeddings.drop(\"Unnamed: 0\", axis=1, inplace=True)\n"
   ]
  },
  {
   "cell_type": "code",
   "execution_count": 118,
   "id": "ac87d6c8",
   "metadata": {},
   "outputs": [],
   "source": [
    "x_train = image_embeddings.to_numpy()"
   ]
  },
  {
   "cell_type": "code",
   "execution_count": 119,
   "id": "bbd0cb06",
   "metadata": {},
   "outputs": [
    {
     "data": {
      "text/plain": [
       "NearestNeighbors(n_neighbors=12)"
      ]
     },
     "execution_count": 119,
     "metadata": {},
     "output_type": "execute_result"
    }
   ],
   "source": [
    "neigh = \n",
    "neigh.fit(x_train)"
   ]
  },
  {
   "cell_type": "code",
   "execution_count": null,
   "id": "fb441b48",
   "metadata": {},
   "outputs": [],
   "source": [
    "## 4 articles, sum up over all featurss/ len()\n",
    "## numpy_arr = [...]"
   ]
  },
  {
   "cell_type": "code",
   "execution_count": 121,
   "id": "f39235bb",
   "metadata": {},
   "outputs": [
    {
     "data": {
      "text/plain": [
       "(array([[0.        , 0.1990896 , 0.22100405, 0.24072063, 0.2425537 ,\n",
       "         0.24804528, 0.248834  , 0.25008156, 0.25129139, 0.26048417,\n",
       "         0.26257267, 0.26783031]]),\n",
       " array([[    0,  3126, 20782, 18722,  3480,  7166,   285,  6675, 15009,\n",
       "         10820, 18750, 10864]], dtype=int64))"
      ]
     },
     "execution_count": 121,
     "metadata": {},
     "output_type": "execute_result"
    }
   ],
   "source": [
    "neigh.kneighbors(numpy_arr.reshape(1, -1))"
   ]
  },
  {
   "cell_type": "code",
   "execution_count": null,
   "id": "7df40e72",
   "metadata": {},
   "outputs": [],
   "source": []
  }
 ],
 "metadata": {
  "kernelspec": {
   "display_name": "Python 3",
   "language": "python",
   "name": "python3"
  },
  "language_info": {
   "codemirror_mode": {
    "name": "ipython",
    "version": 3
   },
   "file_extension": ".py",
   "mimetype": "text/x-python",
   "name": "python",
   "nbconvert_exporter": "python",
   "pygments_lexer": "ipython3",
   "version": "3.8.8"
  }
 },
 "nbformat": 4,
 "nbformat_minor": 5
}
