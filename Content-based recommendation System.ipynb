{
 "cells": [
  {
   "cell_type": "code",
   "execution_count": 155,
   "id": "33d68345",
   "metadata": {},
   "outputs": [],
   "source": [
    "import os\n",
    "import pandas as pd\n",
    "from sklearn.neighbors import NearestNeighbors\n",
    "import numpy as np\n",
    "from sklearn.utils import shuffle"
   ]
  },
  {
   "cell_type": "code",
   "execution_count": null,
   "id": "508a0926",
   "metadata": {},
   "outputs": [],
   "source": [
    "class Recommend:\n",
    "    def __init__(articles = \"\", sample_submission = \"\", transaction = \"\", features=\"\"):\n",
    "        articles_df = pd.read_csv(articles)\n",
    "        sample_sub_df = pd.read_csv(sample_submission)\n",
    "        transaction_df = pd.read_csv(transaction)\n",
    "        features_df = pd.read_csv(features)\n",
    "        self.model = NearestNeighbors(n_neighbors=12)\n",
    "        \n",
    "    \n",
    "    \n",
    "    def predict():\n",
    "        pass\n",
    "    \n",
    "    def find_centroid():\n",
    "        pass\n",
    "    \n",
    "    def write_results():\n",
    "        pass\n",
    "    def generate_recommendations(self):\n",
    "        # make predictions for customers in sample_sub_df\n",
    "        \n",
    "        customer_history = sample_sub_df.merge(transaction_df)\n",
    "        customer_history.drop(['t_dat', 'price', 'sales_channel_id'], axis=1, inplace=True)\n",
    "        customer_group = customer_history.groupby(\"customer_id\")\n",
    "        \n",
    "        for name, group in customer_group:\n",
    "            if len(group) > 0:\n",
    "                pass\n",
    "                # send 'group' to find_centroid, returns an embedding\n",
    "                # send embedding to predict, returns predictions\n",
    "                # send predictions to write_results\n",
    "            \n",
    "            \n",
    "class evaluate:\n",
    "    def __init__(results_path=\"\"):\n",
    "        self.results_df = pd.read_csv(results_path)\n",
    "        \n",
    "    def calc_mean_avg_precision():\n",
    "        pass\n",
    "            "
   ]
  },
  {
   "cell_type": "code",
   "execution_count": 156,
   "id": "76c91b88",
   "metadata": {},
   "outputs": [],
   "source": [
    "articles_df = pd.read_csv(\"C:/Users/ojubh\\/Desktop/SEMESTER 2/Deep Learning/Final_Project/data/articles.csv\")"
   ]
  },
  {
   "cell_type": "code",
   "execution_count": 157,
   "id": "146e1334",
   "metadata": {},
   "outputs": [
    {
     "data": {
      "text/plain": [
       "Index(['article_id', 'product_code', 'prod_name', 'product_type_no',\n",
       "       'product_type_name', 'product_group_name', 'graphical_appearance_no',\n",
       "       'graphical_appearance_name', 'colour_group_code', 'colour_group_name',\n",
       "       'perceived_colour_value_id', 'perceived_colour_value_name',\n",
       "       'perceived_colour_master_id', 'perceived_colour_master_name',\n",
       "       'department_no', 'department_name', 'index_code', 'index_name',\n",
       "       'index_group_no', 'index_group_name', 'section_no', 'section_name',\n",
       "       'garment_group_no', 'garment_group_name', 'detail_desc'],\n",
       "      dtype='object')"
      ]
     },
     "execution_count": 157,
     "metadata": {},
     "output_type": "execute_result"
    }
   ],
   "source": [
    "articles_df.columns"
   ]
  },
  {
   "cell_type": "code",
   "execution_count": 158,
   "id": "92f4d956",
   "metadata": {},
   "outputs": [],
   "source": [
    "sample_sub = pd.read_csv(\"C:/Users/ojubh\\/Desktop/SEMESTER 2/Deep Learning/Final_Project/data/sample_submission.csv\")"
   ]
  },
  {
   "cell_type": "code",
   "execution_count": 164,
   "id": "c68c3886",
   "metadata": {},
   "outputs": [
    {
     "data": {
      "text/plain": [
       "'00000dbacae5abe5e23885899a1fa44253a17956c6d1c3d25f88aa139fdfc657'"
      ]
     },
     "execution_count": 164,
     "metadata": {},
     "output_type": "execute_result"
    }
   ],
   "source": [
    "sample_sub.iloc[0][\"customer_id\"]"
   ]
  },
  {
   "cell_type": "code",
   "execution_count": 159,
   "id": "5adcea25",
   "metadata": {},
   "outputs": [
    {
     "data": {
      "text/plain": [
       "Index(['customer_id', 'prediction'], dtype='object')"
      ]
     },
     "execution_count": 159,
     "metadata": {},
     "output_type": "execute_result"
    }
   ],
   "source": [
    "sample_sub.columns"
   ]
  },
  {
   "cell_type": "code",
   "execution_count": 103,
   "id": "711d5fc2",
   "metadata": {},
   "outputs": [],
   "source": [
    "trans_train = pd.read_csv(\"C:/Users/ojubh\\/Desktop/SEMESTER 2/Deep Learning/Final_Project/data/transactions_train.csv\")"
   ]
  },
  {
   "cell_type": "code",
   "execution_count": 160,
   "id": "2bf35c1d",
   "metadata": {},
   "outputs": [
    {
     "data": {
      "text/plain": [
       "Index(['t_dat', 'customer_id', 'article_id', 'price', 'sales_channel_id'], dtype='object')"
      ]
     },
     "execution_count": 160,
     "metadata": {},
     "output_type": "execute_result"
    }
   ],
   "source": [
    "trans_train.columns # history puirchases"
   ]
  },
  {
   "cell_type": "code",
   "execution_count": 165,
   "id": "ac63158e",
   "metadata": {},
   "outputs": [
    {
     "data": {
      "text/html": [
       "<div>\n",
       "<style scoped>\n",
       "    .dataframe tbody tr th:only-of-type {\n",
       "        vertical-align: middle;\n",
       "    }\n",
       "\n",
       "    .dataframe tbody tr th {\n",
       "        vertical-align: top;\n",
       "    }\n",
       "\n",
       "    .dataframe thead th {\n",
       "        text-align: right;\n",
       "    }\n",
       "</style>\n",
       "<table border=\"1\" class=\"dataframe\">\n",
       "  <thead>\n",
       "    <tr style=\"text-align: right;\">\n",
       "      <th></th>\n",
       "      <th>t_dat</th>\n",
       "      <th>customer_id</th>\n",
       "      <th>article_id</th>\n",
       "      <th>price</th>\n",
       "      <th>sales_channel_id</th>\n",
       "    </tr>\n",
       "  </thead>\n",
       "  <tbody>\n",
       "    <tr>\n",
       "      <th>4212358</th>\n",
       "      <td>2018-12-27</td>\n",
       "      <td>00000dbacae5abe5e23885899a1fa44253a17956c6d1c3...</td>\n",
       "      <td>625548001</td>\n",
       "      <td>0.044051</td>\n",
       "      <td>1</td>\n",
       "    </tr>\n",
       "    <tr>\n",
       "      <th>4212359</th>\n",
       "      <td>2018-12-27</td>\n",
       "      <td>00000dbacae5abe5e23885899a1fa44253a17956c6d1c3...</td>\n",
       "      <td>176209023</td>\n",
       "      <td>0.035576</td>\n",
       "      <td>1</td>\n",
       "    </tr>\n",
       "    <tr>\n",
       "      <th>4212360</th>\n",
       "      <td>2018-12-27</td>\n",
       "      <td>00000dbacae5abe5e23885899a1fa44253a17956c6d1c3...</td>\n",
       "      <td>627759010</td>\n",
       "      <td>0.030492</td>\n",
       "      <td>1</td>\n",
       "    </tr>\n",
       "    <tr>\n",
       "      <th>9663224</th>\n",
       "      <td>2019-05-02</td>\n",
       "      <td>00000dbacae5abe5e23885899a1fa44253a17956c6d1c3...</td>\n",
       "      <td>697138006</td>\n",
       "      <td>0.010153</td>\n",
       "      <td>2</td>\n",
       "    </tr>\n",
       "    <tr>\n",
       "      <th>10754876</th>\n",
       "      <td>2019-05-25</td>\n",
       "      <td>00000dbacae5abe5e23885899a1fa44253a17956c6d1c3...</td>\n",
       "      <td>568601006</td>\n",
       "      <td>0.050831</td>\n",
       "      <td>2</td>\n",
       "    </tr>\n",
       "    <tr>\n",
       "      <th>10754877</th>\n",
       "      <td>2019-05-25</td>\n",
       "      <td>00000dbacae5abe5e23885899a1fa44253a17956c6d1c3...</td>\n",
       "      <td>568601006</td>\n",
       "      <td>0.050831</td>\n",
       "      <td>2</td>\n",
       "    </tr>\n",
       "    <tr>\n",
       "      <th>14479578</th>\n",
       "      <td>2019-07-25</td>\n",
       "      <td>00000dbacae5abe5e23885899a1fa44253a17956c6d1c3...</td>\n",
       "      <td>607642008</td>\n",
       "      <td>0.012695</td>\n",
       "      <td>1</td>\n",
       "    </tr>\n",
       "    <tr>\n",
       "      <th>14479579</th>\n",
       "      <td>2019-07-25</td>\n",
       "      <td>00000dbacae5abe5e23885899a1fa44253a17956c6d1c3...</td>\n",
       "      <td>745232001</td>\n",
       "      <td>0.021169</td>\n",
       "      <td>1</td>\n",
       "    </tr>\n",
       "    <tr>\n",
       "      <th>16728347</th>\n",
       "      <td>2019-09-18</td>\n",
       "      <td>00000dbacae5abe5e23885899a1fa44253a17956c6d1c3...</td>\n",
       "      <td>656719005</td>\n",
       "      <td>0.044051</td>\n",
       "      <td>2</td>\n",
       "    </tr>\n",
       "    <tr>\n",
       "      <th>17074660</th>\n",
       "      <td>2019-09-28</td>\n",
       "      <td>00000dbacae5abe5e23885899a1fa44253a17956c6d1c3...</td>\n",
       "      <td>797065001</td>\n",
       "      <td>0.054220</td>\n",
       "      <td>2</td>\n",
       "    </tr>\n",
       "    <tr>\n",
       "      <th>17074661</th>\n",
       "      <td>2019-09-28</td>\n",
       "      <td>00000dbacae5abe5e23885899a1fa44253a17956c6d1c3...</td>\n",
       "      <td>797065001</td>\n",
       "      <td>0.054220</td>\n",
       "      <td>2</td>\n",
       "    </tr>\n",
       "    <tr>\n",
       "      <th>19160879</th>\n",
       "      <td>2019-11-22</td>\n",
       "      <td>00000dbacae5abe5e23885899a1fa44253a17956c6d1c3...</td>\n",
       "      <td>785186005</td>\n",
       "      <td>0.016932</td>\n",
       "      <td>2</td>\n",
       "    </tr>\n",
       "    <tr>\n",
       "      <th>19357364</th>\n",
       "      <td>2019-11-28</td>\n",
       "      <td>00000dbacae5abe5e23885899a1fa44253a17956c6d1c3...</td>\n",
       "      <td>694736004</td>\n",
       "      <td>0.018288</td>\n",
       "      <td>1</td>\n",
       "    </tr>\n",
       "    <tr>\n",
       "      <th>19357365</th>\n",
       "      <td>2019-11-28</td>\n",
       "      <td>00000dbacae5abe5e23885899a1fa44253a17956c6d1c3...</td>\n",
       "      <td>785710001</td>\n",
       "      <td>0.024407</td>\n",
       "      <td>1</td>\n",
       "    </tr>\n",
       "    <tr>\n",
       "      <th>19357366</th>\n",
       "      <td>2019-11-28</td>\n",
       "      <td>00000dbacae5abe5e23885899a1fa44253a17956c6d1c3...</td>\n",
       "      <td>812683013</td>\n",
       "      <td>0.036593</td>\n",
       "      <td>1</td>\n",
       "    </tr>\n",
       "    <tr>\n",
       "      <th>23574620</th>\n",
       "      <td>2020-03-21</td>\n",
       "      <td>00000dbacae5abe5e23885899a1fa44253a17956c6d1c3...</td>\n",
       "      <td>841260003</td>\n",
       "      <td>0.011508</td>\n",
       "      <td>2</td>\n",
       "    </tr>\n",
       "    <tr>\n",
       "      <th>23574621</th>\n",
       "      <td>2020-03-21</td>\n",
       "      <td>00000dbacae5abe5e23885899a1fa44253a17956c6d1c3...</td>\n",
       "      <td>887593002</td>\n",
       "      <td>0.021593</td>\n",
       "      <td>2</td>\n",
       "    </tr>\n",
       "    <tr>\n",
       "      <th>23574622</th>\n",
       "      <td>2020-03-21</td>\n",
       "      <td>00000dbacae5abe5e23885899a1fa44253a17956c6d1c3...</td>\n",
       "      <td>890498002</td>\n",
       "      <td>0.031763</td>\n",
       "      <td>2</td>\n",
       "    </tr>\n",
       "    <tr>\n",
       "      <th>23574623</th>\n",
       "      <td>2020-03-21</td>\n",
       "      <td>00000dbacae5abe5e23885899a1fa44253a17956c6d1c3...</td>\n",
       "      <td>795440001</td>\n",
       "      <td>0.014390</td>\n",
       "      <td>2</td>\n",
       "    </tr>\n",
       "    <tr>\n",
       "      <th>23574624</th>\n",
       "      <td>2020-03-21</td>\n",
       "      <td>00000dbacae5abe5e23885899a1fa44253a17956c6d1c3...</td>\n",
       "      <td>859416011</td>\n",
       "      <td>0.014390</td>\n",
       "      <td>2</td>\n",
       "    </tr>\n",
       "    <tr>\n",
       "      <th>31140481</th>\n",
       "      <td>2020-09-05</td>\n",
       "      <td>00000dbacae5abe5e23885899a1fa44253a17956c6d1c3...</td>\n",
       "      <td>568601043</td>\n",
       "      <td>0.050831</td>\n",
       "      <td>1</td>\n",
       "    </tr>\n",
       "  </tbody>\n",
       "</table>\n",
       "</div>"
      ],
      "text/plain": [
       "               t_dat                                        customer_id  \\\n",
       "4212358   2018-12-27  00000dbacae5abe5e23885899a1fa44253a17956c6d1c3...   \n",
       "4212359   2018-12-27  00000dbacae5abe5e23885899a1fa44253a17956c6d1c3...   \n",
       "4212360   2018-12-27  00000dbacae5abe5e23885899a1fa44253a17956c6d1c3...   \n",
       "9663224   2019-05-02  00000dbacae5abe5e23885899a1fa44253a17956c6d1c3...   \n",
       "10754876  2019-05-25  00000dbacae5abe5e23885899a1fa44253a17956c6d1c3...   \n",
       "10754877  2019-05-25  00000dbacae5abe5e23885899a1fa44253a17956c6d1c3...   \n",
       "14479578  2019-07-25  00000dbacae5abe5e23885899a1fa44253a17956c6d1c3...   \n",
       "14479579  2019-07-25  00000dbacae5abe5e23885899a1fa44253a17956c6d1c3...   \n",
       "16728347  2019-09-18  00000dbacae5abe5e23885899a1fa44253a17956c6d1c3...   \n",
       "17074660  2019-09-28  00000dbacae5abe5e23885899a1fa44253a17956c6d1c3...   \n",
       "17074661  2019-09-28  00000dbacae5abe5e23885899a1fa44253a17956c6d1c3...   \n",
       "19160879  2019-11-22  00000dbacae5abe5e23885899a1fa44253a17956c6d1c3...   \n",
       "19357364  2019-11-28  00000dbacae5abe5e23885899a1fa44253a17956c6d1c3...   \n",
       "19357365  2019-11-28  00000dbacae5abe5e23885899a1fa44253a17956c6d1c3...   \n",
       "19357366  2019-11-28  00000dbacae5abe5e23885899a1fa44253a17956c6d1c3...   \n",
       "23574620  2020-03-21  00000dbacae5abe5e23885899a1fa44253a17956c6d1c3...   \n",
       "23574621  2020-03-21  00000dbacae5abe5e23885899a1fa44253a17956c6d1c3...   \n",
       "23574622  2020-03-21  00000dbacae5abe5e23885899a1fa44253a17956c6d1c3...   \n",
       "23574623  2020-03-21  00000dbacae5abe5e23885899a1fa44253a17956c6d1c3...   \n",
       "23574624  2020-03-21  00000dbacae5abe5e23885899a1fa44253a17956c6d1c3...   \n",
       "31140481  2020-09-05  00000dbacae5abe5e23885899a1fa44253a17956c6d1c3...   \n",
       "\n",
       "          article_id     price  sales_channel_id  \n",
       "4212358    625548001  0.044051                 1  \n",
       "4212359    176209023  0.035576                 1  \n",
       "4212360    627759010  0.030492                 1  \n",
       "9663224    697138006  0.010153                 2  \n",
       "10754876   568601006  0.050831                 2  \n",
       "10754877   568601006  0.050831                 2  \n",
       "14479578   607642008  0.012695                 1  \n",
       "14479579   745232001  0.021169                 1  \n",
       "16728347   656719005  0.044051                 2  \n",
       "17074660   797065001  0.054220                 2  \n",
       "17074661   797065001  0.054220                 2  \n",
       "19160879   785186005  0.016932                 2  \n",
       "19357364   694736004  0.018288                 1  \n",
       "19357365   785710001  0.024407                 1  \n",
       "19357366   812683013  0.036593                 1  \n",
       "23574620   841260003  0.011508                 2  \n",
       "23574621   887593002  0.021593                 2  \n",
       "23574622   890498002  0.031763                 2  \n",
       "23574623   795440001  0.014390                 2  \n",
       "23574624   859416011  0.014390                 2  \n",
       "31140481   568601043  0.050831                 1  "
      ]
     },
     "execution_count": 165,
     "metadata": {},
     "output_type": "execute_result"
    }
   ],
   "source": [
    "trans_train[trans_train[\"customer_id\"] == '00000dbacae5abe5e23885899a1fa44253a17956c6d1c3d25f88aa139fdfc657']"
   ]
  },
  {
   "cell_type": "code",
   "execution_count": 152,
   "id": "780cd270",
   "metadata": {
    "scrolled": true
   },
   "outputs": [],
   "source": [
    "image_embeddings = pd.read_csv(\"C:/Users/ojubh\\/Desktop/SEMESTER 2/Deep Learning/Final_Project/data/visual_embeddings_final.csv\")"
   ]
  },
  {
   "cell_type": "code",
   "execution_count": 166,
   "id": "b02939ea",
   "metadata": {},
   "outputs": [
    {
     "data": {
      "text/html": [
       "<div>\n",
       "<style scoped>\n",
       "    .dataframe tbody tr th:only-of-type {\n",
       "        vertical-align: middle;\n",
       "    }\n",
       "\n",
       "    .dataframe tbody tr th {\n",
       "        vertical-align: top;\n",
       "    }\n",
       "\n",
       "    .dataframe thead th {\n",
       "        text-align: right;\n",
       "    }\n",
       "</style>\n",
       "<table border=\"1\" class=\"dataframe\">\n",
       "  <thead>\n",
       "    <tr style=\"text-align: right;\">\n",
       "      <th></th>\n",
       "      <th>Unnamed: 0</th>\n",
       "      <th>feature_0</th>\n",
       "      <th>feature_1</th>\n",
       "      <th>feature_2</th>\n",
       "      <th>feature_3</th>\n",
       "      <th>feature_4</th>\n",
       "      <th>feature_5</th>\n",
       "      <th>feature_6</th>\n",
       "      <th>feature_7</th>\n",
       "      <th>feature_8</th>\n",
       "      <th>...</th>\n",
       "      <th>feature_247</th>\n",
       "      <th>feature_248</th>\n",
       "      <th>feature_249</th>\n",
       "      <th>feature_250</th>\n",
       "      <th>feature_251</th>\n",
       "      <th>feature_252</th>\n",
       "      <th>feature_253</th>\n",
       "      <th>feature_254</th>\n",
       "      <th>feature_255</th>\n",
       "      <th>article_id</th>\n",
       "    </tr>\n",
       "  </thead>\n",
       "  <tbody>\n",
       "    <tr>\n",
       "      <th>6318</th>\n",
       "      <td>6318</td>\n",
       "      <td>0.005906</td>\n",
       "      <td>-0.038544</td>\n",
       "      <td>0.112788</td>\n",
       "      <td>-0.001114</td>\n",
       "      <td>-0.047949</td>\n",
       "      <td>0.025035</td>\n",
       "      <td>0.037177</td>\n",
       "      <td>0.068184</td>\n",
       "      <td>-0.008321</td>\n",
       "      <td>...</td>\n",
       "      <td>-0.005186</td>\n",
       "      <td>-0.023714</td>\n",
       "      <td>0.015461</td>\n",
       "      <td>-0.056606</td>\n",
       "      <td>-0.026489</td>\n",
       "      <td>-0.094524</td>\n",
       "      <td>-0.011572</td>\n",
       "      <td>-0.099016</td>\n",
       "      <td>-0.022905</td>\n",
       "      <td>625548001</td>\n",
       "    </tr>\n",
       "  </tbody>\n",
       "</table>\n",
       "<p>1 rows × 258 columns</p>\n",
       "</div>"
      ],
      "text/plain": [
       "      Unnamed: 0  feature_0  feature_1  feature_2  feature_3  feature_4  \\\n",
       "6318        6318   0.005906  -0.038544   0.112788  -0.001114  -0.047949   \n",
       "\n",
       "      feature_5  feature_6  feature_7  feature_8  ...  feature_247  \\\n",
       "6318   0.025035   0.037177   0.068184  -0.008321  ...    -0.005186   \n",
       "\n",
       "      feature_248  feature_249  feature_250  feature_251  feature_252  \\\n",
       "6318    -0.023714     0.015461    -0.056606    -0.026489    -0.094524   \n",
       "\n",
       "      feature_253  feature_254  feature_255  article_id  \n",
       "6318    -0.011572    -0.099016    -0.022905   625548001  \n",
       "\n",
       "[1 rows x 258 columns]"
      ]
     },
     "execution_count": 166,
     "metadata": {},
     "output_type": "execute_result"
    }
   ],
   "source": [
    "image_embeddings[image_embeddings[\"article_id\"] == 625548001]"
   ]
  },
  {
   "cell_type": "code",
   "execution_count": 105,
   "id": "b20f3891",
   "metadata": {},
   "outputs": [],
   "source": [
    "merged_customer_data = sample_sub.merge(trans_train, on=\"customer_id\", how=\"inner\")"
   ]
  },
  {
   "cell_type": "code",
   "execution_count": 106,
   "id": "a2dee5cb",
   "metadata": {},
   "outputs": [],
   "source": [
    "merged_customer_data.drop(['t_dat', 'price', 'sales_channel_id'], inplace=True, axis=1)"
   ]
  },
  {
   "cell_type": "code",
   "execution_count": 107,
   "id": "08a721df",
   "metadata": {},
   "outputs": [],
   "source": [
    "customer_group = merged_customer_data.groupby(\"customer_id\")"
   ]
  },
  {
   "cell_type": "code",
   "execution_count": 161,
   "id": "417d6afd",
   "metadata": {},
   "outputs": [
    {
     "data": {
      "text/plain": [
       "1362281"
      ]
     },
     "execution_count": 161,
     "metadata": {},
     "output_type": "execute_result"
    }
   ],
   "source": [
    "len(customer_group)"
   ]
  },
  {
   "cell_type": "code",
   "execution_count": 113,
   "id": "70668e38",
   "metadata": {},
   "outputs": [],
   "source": [
    "image_embeddings.drop(\"article_id\", inplace=True, axis=1)\n",
    "image_embeddings.drop(\"Unnamed: 0\", axis=1, inplace=True)\n"
   ]
  },
  {
   "cell_type": "code",
   "execution_count": 118,
   "id": "71cfe07d",
   "metadata": {},
   "outputs": [],
   "source": [
    "x_train = image_embeddings.to_numpy()"
   ]
  },
  {
   "cell_type": "code",
   "execution_count": 119,
   "id": "ff916d20",
   "metadata": {},
   "outputs": [
    {
     "data": {
      "text/plain": [
       "NearestNeighbors(n_neighbors=12)"
      ]
     },
     "execution_count": 119,
     "metadata": {},
     "output_type": "execute_result"
    }
   ],
   "source": [
    "neigh = \n",
    "neigh.fit(x_train)"
   ]
  },
  {
   "cell_type": "code",
   "execution_count": null,
   "id": "d0617f04",
   "metadata": {},
   "outputs": [],
   "source": [
    "## 4 articles, sum up over all featurss/ len()\n",
    "## numpy_arr = [...]"
   ]
  },
  {
   "cell_type": "code",
   "execution_count": 121,
   "id": "1eb53460",
   "metadata": {},
   "outputs": [
    {
     "data": {
      "text/plain": [
       "(array([[0.        , 0.1990896 , 0.22100405, 0.24072063, 0.2425537 ,\n",
       "         0.24804528, 0.248834  , 0.25008156, 0.25129139, 0.26048417,\n",
       "         0.26257267, 0.26783031]]),\n",
       " array([[    0,  3126, 20782, 18722,  3480,  7166,   285,  6675, 15009,\n",
       "         10820, 18750, 10864]], dtype=int64))"
      ]
     },
     "execution_count": 121,
     "metadata": {},
     "output_type": "execute_result"
    }
   ],
   "source": [
    "neigh.kneighbors(numpy_arr.reshape(1, -1))"
   ]
  },
  {
   "cell_type": "code",
   "execution_count": null,
   "id": "cd928dfa",
   "metadata": {},
   "outputs": [],
   "source": []
  }
 ],
 "metadata": {
  "kernelspec": {
   "display_name": "Python 3",
   "language": "python",
   "name": "python3"
  },
  "language_info": {
   "codemirror_mode": {
    "name": "ipython",
    "version": 3
   },
   "file_extension": ".py",
   "mimetype": "text/x-python",
   "name": "python",
   "nbconvert_exporter": "python",
   "pygments_lexer": "ipython3",
   "version": "3.8.8"
  }
 },
 "nbformat": 4,
 "nbformat_minor": 5
}
